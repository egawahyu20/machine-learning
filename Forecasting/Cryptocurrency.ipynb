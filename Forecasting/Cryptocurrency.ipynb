{
  "nbformat": 4,
  "nbformat_minor": 0,
  "metadata": {
    "colab": {
      "provenance": [],
      "collapsed_sections": []
    },
    "kernelspec": {
      "name": "python3",
      "display_name": "Python 3"
    },
    "language_info": {
      "name": "python"
    },
    "accelerator": "GPU",
    "gpuClass": "standard"
  },
  "cells": [
    {
      "cell_type": "markdown",
      "source": [
        "#Library and Dependecies"
      ],
      "metadata": {
        "id": "CvOOl10mQ2Mq"
      }
    },
    {
      "cell_type": "code",
      "source": [
        "import os\n",
        "import numpy as np\n",
        "import pandas as pd\n",
        "import matplotlib.pyplot as plt\n",
        "import tensorflow as tf\n",
        "\n",
        "from tensorflow.keras.models import Sequential\n",
        "from tensorflow.keras.layers import Bidirectional, LSTM, Dense, Dropout\n",
        "from tensorflow.keras.losses import Huber\n",
        "from tensorflow.keras.optimizers import SGD\n",
        "from tensorflow.keras.callbacks import EarlyStopping\n",
        "from google.colab import drive\n",
        "from sklearn.model_selection import train_test_split\n",
        "from sklearn.preprocessing import MinMaxScaler"
      ],
      "metadata": {
        "id": "1vh3gYm6QpUD"
      },
      "execution_count": 2,
      "outputs": []
    },
    {
      "cell_type": "code",
      "execution_count": 2,
      "metadata": {
        "colab": {
          "base_uri": "https://localhost:8080/"
        },
        "id": "OkYRUjeULy70",
        "outputId": "84775562-d345-45b1-ff8c-bcda4610e289"
      },
      "outputs": [
        {
          "output_type": "stream",
          "name": "stdout",
          "text": [
            "Looking in indexes: https://pypi.org/simple, https://us-python.pkg.dev/colab-wheels/public/simple/\n",
            "Requirement already satisfied: kaggle in /usr/local/lib/python3.7/dist-packages (1.5.12)\n",
            "Requirement already satisfied: urllib3 in /usr/local/lib/python3.7/dist-packages (from kaggle) (1.24.3)\n",
            "Requirement already satisfied: python-dateutil in /usr/local/lib/python3.7/dist-packages (from kaggle) (2.8.2)\n",
            "Requirement already satisfied: tqdm in /usr/local/lib/python3.7/dist-packages (from kaggle) (4.64.1)\n",
            "Requirement already satisfied: certifi in /usr/local/lib/python3.7/dist-packages (from kaggle) (2022.6.15)\n",
            "Requirement already satisfied: python-slugify in /usr/local/lib/python3.7/dist-packages (from kaggle) (6.1.2)\n",
            "Requirement already satisfied: six>=1.10 in /usr/local/lib/python3.7/dist-packages (from kaggle) (1.15.0)\n",
            "Requirement already satisfied: requests in /usr/local/lib/python3.7/dist-packages (from kaggle) (2.23.0)\n",
            "Requirement already satisfied: text-unidecode>=1.3 in /usr/local/lib/python3.7/dist-packages (from python-slugify->kaggle) (1.3)\n",
            "Requirement already satisfied: chardet<4,>=3.0.2 in /usr/local/lib/python3.7/dist-packages (from requests->kaggle) (3.0.4)\n",
            "Requirement already satisfied: idna<3,>=2.5 in /usr/local/lib/python3.7/dist-packages (from requests->kaggle) (2.10)\n"
          ]
        }
      ],
      "source": [
        "!pip install kaggle"
      ]
    },
    {
      "cell_type": "markdown",
      "source": [
        "#Data preparation"
      ],
      "metadata": {
        "id": "x8odidt2Q8Dm"
      }
    },
    {
      "cell_type": "code",
      "source": [
        "drive.mount('/content/drive')"
      ],
      "metadata": {
        "colab": {
          "base_uri": "https://localhost:8080/"
        },
        "id": "I_aMvx7nQZA1",
        "outputId": "8da81725-188e-4269-bae3-5139609c48fd"
      },
      "execution_count": 3,
      "outputs": [
        {
          "output_type": "stream",
          "name": "stdout",
          "text": [
            "Mounted at /content/drive\n"
          ]
        }
      ]
    },
    {
      "cell_type": "code",
      "source": [
        "os.environ['KAGGLE_CONFIG_DIR'] = \"/content/drive/MyDrive/Kaggle\""
      ],
      "metadata": {
        "id": "W0-fbUY5Qb4O"
      },
      "execution_count": 4,
      "outputs": []
    },
    {
      "cell_type": "code",
      "source": [
        "%cd /content/drive/MyDrive/Kaggle"
      ],
      "metadata": {
        "colab": {
          "base_uri": "https://localhost:8080/"
        },
        "id": "eTVVqA1dQdgx",
        "outputId": "d7cdc132-1e23-4554-f67c-ad5b3b3e2e0c"
      },
      "execution_count": 5,
      "outputs": [
        {
          "output_type": "stream",
          "name": "stdout",
          "text": [
            "/content/drive/MyDrive/Kaggle\n"
          ]
        }
      ]
    },
    {
      "cell_type": "code",
      "source": [
        "!kaggle datasets download -d roopahegde/cryptocurrency-timeseries-2020"
      ],
      "metadata": {
        "colab": {
          "base_uri": "https://localhost:8080/"
        },
        "id": "eQ3HU3oOQhky",
        "outputId": "63067e30-c577-4e95-c072-d774b66f9f7e"
      },
      "execution_count": 6,
      "outputs": [
        {
          "output_type": "stream",
          "name": "stdout",
          "text": [
            "Downloading cryptocurrency-timeseries-2020.zip to /content/drive/MyDrive/Kaggle\n",
            " 75% 17.0M/22.7M [00:00<00:00, 50.1MB/s]\n",
            "100% 22.7M/22.7M [00:00<00:00, 66.7MB/s]\n"
          ]
        }
      ]
    },
    {
      "cell_type": "code",
      "source": [
        "!unzip \\*.zip && rm *.zip"
      ],
      "metadata": {
        "colab": {
          "base_uri": "https://localhost:8080/"
        },
        "id": "6EELEoynQmpW",
        "outputId": "dafa0d1f-9ef2-4718-eb03-8549cdc5884b"
      },
      "execution_count": 7,
      "outputs": [
        {
          "output_type": "stream",
          "name": "stdout",
          "text": [
            "Archive:  cryptocurrency-timeseries-2020.zip\n",
            "  inflating: gemini_BTCUSD_2020_1min.csv  \n",
            "  inflating: gemini_ETHUSD_2020_1min.csv  \n",
            "  inflating: gemini_LTCUSD_2020_1min.csv  \n"
          ]
        }
      ]
    },
    {
      "cell_type": "code",
      "source": [
        "df = pd.read_csv('gemini_BTCUSD_2020_1min.csv')\n",
        "df"
      ],
      "metadata": {
        "colab": {
          "base_uri": "https://localhost:8080/",
          "height": 424
        },
        "id": "9tvWSKC6RZIj",
        "outputId": "f3140767-6ecd-4a24-ac7e-029e1b4d8a66"
      },
      "execution_count": 29,
      "outputs": [
        {
          "output_type": "execute_result",
          "data": {
            "text/plain": [
              "        Unix Timestamp             Date  Symbol      Open      High       Low  \\\n",
              "0         1.618880e+12   4/20/2021 0:02  BTCUSD  55717.47  55723.00  55541.69   \n",
              "1         1.618880e+12   4/20/2021 0:01  BTCUSD  55768.94  55849.82  55711.74   \n",
              "2         1.618880e+12   4/20/2021 0:00  BTCUSD  55691.79  55793.15  55691.79   \n",
              "3         1.618880e+12  4/19/2021 23:59  BTCUSD  55777.86  55777.86  55677.92   \n",
              "4         1.618880e+12  4/19/2021 23:58  BTCUSD  55803.50  55823.88  55773.08   \n",
              "...                ...              ...     ...       ...       ...       ...   \n",
              "658060    1.577840e+12    1/1/2020 0:04  BTCUSD   7163.60   7163.60   7163.00   \n",
              "658061    1.577840e+12    1/1/2020 0:03  BTCUSD   7163.00   7163.60   7163.00   \n",
              "658062    1.577840e+12    1/1/2020 0:02  BTCUSD   7163.30   7164.22   7163.00   \n",
              "658063    1.577840e+12    1/1/2020 0:01  BTCUSD   7163.30   7164.23   7163.30   \n",
              "658064    1.577840e+12    1/1/2020 0:00  BTCUSD   7165.90   7170.79   7163.30   \n",
              "\n",
              "           Close    Volume  \n",
              "0       55541.69  2.406734  \n",
              "1       55717.47  0.573458  \n",
              "2       55768.94  3.309904  \n",
              "3       55691.79  0.684934  \n",
              "4       55777.86  0.477225  \n",
              "...          ...       ...  \n",
              "658060   7163.00  1.751844  \n",
              "658061   7163.60  0.002706  \n",
              "658062   7163.00  0.063904  \n",
              "658063   7163.30  0.002646  \n",
              "658064   7163.30  0.007931  \n",
              "\n",
              "[658065 rows x 8 columns]"
            ],
            "text/html": [
              "\n",
              "  <div id=\"df-66017947-7f91-4959-a04d-11bb241cbaf1\">\n",
              "    <div class=\"colab-df-container\">\n",
              "      <div>\n",
              "<style scoped>\n",
              "    .dataframe tbody tr th:only-of-type {\n",
              "        vertical-align: middle;\n",
              "    }\n",
              "\n",
              "    .dataframe tbody tr th {\n",
              "        vertical-align: top;\n",
              "    }\n",
              "\n",
              "    .dataframe thead th {\n",
              "        text-align: right;\n",
              "    }\n",
              "</style>\n",
              "<table border=\"1\" class=\"dataframe\">\n",
              "  <thead>\n",
              "    <tr style=\"text-align: right;\">\n",
              "      <th></th>\n",
              "      <th>Unix Timestamp</th>\n",
              "      <th>Date</th>\n",
              "      <th>Symbol</th>\n",
              "      <th>Open</th>\n",
              "      <th>High</th>\n",
              "      <th>Low</th>\n",
              "      <th>Close</th>\n",
              "      <th>Volume</th>\n",
              "    </tr>\n",
              "  </thead>\n",
              "  <tbody>\n",
              "    <tr>\n",
              "      <th>0</th>\n",
              "      <td>1.618880e+12</td>\n",
              "      <td>4/20/2021 0:02</td>\n",
              "      <td>BTCUSD</td>\n",
              "      <td>55717.47</td>\n",
              "      <td>55723.00</td>\n",
              "      <td>55541.69</td>\n",
              "      <td>55541.69</td>\n",
              "      <td>2.406734</td>\n",
              "    </tr>\n",
              "    <tr>\n",
              "      <th>1</th>\n",
              "      <td>1.618880e+12</td>\n",
              "      <td>4/20/2021 0:01</td>\n",
              "      <td>BTCUSD</td>\n",
              "      <td>55768.94</td>\n",
              "      <td>55849.82</td>\n",
              "      <td>55711.74</td>\n",
              "      <td>55717.47</td>\n",
              "      <td>0.573458</td>\n",
              "    </tr>\n",
              "    <tr>\n",
              "      <th>2</th>\n",
              "      <td>1.618880e+12</td>\n",
              "      <td>4/20/2021 0:00</td>\n",
              "      <td>BTCUSD</td>\n",
              "      <td>55691.79</td>\n",
              "      <td>55793.15</td>\n",
              "      <td>55691.79</td>\n",
              "      <td>55768.94</td>\n",
              "      <td>3.309904</td>\n",
              "    </tr>\n",
              "    <tr>\n",
              "      <th>3</th>\n",
              "      <td>1.618880e+12</td>\n",
              "      <td>4/19/2021 23:59</td>\n",
              "      <td>BTCUSD</td>\n",
              "      <td>55777.86</td>\n",
              "      <td>55777.86</td>\n",
              "      <td>55677.92</td>\n",
              "      <td>55691.79</td>\n",
              "      <td>0.684934</td>\n",
              "    </tr>\n",
              "    <tr>\n",
              "      <th>4</th>\n",
              "      <td>1.618880e+12</td>\n",
              "      <td>4/19/2021 23:58</td>\n",
              "      <td>BTCUSD</td>\n",
              "      <td>55803.50</td>\n",
              "      <td>55823.88</td>\n",
              "      <td>55773.08</td>\n",
              "      <td>55777.86</td>\n",
              "      <td>0.477225</td>\n",
              "    </tr>\n",
              "    <tr>\n",
              "      <th>...</th>\n",
              "      <td>...</td>\n",
              "      <td>...</td>\n",
              "      <td>...</td>\n",
              "      <td>...</td>\n",
              "      <td>...</td>\n",
              "      <td>...</td>\n",
              "      <td>...</td>\n",
              "      <td>...</td>\n",
              "    </tr>\n",
              "    <tr>\n",
              "      <th>658060</th>\n",
              "      <td>1.577840e+12</td>\n",
              "      <td>1/1/2020 0:04</td>\n",
              "      <td>BTCUSD</td>\n",
              "      <td>7163.60</td>\n",
              "      <td>7163.60</td>\n",
              "      <td>7163.00</td>\n",
              "      <td>7163.00</td>\n",
              "      <td>1.751844</td>\n",
              "    </tr>\n",
              "    <tr>\n",
              "      <th>658061</th>\n",
              "      <td>1.577840e+12</td>\n",
              "      <td>1/1/2020 0:03</td>\n",
              "      <td>BTCUSD</td>\n",
              "      <td>7163.00</td>\n",
              "      <td>7163.60</td>\n",
              "      <td>7163.00</td>\n",
              "      <td>7163.60</td>\n",
              "      <td>0.002706</td>\n",
              "    </tr>\n",
              "    <tr>\n",
              "      <th>658062</th>\n",
              "      <td>1.577840e+12</td>\n",
              "      <td>1/1/2020 0:02</td>\n",
              "      <td>BTCUSD</td>\n",
              "      <td>7163.30</td>\n",
              "      <td>7164.22</td>\n",
              "      <td>7163.00</td>\n",
              "      <td>7163.00</td>\n",
              "      <td>0.063904</td>\n",
              "    </tr>\n",
              "    <tr>\n",
              "      <th>658063</th>\n",
              "      <td>1.577840e+12</td>\n",
              "      <td>1/1/2020 0:01</td>\n",
              "      <td>BTCUSD</td>\n",
              "      <td>7163.30</td>\n",
              "      <td>7164.23</td>\n",
              "      <td>7163.30</td>\n",
              "      <td>7163.30</td>\n",
              "      <td>0.002646</td>\n",
              "    </tr>\n",
              "    <tr>\n",
              "      <th>658064</th>\n",
              "      <td>1.577840e+12</td>\n",
              "      <td>1/1/2020 0:00</td>\n",
              "      <td>BTCUSD</td>\n",
              "      <td>7165.90</td>\n",
              "      <td>7170.79</td>\n",
              "      <td>7163.30</td>\n",
              "      <td>7163.30</td>\n",
              "      <td>0.007931</td>\n",
              "    </tr>\n",
              "  </tbody>\n",
              "</table>\n",
              "<p>658065 rows × 8 columns</p>\n",
              "</div>\n",
              "      <button class=\"colab-df-convert\" onclick=\"convertToInteractive('df-66017947-7f91-4959-a04d-11bb241cbaf1')\"\n",
              "              title=\"Convert this dataframe to an interactive table.\"\n",
              "              style=\"display:none;\">\n",
              "        \n",
              "  <svg xmlns=\"http://www.w3.org/2000/svg\" height=\"24px\"viewBox=\"0 0 24 24\"\n",
              "       width=\"24px\">\n",
              "    <path d=\"M0 0h24v24H0V0z\" fill=\"none\"/>\n",
              "    <path d=\"M18.56 5.44l.94 2.06.94-2.06 2.06-.94-2.06-.94-.94-2.06-.94 2.06-2.06.94zm-11 1L8.5 8.5l.94-2.06 2.06-.94-2.06-.94L8.5 2.5l-.94 2.06-2.06.94zm10 10l.94 2.06.94-2.06 2.06-.94-2.06-.94-.94-2.06-.94 2.06-2.06.94z\"/><path d=\"M17.41 7.96l-1.37-1.37c-.4-.4-.92-.59-1.43-.59-.52 0-1.04.2-1.43.59L10.3 9.45l-7.72 7.72c-.78.78-.78 2.05 0 2.83L4 21.41c.39.39.9.59 1.41.59.51 0 1.02-.2 1.41-.59l7.78-7.78 2.81-2.81c.8-.78.8-2.07 0-2.86zM5.41 20L4 18.59l7.72-7.72 1.47 1.35L5.41 20z\"/>\n",
              "  </svg>\n",
              "      </button>\n",
              "      \n",
              "  <style>\n",
              "    .colab-df-container {\n",
              "      display:flex;\n",
              "      flex-wrap:wrap;\n",
              "      gap: 12px;\n",
              "    }\n",
              "\n",
              "    .colab-df-convert {\n",
              "      background-color: #E8F0FE;\n",
              "      border: none;\n",
              "      border-radius: 50%;\n",
              "      cursor: pointer;\n",
              "      display: none;\n",
              "      fill: #1967D2;\n",
              "      height: 32px;\n",
              "      padding: 0 0 0 0;\n",
              "      width: 32px;\n",
              "    }\n",
              "\n",
              "    .colab-df-convert:hover {\n",
              "      background-color: #E2EBFA;\n",
              "      box-shadow: 0px 1px 2px rgba(60, 64, 67, 0.3), 0px 1px 3px 1px rgba(60, 64, 67, 0.15);\n",
              "      fill: #174EA6;\n",
              "    }\n",
              "\n",
              "    [theme=dark] .colab-df-convert {\n",
              "      background-color: #3B4455;\n",
              "      fill: #D2E3FC;\n",
              "    }\n",
              "\n",
              "    [theme=dark] .colab-df-convert:hover {\n",
              "      background-color: #434B5C;\n",
              "      box-shadow: 0px 1px 3px 1px rgba(0, 0, 0, 0.15);\n",
              "      filter: drop-shadow(0px 1px 2px rgba(0, 0, 0, 0.3));\n",
              "      fill: #FFFFFF;\n",
              "    }\n",
              "  </style>\n",
              "\n",
              "      <script>\n",
              "        const buttonEl =\n",
              "          document.querySelector('#df-66017947-7f91-4959-a04d-11bb241cbaf1 button.colab-df-convert');\n",
              "        buttonEl.style.display =\n",
              "          google.colab.kernel.accessAllowed ? 'block' : 'none';\n",
              "\n",
              "        async function convertToInteractive(key) {\n",
              "          const element = document.querySelector('#df-66017947-7f91-4959-a04d-11bb241cbaf1');\n",
              "          const dataTable =\n",
              "            await google.colab.kernel.invokeFunction('convertToInteractive',\n",
              "                                                     [key], {});\n",
              "          if (!dataTable) return;\n",
              "\n",
              "          const docLinkHtml = 'Like what you see? Visit the ' +\n",
              "            '<a target=\"_blank\" href=https://colab.research.google.com/notebooks/data_table.ipynb>data table notebook</a>'\n",
              "            + ' to learn more about interactive tables.';\n",
              "          element.innerHTML = '';\n",
              "          dataTable['output_type'] = 'display_data';\n",
              "          await google.colab.output.renderOutput(dataTable, element);\n",
              "          const docLink = document.createElement('div');\n",
              "          docLink.innerHTML = docLinkHtml;\n",
              "          element.appendChild(docLink);\n",
              "        }\n",
              "      </script>\n",
              "    </div>\n",
              "  </div>\n",
              "  "
            ]
          },
          "metadata": {},
          "execution_count": 29
        }
      ]
    },
    {
      "cell_type": "markdown",
      "source": [
        "#Data preprocessing"
      ],
      "metadata": {
        "id": "5FbqW4HhOMGy"
      }
    },
    {
      "cell_type": "code",
      "source": [
        "df['Date'] = pd.to_datetime(df['Date'])\n",
        "df.sort_values(by='Date', inplace=True)\n",
        "df"
      ],
      "metadata": {
        "colab": {
          "base_uri": "https://localhost:8080/",
          "height": 424
        },
        "id": "-fnRQmsSRwbr",
        "outputId": "24734e3e-a43b-4f73-cc9f-18aad681ea4c"
      },
      "execution_count": 7,
      "outputs": [
        {
          "output_type": "execute_result",
          "data": {
            "text/plain": [
              "        Unix Timestamp                Date  Symbol      Open      High  \\\n",
              "658064    1.577840e+12 2020-01-01 00:00:00  BTCUSD   7165.90   7170.79   \n",
              "658063    1.577840e+12 2020-01-01 00:01:00  BTCUSD   7163.30   7164.23   \n",
              "658062    1.577840e+12 2020-01-01 00:02:00  BTCUSD   7163.30   7164.22   \n",
              "658061    1.577840e+12 2020-01-01 00:03:00  BTCUSD   7163.00   7163.60   \n",
              "658060    1.577840e+12 2020-01-01 00:04:00  BTCUSD   7163.60   7163.60   \n",
              "...                ...                 ...     ...       ...       ...   \n",
              "4         1.618880e+12 2021-04-19 23:58:00  BTCUSD  55803.50  55823.88   \n",
              "3         1.618880e+12 2021-04-19 23:59:00  BTCUSD  55777.86  55777.86   \n",
              "2         1.618880e+12 2021-04-20 00:00:00  BTCUSD  55691.79  55793.15   \n",
              "1         1.618880e+12 2021-04-20 00:01:00  BTCUSD  55768.94  55849.82   \n",
              "0         1.618880e+12 2021-04-20 00:02:00  BTCUSD  55717.47  55723.00   \n",
              "\n",
              "             Low     Close    Volume  \n",
              "658064   7163.30   7163.30  0.007931  \n",
              "658063   7163.30   7163.30  0.002646  \n",
              "658062   7163.00   7163.00  0.063904  \n",
              "658061   7163.00   7163.60  0.002706  \n",
              "658060   7163.00   7163.00  1.751844  \n",
              "...          ...       ...       ...  \n",
              "4       55773.08  55777.86  0.477225  \n",
              "3       55677.92  55691.79  0.684934  \n",
              "2       55691.79  55768.94  3.309904  \n",
              "1       55711.74  55717.47  0.573458  \n",
              "0       55541.69  55541.69  2.406734  \n",
              "\n",
              "[658065 rows x 8 columns]"
            ],
            "text/html": [
              "\n",
              "  <div id=\"df-ae6d3fe7-afd5-426c-ad28-d4b093d8e7c2\">\n",
              "    <div class=\"colab-df-container\">\n",
              "      <div>\n",
              "<style scoped>\n",
              "    .dataframe tbody tr th:only-of-type {\n",
              "        vertical-align: middle;\n",
              "    }\n",
              "\n",
              "    .dataframe tbody tr th {\n",
              "        vertical-align: top;\n",
              "    }\n",
              "\n",
              "    .dataframe thead th {\n",
              "        text-align: right;\n",
              "    }\n",
              "</style>\n",
              "<table border=\"1\" class=\"dataframe\">\n",
              "  <thead>\n",
              "    <tr style=\"text-align: right;\">\n",
              "      <th></th>\n",
              "      <th>Unix Timestamp</th>\n",
              "      <th>Date</th>\n",
              "      <th>Symbol</th>\n",
              "      <th>Open</th>\n",
              "      <th>High</th>\n",
              "      <th>Low</th>\n",
              "      <th>Close</th>\n",
              "      <th>Volume</th>\n",
              "    </tr>\n",
              "  </thead>\n",
              "  <tbody>\n",
              "    <tr>\n",
              "      <th>658064</th>\n",
              "      <td>1.577840e+12</td>\n",
              "      <td>2020-01-01 00:00:00</td>\n",
              "      <td>BTCUSD</td>\n",
              "      <td>7165.90</td>\n",
              "      <td>7170.79</td>\n",
              "      <td>7163.30</td>\n",
              "      <td>7163.30</td>\n",
              "      <td>0.007931</td>\n",
              "    </tr>\n",
              "    <tr>\n",
              "      <th>658063</th>\n",
              "      <td>1.577840e+12</td>\n",
              "      <td>2020-01-01 00:01:00</td>\n",
              "      <td>BTCUSD</td>\n",
              "      <td>7163.30</td>\n",
              "      <td>7164.23</td>\n",
              "      <td>7163.30</td>\n",
              "      <td>7163.30</td>\n",
              "      <td>0.002646</td>\n",
              "    </tr>\n",
              "    <tr>\n",
              "      <th>658062</th>\n",
              "      <td>1.577840e+12</td>\n",
              "      <td>2020-01-01 00:02:00</td>\n",
              "      <td>BTCUSD</td>\n",
              "      <td>7163.30</td>\n",
              "      <td>7164.22</td>\n",
              "      <td>7163.00</td>\n",
              "      <td>7163.00</td>\n",
              "      <td>0.063904</td>\n",
              "    </tr>\n",
              "    <tr>\n",
              "      <th>658061</th>\n",
              "      <td>1.577840e+12</td>\n",
              "      <td>2020-01-01 00:03:00</td>\n",
              "      <td>BTCUSD</td>\n",
              "      <td>7163.00</td>\n",
              "      <td>7163.60</td>\n",
              "      <td>7163.00</td>\n",
              "      <td>7163.60</td>\n",
              "      <td>0.002706</td>\n",
              "    </tr>\n",
              "    <tr>\n",
              "      <th>658060</th>\n",
              "      <td>1.577840e+12</td>\n",
              "      <td>2020-01-01 00:04:00</td>\n",
              "      <td>BTCUSD</td>\n",
              "      <td>7163.60</td>\n",
              "      <td>7163.60</td>\n",
              "      <td>7163.00</td>\n",
              "      <td>7163.00</td>\n",
              "      <td>1.751844</td>\n",
              "    </tr>\n",
              "    <tr>\n",
              "      <th>...</th>\n",
              "      <td>...</td>\n",
              "      <td>...</td>\n",
              "      <td>...</td>\n",
              "      <td>...</td>\n",
              "      <td>...</td>\n",
              "      <td>...</td>\n",
              "      <td>...</td>\n",
              "      <td>...</td>\n",
              "    </tr>\n",
              "    <tr>\n",
              "      <th>4</th>\n",
              "      <td>1.618880e+12</td>\n",
              "      <td>2021-04-19 23:58:00</td>\n",
              "      <td>BTCUSD</td>\n",
              "      <td>55803.50</td>\n",
              "      <td>55823.88</td>\n",
              "      <td>55773.08</td>\n",
              "      <td>55777.86</td>\n",
              "      <td>0.477225</td>\n",
              "    </tr>\n",
              "    <tr>\n",
              "      <th>3</th>\n",
              "      <td>1.618880e+12</td>\n",
              "      <td>2021-04-19 23:59:00</td>\n",
              "      <td>BTCUSD</td>\n",
              "      <td>55777.86</td>\n",
              "      <td>55777.86</td>\n",
              "      <td>55677.92</td>\n",
              "      <td>55691.79</td>\n",
              "      <td>0.684934</td>\n",
              "    </tr>\n",
              "    <tr>\n",
              "      <th>2</th>\n",
              "      <td>1.618880e+12</td>\n",
              "      <td>2021-04-20 00:00:00</td>\n",
              "      <td>BTCUSD</td>\n",
              "      <td>55691.79</td>\n",
              "      <td>55793.15</td>\n",
              "      <td>55691.79</td>\n",
              "      <td>55768.94</td>\n",
              "      <td>3.309904</td>\n",
              "    </tr>\n",
              "    <tr>\n",
              "      <th>1</th>\n",
              "      <td>1.618880e+12</td>\n",
              "      <td>2021-04-20 00:01:00</td>\n",
              "      <td>BTCUSD</td>\n",
              "      <td>55768.94</td>\n",
              "      <td>55849.82</td>\n",
              "      <td>55711.74</td>\n",
              "      <td>55717.47</td>\n",
              "      <td>0.573458</td>\n",
              "    </tr>\n",
              "    <tr>\n",
              "      <th>0</th>\n",
              "      <td>1.618880e+12</td>\n",
              "      <td>2021-04-20 00:02:00</td>\n",
              "      <td>BTCUSD</td>\n",
              "      <td>55717.47</td>\n",
              "      <td>55723.00</td>\n",
              "      <td>55541.69</td>\n",
              "      <td>55541.69</td>\n",
              "      <td>2.406734</td>\n",
              "    </tr>\n",
              "  </tbody>\n",
              "</table>\n",
              "<p>658065 rows × 8 columns</p>\n",
              "</div>\n",
              "      <button class=\"colab-df-convert\" onclick=\"convertToInteractive('df-ae6d3fe7-afd5-426c-ad28-d4b093d8e7c2')\"\n",
              "              title=\"Convert this dataframe to an interactive table.\"\n",
              "              style=\"display:none;\">\n",
              "        \n",
              "  <svg xmlns=\"http://www.w3.org/2000/svg\" height=\"24px\"viewBox=\"0 0 24 24\"\n",
              "       width=\"24px\">\n",
              "    <path d=\"M0 0h24v24H0V0z\" fill=\"none\"/>\n",
              "    <path d=\"M18.56 5.44l.94 2.06.94-2.06 2.06-.94-2.06-.94-.94-2.06-.94 2.06-2.06.94zm-11 1L8.5 8.5l.94-2.06 2.06-.94-2.06-.94L8.5 2.5l-.94 2.06-2.06.94zm10 10l.94 2.06.94-2.06 2.06-.94-2.06-.94-.94-2.06-.94 2.06-2.06.94z\"/><path d=\"M17.41 7.96l-1.37-1.37c-.4-.4-.92-.59-1.43-.59-.52 0-1.04.2-1.43.59L10.3 9.45l-7.72 7.72c-.78.78-.78 2.05 0 2.83L4 21.41c.39.39.9.59 1.41.59.51 0 1.02-.2 1.41-.59l7.78-7.78 2.81-2.81c.8-.78.8-2.07 0-2.86zM5.41 20L4 18.59l7.72-7.72 1.47 1.35L5.41 20z\"/>\n",
              "  </svg>\n",
              "      </button>\n",
              "      \n",
              "  <style>\n",
              "    .colab-df-container {\n",
              "      display:flex;\n",
              "      flex-wrap:wrap;\n",
              "      gap: 12px;\n",
              "    }\n",
              "\n",
              "    .colab-df-convert {\n",
              "      background-color: #E8F0FE;\n",
              "      border: none;\n",
              "      border-radius: 50%;\n",
              "      cursor: pointer;\n",
              "      display: none;\n",
              "      fill: #1967D2;\n",
              "      height: 32px;\n",
              "      padding: 0 0 0 0;\n",
              "      width: 32px;\n",
              "    }\n",
              "\n",
              "    .colab-df-convert:hover {\n",
              "      background-color: #E2EBFA;\n",
              "      box-shadow: 0px 1px 2px rgba(60, 64, 67, 0.3), 0px 1px 3px 1px rgba(60, 64, 67, 0.15);\n",
              "      fill: #174EA6;\n",
              "    }\n",
              "\n",
              "    [theme=dark] .colab-df-convert {\n",
              "      background-color: #3B4455;\n",
              "      fill: #D2E3FC;\n",
              "    }\n",
              "\n",
              "    [theme=dark] .colab-df-convert:hover {\n",
              "      background-color: #434B5C;\n",
              "      box-shadow: 0px 1px 3px 1px rgba(0, 0, 0, 0.15);\n",
              "      filter: drop-shadow(0px 1px 2px rgba(0, 0, 0, 0.3));\n",
              "      fill: #FFFFFF;\n",
              "    }\n",
              "  </style>\n",
              "\n",
              "      <script>\n",
              "        const buttonEl =\n",
              "          document.querySelector('#df-ae6d3fe7-afd5-426c-ad28-d4b093d8e7c2 button.colab-df-convert');\n",
              "        buttonEl.style.display =\n",
              "          google.colab.kernel.accessAllowed ? 'block' : 'none';\n",
              "\n",
              "        async function convertToInteractive(key) {\n",
              "          const element = document.querySelector('#df-ae6d3fe7-afd5-426c-ad28-d4b093d8e7c2');\n",
              "          const dataTable =\n",
              "            await google.colab.kernel.invokeFunction('convertToInteractive',\n",
              "                                                     [key], {});\n",
              "          if (!dataTable) return;\n",
              "\n",
              "          const docLinkHtml = 'Like what you see? Visit the ' +\n",
              "            '<a target=\"_blank\" href=https://colab.research.google.com/notebooks/data_table.ipynb>data table notebook</a>'\n",
              "            + ' to learn more about interactive tables.';\n",
              "          element.innerHTML = '';\n",
              "          dataTable['output_type'] = 'display_data';\n",
              "          await google.colab.output.renderOutput(dataTable, element);\n",
              "          const docLink = document.createElement('div');\n",
              "          docLink.innerHTML = docLinkHtml;\n",
              "          element.appendChild(docLink);\n",
              "        }\n",
              "      </script>\n",
              "    </div>\n",
              "  </div>\n",
              "  "
            ]
          },
          "metadata": {},
          "execution_count": 7
        }
      ]
    },
    {
      "cell_type": "code",
      "source": [
        "df.isnull().sum()"
      ],
      "metadata": {
        "colab": {
          "base_uri": "https://localhost:8080/"
        },
        "id": "nD7WKWHISrSR",
        "outputId": "0b78810e-5074-4048-ba95-ab4d652f46ea"
      },
      "execution_count": 8,
      "outputs": [
        {
          "output_type": "execute_result",
          "data": {
            "text/plain": [
              "Unix Timestamp    0\n",
              "Date              0\n",
              "Symbol            0\n",
              "Open              0\n",
              "High              0\n",
              "Low               0\n",
              "Close             0\n",
              "Volume            0\n",
              "dtype: int64"
            ]
          },
          "metadata": {},
          "execution_count": 8
        }
      ]
    },
    {
      "cell_type": "code",
      "source": [
        "def windowed_dataset(series, window_size, batch_size, shuffle_buffer):\n",
        "    series = tf.expand_dims(series, axis=-1)\n",
        "    ds = tf.data.Dataset.from_tensor_slices(series)\n",
        "    ds = ds.window(window_size + 1, shift=1, drop_remainder=True)\n",
        "    ds = ds.flat_map(lambda w: w.batch(window_size + 1))\n",
        "    ds = ds.shuffle(shuffle_buffer)\n",
        "    ds = ds.map(lambda w: (w[:-1], w[-1:]))\n",
        "    return ds.batch(batch_size).prefetch(1)"
      ],
      "metadata": {
        "id": "yTYNLrQ6TTMR"
      },
      "execution_count": 9,
      "outputs": []
    },
    {
      "cell_type": "code",
      "source": [
        "train, val = train_test_split(df.iloc[:-3, 3:], test_size=0.2, shuffle=False)\n",
        "scaler = MinMaxScaler()\n",
        "train = scaler.fit_transform(train)[:, 0]\n",
        "val = scaler.transform(val)[:, 0]\n",
        "train = windowed_dataset(train, window_size=60, batch_size=120, shuffle_buffer=1000)\n",
        "val = windowed_dataset(val, window_size=60, batch_size=120, shuffle_buffer=1000)"
      ],
      "metadata": {
        "id": "mDkQbsyRT3y2"
      },
      "execution_count": 23,
      "outputs": []
    },
    {
      "cell_type": "markdown",
      "source": [
        "#Model"
      ],
      "metadata": {
        "id": "d9MvUhu9QOol"
      }
    },
    {
      "cell_type": "code",
      "source": [
        "model = Sequential([\n",
        "    Bidirectional(LSTM(60, return_sequences=True)),\n",
        "    Dropout(0.2),\n",
        "    LSTM(60),\n",
        "    Dense(30, activation=\"relu\"),\n",
        "    Dense(10, activation=\"relu\"),\n",
        "    Dense(1)\n",
        "])\n",
        "\n",
        "optimizer = SGD(learning_rate=1e-04, momentum=0.9)\n",
        "model.compile(\n",
        "    optimizer = optimizer, \n",
        "    loss = Huber(),\n",
        "    metrics = ['mae']\n",
        ")"
      ],
      "metadata": {
        "id": "N7GIvHjgUpD1"
      },
      "execution_count": 26,
      "outputs": []
    },
    {
      "cell_type": "code",
      "source": [
        "early_stopping = EarlyStopping(\n",
        "    monitor=\"val_loss\",\n",
        "    patience=2, \n",
        "    restore_best_weights=True\n",
        "    )"
      ],
      "metadata": {
        "id": "4fxv7rudV9lu"
      },
      "execution_count": 27,
      "outputs": []
    },
    {
      "cell_type": "code",
      "source": [
        "history = model.fit(\n",
        "    train, \n",
        "    epochs = 10,\n",
        "    verbose = 1,\n",
        "    batch_size=120,\n",
        "    validation_data=val,\n",
        "    callbacks= [early_stopping]\n",
        ")"
      ],
      "metadata": {
        "colab": {
          "base_uri": "https://localhost:8080/"
        },
        "id": "y9wDsFsaWtYC",
        "outputId": "cabdeecf-1578-4cf0-91c5-68bf220e265c"
      },
      "execution_count": 28,
      "outputs": [
        {
          "output_type": "stream",
          "name": "stdout",
          "text": [
            "Epoch 1/10\n",
            "4387/4387 [==============================] - 136s 30ms/step - loss: 0.0021 - mae: 0.0409 - val_loss: 0.1011 - val_mae: 0.3990\n",
            "Epoch 2/10\n",
            "4387/4387 [==============================] - 126s 29ms/step - loss: 0.0028 - mae: 0.0384 - val_loss: 0.0759 - val_mae: 0.3408\n",
            "Epoch 3/10\n",
            "4387/4387 [==============================] - 130s 30ms/step - loss: 0.0020 - mae: 0.0309 - val_loss: 0.0618 - val_mae: 0.3060\n",
            "Epoch 4/10\n",
            "4387/4387 [==============================] - 128s 29ms/step - loss: 0.0014 - mae: 0.0247 - val_loss: 0.0523 - val_mae: 0.2805\n",
            "Epoch 5/10\n",
            "4387/4387 [==============================] - 125s 28ms/step - loss: 8.8193e-04 - mae: 0.0193 - val_loss: 0.0453 - val_mae: 0.2599\n",
            "Epoch 6/10\n",
            "4387/4387 [==============================] - 126s 29ms/step - loss: 5.4399e-04 - mae: 0.0150 - val_loss: 0.0399 - val_mae: 0.2428\n",
            "Epoch 7/10\n",
            "4387/4387 [==============================] - 128s 29ms/step - loss: 3.2593e-04 - mae: 0.0117 - val_loss: 0.0357 - val_mae: 0.2288\n",
            "Epoch 8/10\n",
            "4387/4387 [==============================] - 129s 29ms/step - loss: 1.9376e-04 - mae: 0.0094 - val_loss: 0.0325 - val_mae: 0.2174\n",
            "Epoch 9/10\n",
            "4387/4387 [==============================] - 126s 29ms/step - loss: 1.1896e-04 - mae: 0.0078 - val_loss: 0.0301 - val_mae: 0.2083\n",
            "Epoch 10/10\n",
            "4387/4387 [==============================] - 126s 29ms/step - loss: 7.9241e-05 - mae: 0.0068 - val_loss: 0.0282 - val_mae: 0.2012\n"
          ]
        }
      ]
    },
    {
      "cell_type": "code",
      "source": [
        "%matplotlib inline\n",
        "mae = history.history['mae']\n",
        "val_mae = history.history['val_mae']\n",
        "loss = history.history['loss']\n",
        "val_loss = history.history['val_loss']\n",
        "\n",
        "epochs = range(len(mae))\n",
        "\n",
        "plt.plot(epochs, mae, 'r', label='Training MAE')\n",
        "plt.plot(epochs, val_mae, 'b', label='Validation MAE')\n",
        "plt.title('Training and validation accuracy')\n",
        "plt.legend()\n",
        "plt.figure()\n",
        "\n",
        "plt.plot(epochs, loss, 'r', label='Training Loss')\n",
        "plt.plot(epochs, val_loss, 'b', label='Validation Loss')\n",
        "plt.title('Training and validation loss')\n",
        "plt.legend()\n",
        "\n",
        "plt.show()"
      ],
      "metadata": {
        "colab": {
          "base_uri": "https://localhost:8080/",
          "height": 545
        },
        "id": "rIzOc68vhbse",
        "outputId": "8f2279a1-b310-478c-a258-1408af9e0215"
      },
      "execution_count": 31,
      "outputs": [
        {
          "output_type": "display_data",
          "data": {
            "text/plain": [
              "<Figure size 432x288 with 1 Axes>"
            ],
            "image/png": "[encoded data removed]"
          },
          "metadata": {
            "needs_background": "light"
          }
        },
        {
          "output_type": "display_data",
          "data": {
            "text/plain": [
              "<Figure size 432x288 with 1 Axes>"
            ],
            "image/png": "[encoded data removed]"
          },
          "metadata": {
            "needs_background": "light"
          }
        }
      ]
    }
  ]
}