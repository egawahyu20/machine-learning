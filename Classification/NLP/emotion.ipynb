{
  "cells": [
    {
      "cell_type": "code",
      "execution_count": 2,
      "metadata": {
        "id": "t68PiZcNQpq0"
      },
      "outputs": [],
      "source": [
        "import re\n",
        "import string\n",
        "import numpy as np\n",
        "import pandas as pd\n",
        "import matplotlib.pyplot as plt\n",
        "\n",
        "from sklearn.preprocessing import LabelEncoder\n",
        "from sklearn.model_selection import train_test_split\n",
        "\n",
        "from tensorflow.keras.utils import to_categorical\n",
        "from tensorflow.keras.preprocessing.text import Tokenizer\n",
        "from tensorflow.keras.preprocessing.sequence import pad_sequences\n",
        "\n",
        "from tensorflow.keras.optimizers import Adam\n",
        "from tensorflow.keras.models import Sequential\n",
        "from tensorflow.keras.callbacks import EarlyStopping\n",
        "from tensorflow.keras.layers import Dense, LSTM, Embedding, Bidirectional, Dropout"
      ]
    },
    {
      "cell_type": "code",
      "execution_count": 3,
      "metadata": {
        "id": "S5tbyjXjQ2FQ",
        "colab": {
          "base_uri": "https://localhost:8080/"
        },
        "outputId": "8d1ebf33-a0ef-44e9-fbe3-8880c67ff5bc"
      },
      "outputs": [
        {
          "output_type": "stream",
          "name": "stdout",
          "text": [
            "Mounted at /content/drive\n"
          ]
        }
      ],
      "source": [
        "from google.colab import drive\n",
        "drive.mount('/content/drive')"
      ]
    },
    {
      "cell_type": "code",
      "execution_count": 4,
      "metadata": {
        "id": "8D27h1V5Qpq5"
      },
      "outputs": [],
      "source": [
        "# Text preprocessing function\n",
        "str_punc = string.punctuation.replace(',', '').replace(\"'\",'')\n",
        "\n",
        "def clean(text):\n",
        "    global str_punc\n",
        "    text = re.sub(r'[^a-zA-Z ]', '', text)\n",
        "    text = text.lower()\n",
        "    return text    "
      ]
    },
    {
      "cell_type": "code",
      "execution_count": 5,
      "metadata": {
        "id": "orwQDQnyQpq7"
      },
      "outputs": [],
      "source": [
        "# Read dataset & Preprocess text\n",
        "df_train = pd.read_csv('/content/drive/MyDrive/resource-tugas/Assignment/train.txt', names=['Text', 'Emotion'], sep=';')\n",
        "df_val = pd.read_csv('/content/drive/MyDrive/resource-tugas/Assignment/val.txt', names=['Text', 'Emotion'], sep=';')\n",
        "df_test = pd.read_csv('/content/drive/MyDrive/resource-tugas/Assignment/test.txt', names=['Text', 'Emotion'], sep=';')\n",
        "\n",
        "X_train = df_train['Text'].apply(clean)\n",
        "y_train = df_train['Emotion']\n",
        "\n",
        "X_test = df_test['Text'].apply(clean)\n",
        "y_test = df_test['Emotion']\n",
        "\n",
        "X_val = df_val['Text'].apply(clean)\n",
        "y_val = df_val['Emotion']"
      ]
    },
    {
      "cell_type": "code",
      "execution_count": 6,
      "metadata": {
        "id": "_OFClA3aQpq9",
        "colab": {
          "base_uri": "https://localhost:8080/",
          "height": 809
        },
        "outputId": "aa946292-71bb-48de-c6b4-3afa054f30dc"
      },
      "outputs": [
        {
          "output_type": "display_data",
          "data": {
            "text/plain": [
              "<Figure size 432x288 with 1 Axes>"
            ],
            "image/png": "[encoded data removed]"
          },
          "metadata": {
            "needs_background": "light"
          }
        },
        {
          "output_type": "display_data",
          "data": {
            "text/plain": [
              "<Figure size 432x288 with 1 Axes>"
            ],
            "image/png": "[encoded data removed]"
          },
          "metadata": {
            "needs_background": "light"
          }
        },
        {
          "output_type": "display_data",
          "data": {
            "text/plain": [
              "<Figure size 432x288 with 1 Axes>"
            ],
            "image/png": "[encoded data removed]"
          },
          "metadata": {
            "needs_background": "light"
          }
        }
      ],
      "source": [
        "# Visualize classes counts\n",
        "colors = np.array([\"gray\", 'orangered', 'hotpink', 'gold', 'teal', 'cornflowerblue'])\n",
        "\n",
        "labels = y_train.unique()\n",
        "\n",
        "def visualization_data(data):\n",
        "  viz_data = []\n",
        "  temp_list = data.to_list()\n",
        "  for label in labels:\n",
        "    viz_data.append(temp_list.count(label))\n",
        "  return viz_data\n",
        "\n",
        "plt.bar(labels, visualization_data(y_train), color = colors)\n",
        "plt.title(\"Training data - classes counts\")\n",
        "plt.show()\n",
        "\n",
        "plt.bar(labels, visualization_data(y_test), color = colors)\n",
        "plt.title(\"Testing data - classes counts\")\n",
        "plt.show()\n",
        "\n",
        "plt.bar(labels, visualization_data(y_val), color = colors)\n",
        "plt.title(\"Validation data - classes counts\")\n",
        "plt.show()"
      ]
    },
    {
      "cell_type": "code",
      "execution_count": 7,
      "metadata": {
        "id": "mLLlgCldbY_L",
        "colab": {
          "base_uri": "https://localhost:8080/"
        },
        "outputId": "dde3e2af-4242-4cc0-e8a0-5cc1e6b902dd"
      },
      "outputs": [
        {
          "output_type": "stream",
          "name": "stdout",
          "text": [
            "Data train:\n",
            " joy         5362\n",
            "sadness     4666\n",
            "anger       2159\n",
            "fear        1937\n",
            "love        1304\n",
            "surprise     572\n",
            "Name: Emotion, dtype: int64\n",
            "\n",
            "Data test:\n",
            " joy         695\n",
            "sadness     581\n",
            "anger       275\n",
            "fear        224\n",
            "love        159\n",
            "surprise     66\n",
            "Name: Emotion, dtype: int64\n",
            "\n",
            "Data val:\n",
            " joy         704\n",
            "sadness     550\n",
            "anger       275\n",
            "fear        212\n",
            "love        178\n",
            "surprise     81\n",
            "Name: Emotion, dtype: int64\n"
          ]
        }
      ],
      "source": [
        "print(\"Data train:\\n\", y_train.value_counts())\n",
        "print(\"\\nData test:\\n\", y_test.value_counts())\n",
        "print(\"\\nData val:\\n\", y_val.value_counts())"
      ]
    },
    {
      "cell_type": "code",
      "execution_count": 8,
      "metadata": {
        "id": "V9F2tWMGQpq_"
      },
      "outputs": [],
      "source": [
        "# Encode labels\n",
        "# Sudah disediakan beberapa variable, lengkapi variabel tersebut\n",
        "le = LabelEncoder()\n",
        "y_train = le.fit_transform(y_train)\n",
        "y_test = le.fit_transform(y_test)\n",
        "y_val = le.fit_transform(y_val)\n",
        "\n",
        "# y_train = train_test_split(y_train)\n",
        "# y_test = train_test_split(y_test)\n",
        "# y_val = train_test_split(y_val)"
      ]
    },
    {
      "cell_type": "code",
      "execution_count": 9,
      "metadata": {
        "id": "d40kAQnHQprC",
        "colab": {
          "base_uri": "https://localhost:8080/"
        },
        "outputId": "a8c377e7-a33b-4412-a342-3e8a70011082"
      },
      "outputs": [
        {
          "output_type": "stream",
          "name": "stdout",
          "text": [
            "Vocabulary size = 16185\n"
          ]
        }
      ],
      "source": [
        "# Tokenize words\n",
        "tokenizer = Tokenizer()\n",
        "tokenizer.fit_on_texts(pd.concat([X_train, X_test], axis=0))\n",
        "\n",
        "sequences_train = tokenizer.texts_to_sequences(X_train)\n",
        "sequences_test = tokenizer.texts_to_sequences(X_test)\n",
        "sequences_val = tokenizer.texts_to_sequences(X_val)\n",
        "\n",
        "X_train = pad_sequences(sequences_train, maxlen=256, truncating='pre')\n",
        "X_test = pad_sequences(sequences_test, maxlen=256, truncating='pre')\n",
        "X_val = pad_sequences(sequences_val, maxlen=256, truncating='pre')\n",
        "\n",
        "vocabSize = len(tokenizer.index_word) + 1\n",
        "print(f\"Vocabulary size = {vocabSize}\")"
      ]
    },
    {
      "cell_type": "code",
      "execution_count": 10,
      "metadata": {
        "id": "e67R2xDlQprD",
        "colab": {
          "base_uri": "https://localhost:8080/"
        },
        "outputId": "bff5c8f5-2997-4331-83d4-da5721037fe7"
      },
      "outputs": [
        {
          "output_type": "stream",
          "name": "stdout",
          "text": [
            "Found 400000 word vectors.\n",
            "Converted 15069 words (1115 misses)\n"
          ]
        }
      ],
      "source": [
        "#Read GloVE embeddings\n",
        "path_to_glove_file = '/content/drive/MyDrive/resource-tugas/Assignment/glove.6B.200d.txt'\n",
        "num_tokens = vocabSize\n",
        "embedding_dim = 200\n",
        "hits = 0\n",
        "misses = 0\n",
        "embeddings_index = {}\n",
        "\n",
        "# Read word vectors\n",
        "with open(path_to_glove_file) as f:\n",
        "    for line in f:\n",
        "        word, coefs = line.split(maxsplit=1)\n",
        "        coefs = np.fromstring(coefs, \"f\", sep=\" \")\n",
        "        embeddings_index[word] = coefs\n",
        "print(\"Found %s word vectors.\" % len(embeddings_index))\n",
        "\n",
        "\n",
        "# Assign word vectors to our dictionary/vocabulary\n",
        "embedding_matrix = np.zeros((num_tokens, embedding_dim))\n",
        "for word, i in tokenizer.word_index.items():\n",
        "    embedding_vector = embeddings_index.get(word)\n",
        "    if embedding_vector is not None:\n",
        "        # Words not found in embedding index will be all-zeros.\n",
        "        # This includes the representation for \"padding\" and \"OOV\"\n",
        "        embedding_matrix[i] = embedding_vector\n",
        "        hits += 1\n",
        "    else:\n",
        "        misses += 1\n",
        "print(\"Converted %d words (%d misses)\" % (hits, misses))"
      ]
    },
    {
      "cell_type": "code",
      "execution_count": 168,
      "metadata": {
        "id": "wSJWnBz2QprE",
        "colab": {
          "base_uri": "https://localhost:8080/"
        },
        "outputId": "130e7b7b-c040-4f10-a5de-2a6f51127696"
      },
      "outputs": [
        {
          "output_type": "stream",
          "name": "stdout",
          "text": [
            "Model: \"sequential_40\"\n",
            "_________________________________________________________________\n",
            " Layer (type)                Output Shape              Param #   \n",
            "=================================================================\n",
            " embedding_40 (Embedding)    (None, 256, 200)          3237000   \n",
            "                                                                 \n",
            " bidirectional_59 (Bidirecti  (None, 256, 32)          27776     \n",
            " onal)                                                           \n",
            "                                                                 \n",
            " lstm_80 (LSTM)              (None, 16)                3136      \n",
            "                                                                 \n",
            " dense_119 (Dense)           (None, 64)                1088      \n",
            "                                                                 \n",
            " dropout_75 (Dropout)        (None, 64)                0         \n",
            "                                                                 \n",
            " dense_120 (Dense)           (None, 32)                2080      \n",
            "                                                                 \n",
            " dropout_76 (Dropout)        (None, 32)                0         \n",
            "                                                                 \n",
            " dense_121 (Dense)           (None, 6)                 198       \n",
            "                                                                 \n",
            "=================================================================\n",
            "Total params: 3,271,278\n",
            "Trainable params: 3,271,278\n",
            "Non-trainable params: 0\n",
            "_________________________________________________________________\n"
          ]
        }
      ],
      "source": [
        "# Build neural network architecture\n",
        "\n",
        "adam = Adam(learning_rate=0.005)\n",
        "#code here\n",
        "model = Sequential([\n",
        "    Embedding(vocabSize, embedding_dim, input_length=256),\n",
        "    Bidirectional(LSTM(16, return_sequences=True)),\n",
        "    LSTM(16),\n",
        "    Dense(64, activation='relu'),\n",
        "    Dropout(0.25),\n",
        "    Dense(32, activation='relu'),\n",
        "    Dropout(0.25),        \n",
        "    Dense(6, activation='softmax')\n",
        "])\n",
        "\n",
        "model.summary()"
      ]
    },
    {
      "cell_type": "code",
      "execution_count": 169,
      "metadata": {
        "id": "2oFyXAWqXNjp"
      },
      "outputs": [],
      "source": [
        "model.compile(\n",
        "    loss=\"sparse_categorical_crossentropy\",\n",
        "    optimizer=adam, \n",
        "    metrics=['accuracy']\n",
        "    )"
      ]
    },
    {
      "cell_type": "code",
      "execution_count": 157,
      "metadata": {
        "id": "VSjuWsCsQprG"
      },
      "outputs": [],
      "source": [
        "#Callback\n",
        "callback = EarlyStopping(\n",
        "    #code here (contains at least : monitor, patience, restore_best_weights)\n",
        "    monitor='val_loss',\n",
        "    min_delta=0.01,\n",
        "    patience=2,\n",
        "    restore_best_weights=True\n",
        ")"
      ]
    },
    {
      "cell_type": "code",
      "execution_count": 170,
      "metadata": {
        "id": "CM_GyHrFQprI",
        "colab": {
          "base_uri": "https://localhost:8080/"
        },
        "outputId": "ab22303e-1aef-4c88-b365-3ac35aaa25ff"
      },
      "outputs": [
        {
          "output_type": "stream",
          "name": "stdout",
          "text": [
            "Epoch 1/10\n",
            "16/16 [==============================] - 7s 157ms/step - loss: 1.6543 - accuracy: 0.3081 - val_loss: 1.5427 - val_accuracy: 0.4165\n",
            "Epoch 2/10\n",
            "16/16 [==============================] - 1s 87ms/step - loss: 1.3864 - accuracy: 0.4263 - val_loss: 1.1920 - val_accuracy: 0.5415\n",
            "Epoch 3/10\n",
            "16/16 [==============================] - 1s 87ms/step - loss: 0.9235 - accuracy: 0.6448 - val_loss: 0.9772 - val_accuracy: 0.6605\n",
            "Epoch 4/10\n",
            "16/16 [==============================] - 1s 87ms/step - loss: 0.6679 - accuracy: 0.7533 - val_loss: 0.7719 - val_accuracy: 0.7435\n",
            "Epoch 5/10\n",
            "16/16 [==============================] - 1s 90ms/step - loss: 0.5023 - accuracy: 0.8199 - val_loss: 0.7268 - val_accuracy: 0.7685\n",
            "Epoch 6/10\n",
            "16/16 [==============================] - 1s 90ms/step - loss: 0.3777 - accuracy: 0.8616 - val_loss: 0.5883 - val_accuracy: 0.8210\n",
            "Epoch 7/10\n",
            "16/16 [==============================] - 1s 88ms/step - loss: 0.2548 - accuracy: 0.9191 - val_loss: 0.6261 - val_accuracy: 0.8410\n",
            "Epoch 8/10\n",
            "16/16 [==============================] - 1s 90ms/step - loss: 0.1577 - accuracy: 0.9507 - val_loss: 0.6655 - val_accuracy: 0.8505\n"
          ]
        }
      ],
      "source": [
        "# Fit model\n",
        "# code here\n",
        "\n",
        "history = model.fit(\n",
        "    X_train,\n",
        "    y_train,\n",
        "    epochs=10, \n",
        "    steps_per_epoch = 16,\n",
        "    validation_steps = 8,\n",
        "    verbose = 1,\n",
        "    validation_data = (X_test,y_test),\n",
        "    callbacks = [callback],\n",
        "    workers=1\n",
        "    )"
      ]
    },
    {
      "cell_type": "code",
      "execution_count": 171,
      "metadata": {
        "id": "Duln-TnJQprI",
        "colab": {
          "base_uri": "https://localhost:8080/"
        },
        "outputId": "944ed0e1-2862-485f-85bf-222cccb05d7f"
      },
      "outputs": [
        {
          "output_type": "stream",
          "name": "stdout",
          "text": [
            "63/63 [==============================] - 2s 15ms/step - loss: 0.6354 - accuracy: 0.8010\n"
          ]
        },
        {
          "output_type": "execute_result",
          "data": {
            "text/plain": [
              "[0.6354246139526367, 0.8009999990463257]"
            ]
          },
          "metadata": {},
          "execution_count": 171
        }
      ],
      "source": [
        "model.evaluate(X_val, y_val, verbose=1)"
      ]
    },
    {
      "cell_type": "code",
      "execution_count": 172,
      "metadata": {
        "id": "0E60nVznQprO",
        "colab": {
          "base_uri": "https://localhost:8080/",
          "height": 545
        },
        "outputId": "8785e059-6610-4c22-ee0b-920ab8cacca3"
      },
      "outputs": [
        {
          "output_type": "display_data",
          "data": {
            "text/plain": [
              "<Figure size 432x288 with 1 Axes>"
            ],
            "image/png": "[encoded data removed]"
          },
          "metadata": {
            "needs_background": "light"
          }
        },
        {
          "output_type": "display_data",
          "data": {
            "text/plain": [
              "<Figure size 432x288 with 1 Axes>"
            ],
            "image/png": "[encoded data removed]"
          },
          "metadata": {
            "needs_background": "light"
          }
        }
      ],
      "source": [
        "# Visualize Loss & Accuracy\n",
        "\n",
        "%matplotlib inline\n",
        "import matplotlib.pyplot as plt\n",
        "acc = history.history['accuracy']\n",
        "val_acc = history.history['val_accuracy']\n",
        "loss = history.history['loss']\n",
        "val_loss = history.history['val_loss']\n",
        "\n",
        "epochs = range(len(acc))\n",
        "\n",
        "plt.plot(epochs, acc, 'r', label='Training accuracy')\n",
        "plt.plot(epochs, val_acc, 'b', label='Validation accuracy')\n",
        "plt.title('Training and validation accuracy')\n",
        "plt.legend()\n",
        "plt.figure()\n",
        "\n",
        "plt.plot(epochs, loss, 'r', label='Training Loss')\n",
        "plt.plot(epochs, val_loss, 'b', label='Validation Loss')\n",
        "plt.title('Training and validation loss')\n",
        "plt.legend()\n",
        "\n",
        "plt.show()"
      ]
    },
    {
      "cell_type": "code",
      "execution_count": 173,
      "metadata": {
        "id": "hFGFd0gQQprP",
        "colab": {
          "base_uri": "https://localhost:8080/"
        },
        "outputId": "9b0f2a00-456b-4d60-eef3-b6115b5f07cf"
      },
      "outputs": [
        {
          "output_type": "stream",
          "name": "stdout",
          "text": [
            "Yey i got my brithday cake\n",
            "joy : 0.9998083710670471\n",
            "\n",
            "ponyo is my cat that I love very much\n",
            "love : 0.39210307598114014\n",
            "\n",
            "This horror movie really scared me\n",
            "fear : 0.5832037329673767\n",
            "\n",
            "How could you do that after all the kindness I gave you\n",
            "joy : 0.9991334080696106\n",
            "\n",
            "I was surprised to get a surprise after I got 1st place in school\n",
            "fear : 0.5851075649261475\n",
            "\n",
            "I have lost the figure of a very close friend\n",
            "sadness : 0.4128371775150299\n",
            "\n",
            "God is very good has given good people around me\n",
            "joy : 0.9964297413825989\n",
            "\n",
            "I don’t want to live alone\n",
            "sadness : 0.9758507013320923\n",
            "\n",
            "tonight had something wonderful\n",
            "joy : 0.9997473359107971\n",
            "\n",
            "You have gone too far to have hurt my child\n",
            "sadness : 0.9461237788200378\n",
            "\n"
          ]
        }
      ],
      "source": [
        "# Classify custom sample\n",
        "\n",
        "sentences = [\n",
        "            #sample teks\n",
        "             \"Yey i got my brithday cake\",\n",
        "             \"ponyo is my cat that I love very much\",\n",
        "             \"This horror movie really scared me\",\n",
        "             \"How could you do that after all the kindness I gave you\",\n",
        "             \"I was surprised to get a surprise after I got 1st place in school\",\n",
        "             \"I have lost the figure of a very close friend\",\n",
        "             \"God is very good has given good people around me\",\n",
        "             \"I don’t want to live alone\",\n",
        "             \"tonight had something wonderful\",\n",
        "             \"You have gone too far to have hurt my child\" \n",
        "            ]\n",
        "for sentence in sentences:\n",
        "    print(sentence)\n",
        "    sentence = clean(sentence)\n",
        "    sentence = tokenizer.texts_to_sequences([sentence])\n",
        "    sentence = pad_sequences(sentence, maxlen=256, truncating='pre')\n",
        "    result = le.inverse_transform(np.argmax(model.predict(sentence), axis=-1))[0]\n",
        "    proba =  np.max(model.predict(sentence))\n",
        "    print(f\"{result} : {proba}\\n\")"
      ]
    },
    {
      "cell_type": "code",
      "execution_count": 174,
      "metadata": {
        "id": "1OAz47lBQprP"
      },
      "outputs": [],
      "source": [
        "import pickle\n",
        "with open('tokenizer.pickle', 'wb') as f:\n",
        "    pickle.dump(tokenizer, f)\n",
        "    \n",
        "with open('labelEncoder.pickle', 'wb') as f:\n",
        "    pickle.dump(le, f)\n",
        "    \n",
        "    \n",
        "model.save('Emotion Recognition.h5')"
      ]
    }
  ],
  "metadata": {
    "colab": {
      "collapsed_sections": [],
      "name": "Salinan dari assignment_week_6.ipynb",
      "provenance": []
    },
    "gpuClass": "standard",
    "kernelspec": {
      "display_name": "Python 3",
      "language": "python",
      "name": "python3"
    },
    "language_info": {
      "codemirror_mode": {
        "name": "ipython",
        "version": 3
      },
      "file_extension": ".py",
      "mimetype": "text/x-python",
      "name": "python",
      "nbconvert_exporter": "python",
      "pygments_lexer": "ipython3",
      "version": "3.6.4"
    },
    "accelerator": "GPU"
  },
  "nbformat": 4,
  "nbformat_minor": 0
}