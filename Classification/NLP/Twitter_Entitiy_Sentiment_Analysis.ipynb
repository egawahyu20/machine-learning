{
  "cells": [
    {
      "cell_type": "markdown",
      "metadata": {
        "id": "9JampfBuDOMj"
      },
      "source": [
        "#Library and Dependencies\n"
      ]
    },
    {
      "cell_type": "code",
      "execution_count": 31,
      "metadata": {
        "id": "UKyj6WsgTg3r"
      },
      "outputs": [],
      "source": [
        "import re\n",
        "import nltk\n",
        "import wordcloud\n",
        "import pandas as pd\n",
        "import numpy as np\n",
        "import matplotlib.pyplot as plt\n",
        "\n",
        "from nltk.corpus import stopwords\n",
        "from nltk.stem import WordNetLemmatizer\n",
        "from sklearn.model_selection import train_test_split\n",
        "from tensorflow.keras.preprocessing.text import Tokenizer\n",
        "from tensorflow.keras.preprocessing.sequence import pad_sequences\n",
        "from keras.callbacks import EarlyStopping, Callback\n",
        "from keras.models import Sequential\n",
        "from keras.layers import Dense, LSTM, Dropout\n",
        "from keras.layers.embeddings import Embedding\n",
        "from tensorflow.keras.optimizers import Adam\n",
        "\n",
        "from google.colab import drive"
      ]
    },
    {
      "cell_type": "code",
      "execution_count": 2,
      "metadata": {
        "colab": {
          "base_uri": "https://localhost:8080/"
        },
        "id": "MdWLoFLEHU1S",
        "outputId": "c2c265a4-64d5-4e37-f575-e1d2813f4357"
      },
      "outputs": [
        {
          "output_type": "stream",
          "name": "stdout",
          "text": [
            "Looking in indexes: https://pypi.org/simple, https://us-python.pkg.dev/colab-wheels/public/simple/\n",
            "Collecting tweet-preprocessor\n",
            "  Downloading tweet_preprocessor-0.6.0-py3-none-any.whl (27 kB)\n",
            "Installing collected packages: tweet-preprocessor\n",
            "Successfully installed tweet-preprocessor-0.6.0\n"
          ]
        }
      ],
      "source": [
        "!pip install tweet-preprocessor\n",
        "import preprocessor as p"
      ]
    },
    {
      "cell_type": "code",
      "execution_count": 3,
      "metadata": {
        "colab": {
          "base_uri": "https://localhost:8080/"
        },
        "id": "iWRvdMGpoooe",
        "outputId": "5bc84950-cc98-43f7-87dd-40a359dcbd17"
      },
      "outputs": [
        {
          "output_type": "stream",
          "name": "stderr",
          "text": [
            "[nltk_data] Downloading package stopwords to /root/nltk_data...\n",
            "[nltk_data]   Unzipping corpora/stopwords.zip.\n",
            "[nltk_data] Downloading package wordnet to /root/nltk_data...\n",
            "[nltk_data] Downloading package omw-1.4 to /root/nltk_data...\n"
          ]
        },
        {
          "output_type": "execute_result",
          "data": {
            "text/plain": [
              "True"
            ]
          },
          "metadata": {},
          "execution_count": 3
        }
      ],
      "source": [
        "nltk.download('stopwords')\n",
        "nltk.download('wordnet')\n",
        "nltk.download('omw-1.4')"
      ]
    },
    {
      "cell_type": "markdown",
      "metadata": {
        "id": "EvQ9LKUMDTpS"
      },
      "source": [
        "#Data preparation"
      ]
    },
    {
      "cell_type": "code",
      "execution_count": 4,
      "metadata": {
        "colab": {
          "base_uri": "https://localhost:8080/"
        },
        "id": "tbaAdMgWYXMA",
        "outputId": "9a77c071-8645-46b1-a8e5-7390c47e1e66"
      },
      "outputs": [
        {
          "output_type": "stream",
          "name": "stdout",
          "text": [
            "Mounted at /content/drive\n"
          ]
        }
      ],
      "source": [
        "drive.mount('/content/drive')"
      ]
    },
    {
      "cell_type": "code",
      "execution_count": 5,
      "metadata": {
        "id": "DQXaU2sUYP-R"
      },
      "outputs": [],
      "source": [
        "#source : https://www.kaggle.com/datasets/jp797498e/twitter-entity-sentiment-analysis?select=twitter_training.csv\n",
        "df = pd.read_csv('/content/drive/MyDrive/resource_machine_learning/twitter_training.csv', names=['tweet_id', 'entity', 'sentiment','text'])"
      ]
    },
    {
      "cell_type": "code",
      "execution_count": 6,
      "metadata": {
        "colab": {
          "base_uri": "https://localhost:8080/",
          "height": 424
        },
        "id": "58SgodGbYrGY",
        "outputId": "8a71cf35-abd6-4934-a18c-28cb1b72bc15"
      },
      "outputs": [
        {
          "output_type": "execute_result",
          "data": {
            "text/plain": [
              "       tweet_id       entity sentiment  \\\n",
              "0          2401  Borderlands  Positive   \n",
              "1          2401  Borderlands  Positive   \n",
              "2          2401  Borderlands  Positive   \n",
              "3          2401  Borderlands  Positive   \n",
              "4          2401  Borderlands  Positive   \n",
              "...         ...          ...       ...   \n",
              "74677      9200       Nvidia  Positive   \n",
              "74678      9200       Nvidia  Positive   \n",
              "74679      9200       Nvidia  Positive   \n",
              "74680      9200       Nvidia  Positive   \n",
              "74681      9200       Nvidia  Positive   \n",
              "\n",
              "                                                    text  \n",
              "0      im getting on borderlands and i will murder yo...  \n",
              "1      I am coming to the borders and I will kill you...  \n",
              "2      im getting on borderlands and i will kill you ...  \n",
              "3      im coming on borderlands and i will murder you...  \n",
              "4      im getting on borderlands 2 and i will murder ...  \n",
              "...                                                  ...  \n",
              "74677  Just realized that the Windows partition of my...  \n",
              "74678  Just realized that my Mac window partition is ...  \n",
              "74679  Just realized the windows partition of my Mac ...  \n",
              "74680  Just realized between the windows partition of...  \n",
              "74681  Just like the windows partition of my Mac is l...  \n",
              "\n",
              "[74682 rows x 4 columns]"
            ],
            "text/html": [
              "\n",
              "  <div id=\"df-eb541480-7ebf-4dd8-be73-2e043e3f614d\">\n",
              "    <div class=\"colab-df-container\">\n",
              "      <div>\n",
              "<style scoped>\n",
              "    .dataframe tbody tr th:only-of-type {\n",
              "        vertical-align: middle;\n",
              "    }\n",
              "\n",
              "    .dataframe tbody tr th {\n",
              "        vertical-align: top;\n",
              "    }\n",
              "\n",
              "    .dataframe thead th {\n",
              "        text-align: right;\n",
              "    }\n",
              "</style>\n",
              "<table border=\"1\" class=\"dataframe\">\n",
              "  <thead>\n",
              "    <tr style=\"text-align: right;\">\n",
              "      <th></th>\n",
              "      <th>tweet_id</th>\n",
              "      <th>entity</th>\n",
              "      <th>sentiment</th>\n",
              "      <th>text</th>\n",
              "    </tr>\n",
              "  </thead>\n",
              "  <tbody>\n",
              "    <tr>\n",
              "      <th>0</th>\n",
              "      <td>2401</td>\n",
              "      <td>Borderlands</td>\n",
              "      <td>Positive</td>\n",
              "      <td>im getting on borderlands and i will murder yo...</td>\n",
              "    </tr>\n",
              "    <tr>\n",
              "      <th>1</th>\n",
              "      <td>2401</td>\n",
              "      <td>Borderlands</td>\n",
              "      <td>Positive</td>\n",
              "      <td>I am coming to the borders and I will kill you...</td>\n",
              "    </tr>\n",
              "    <tr>\n",
              "      <th>2</th>\n",
              "      <td>2401</td>\n",
              "      <td>Borderlands</td>\n",
              "      <td>Positive</td>\n",
              "      <td>im getting on borderlands and i will kill you ...</td>\n",
              "    </tr>\n",
              "    <tr>\n",
              "      <th>3</th>\n",
              "      <td>2401</td>\n",
              "      <td>Borderlands</td>\n",
              "      <td>Positive</td>\n",
              "      <td>im coming on borderlands and i will murder you...</td>\n",
              "    </tr>\n",
              "    <tr>\n",
              "      <th>4</th>\n",
              "      <td>2401</td>\n",
              "      <td>Borderlands</td>\n",
              "      <td>Positive</td>\n",
              "      <td>im getting on borderlands 2 and i will murder ...</td>\n",
              "    </tr>\n",
              "    <tr>\n",
              "      <th>...</th>\n",
              "      <td>...</td>\n",
              "      <td>...</td>\n",
              "      <td>...</td>\n",
              "      <td>...</td>\n",
              "    </tr>\n",
              "    <tr>\n",
              "      <th>74677</th>\n",
              "      <td>9200</td>\n",
              "      <td>Nvidia</td>\n",
              "      <td>Positive</td>\n",
              "      <td>Just realized that the Windows partition of my...</td>\n",
              "    </tr>\n",
              "    <tr>\n",
              "      <th>74678</th>\n",
              "      <td>9200</td>\n",
              "      <td>Nvidia</td>\n",
              "      <td>Positive</td>\n",
              "      <td>Just realized that my Mac window partition is ...</td>\n",
              "    </tr>\n",
              "    <tr>\n",
              "      <th>74679</th>\n",
              "      <td>9200</td>\n",
              "      <td>Nvidia</td>\n",
              "      <td>Positive</td>\n",
              "      <td>Just realized the windows partition of my Mac ...</td>\n",
              "    </tr>\n",
              "    <tr>\n",
              "      <th>74680</th>\n",
              "      <td>9200</td>\n",
              "      <td>Nvidia</td>\n",
              "      <td>Positive</td>\n",
              "      <td>Just realized between the windows partition of...</td>\n",
              "    </tr>\n",
              "    <tr>\n",
              "      <th>74681</th>\n",
              "      <td>9200</td>\n",
              "      <td>Nvidia</td>\n",
              "      <td>Positive</td>\n",
              "      <td>Just like the windows partition of my Mac is l...</td>\n",
              "    </tr>\n",
              "  </tbody>\n",
              "</table>\n",
              "<p>74682 rows × 4 columns</p>\n",
              "</div>\n",
              "      <button class=\"colab-df-convert\" onclick=\"convertToInteractive('df-eb541480-7ebf-4dd8-be73-2e043e3f614d')\"\n",
              "              title=\"Convert this dataframe to an interactive table.\"\n",
              "              style=\"display:none;\">\n",
              "        \n",
              "  <svg xmlns=\"http://www.w3.org/2000/svg\" height=\"24px\"viewBox=\"0 0 24 24\"\n",
              "       width=\"24px\">\n",
              "    <path d=\"M0 0h24v24H0V0z\" fill=\"none\"/>\n",
              "    <path d=\"M18.56 5.44l.94 2.06.94-2.06 2.06-.94-2.06-.94-.94-2.06-.94 2.06-2.06.94zm-11 1L8.5 8.5l.94-2.06 2.06-.94-2.06-.94L8.5 2.5l-.94 2.06-2.06.94zm10 10l.94 2.06.94-2.06 2.06-.94-2.06-.94-.94-2.06-.94 2.06-2.06.94z\"/><path d=\"M17.41 7.96l-1.37-1.37c-.4-.4-.92-.59-1.43-.59-.52 0-1.04.2-1.43.59L10.3 9.45l-7.72 7.72c-.78.78-.78 2.05 0 2.83L4 21.41c.39.39.9.59 1.41.59.51 0 1.02-.2 1.41-.59l7.78-7.78 2.81-2.81c.8-.78.8-2.07 0-2.86zM5.41 20L4 18.59l7.72-7.72 1.47 1.35L5.41 20z\"/>\n",
              "  </svg>\n",
              "      </button>\n",
              "      \n",
              "  <style>\n",
              "    .colab-df-container {\n",
              "      display:flex;\n",
              "      flex-wrap:wrap;\n",
              "      gap: 12px;\n",
              "    }\n",
              "\n",
              "    .colab-df-convert {\n",
              "      background-color: #E8F0FE;\n",
              "      border: none;\n",
              "      border-radius: 50%;\n",
              "      cursor: pointer;\n",
              "      display: none;\n",
              "      fill: #1967D2;\n",
              "      height: 32px;\n",
              "      padding: 0 0 0 0;\n",
              "      width: 32px;\n",
              "    }\n",
              "\n",
              "    .colab-df-convert:hover {\n",
              "      background-color: #E2EBFA;\n",
              "      box-shadow: 0px 1px 2px rgba(60, 64, 67, 0.3), 0px 1px 3px 1px rgba(60, 64, 67, 0.15);\n",
              "      fill: #174EA6;\n",
              "    }\n",
              "\n",
              "    [theme=dark] .colab-df-convert {\n",
              "      background-color: #3B4455;\n",
              "      fill: #D2E3FC;\n",
              "    }\n",
              "\n",
              "    [theme=dark] .colab-df-convert:hover {\n",
              "      background-color: #434B5C;\n",
              "      box-shadow: 0px 1px 3px 1px rgba(0, 0, 0, 0.15);\n",
              "      filter: drop-shadow(0px 1px 2px rgba(0, 0, 0, 0.3));\n",
              "      fill: #FFFFFF;\n",
              "    }\n",
              "  </style>\n",
              "\n",
              "      <script>\n",
              "        const buttonEl =\n",
              "          document.querySelector('#df-eb541480-7ebf-4dd8-be73-2e043e3f614d button.colab-df-convert');\n",
              "        buttonEl.style.display =\n",
              "          google.colab.kernel.accessAllowed ? 'block' : 'none';\n",
              "\n",
              "        async function convertToInteractive(key) {\n",
              "          const element = document.querySelector('#df-eb541480-7ebf-4dd8-be73-2e043e3f614d');\n",
              "          const dataTable =\n",
              "            await google.colab.kernel.invokeFunction('convertToInteractive',\n",
              "                                                     [key], {});\n",
              "          if (!dataTable) return;\n",
              "\n",
              "          const docLinkHtml = 'Like what you see? Visit the ' +\n",
              "            '<a target=\"_blank\" href=https://colab.research.google.com/notebooks/data_table.ipynb>data table notebook</a>'\n",
              "            + ' to learn more about interactive tables.';\n",
              "          element.innerHTML = '';\n",
              "          dataTable['output_type'] = 'display_data';\n",
              "          await google.colab.output.renderOutput(dataTable, element);\n",
              "          const docLink = document.createElement('div');\n",
              "          docLink.innerHTML = docLinkHtml;\n",
              "          element.appendChild(docLink);\n",
              "        }\n",
              "      </script>\n",
              "    </div>\n",
              "  </div>\n",
              "  "
            ]
          },
          "metadata": {},
          "execution_count": 6
        }
      ],
      "source": [
        "df"
      ]
    },
    {
      "cell_type": "markdown",
      "metadata": {
        "id": "fzIgQoXHDaai"
      },
      "source": [
        "#EDA"
      ]
    },
    {
      "cell_type": "code",
      "execution_count": 7,
      "metadata": {
        "colab": {
          "base_uri": "https://localhost:8080/"
        },
        "id": "-fqxm953DcHa",
        "outputId": "8dea6dca-efc8-4598-e14a-13e340a9296b"
      },
      "outputs": [
        {
          "output_type": "execute_result",
          "data": {
            "text/plain": [
              "tweet_id      int64\n",
              "entity       object\n",
              "sentiment    object\n",
              "text         object\n",
              "dtype: object"
            ]
          },
          "metadata": {},
          "execution_count": 7
        }
      ],
      "source": [
        "df.dtypes"
      ]
    },
    {
      "cell_type": "code",
      "execution_count": 8,
      "metadata": {
        "colab": {
          "base_uri": "https://localhost:8080/"
        },
        "id": "XE2PSxrHC0zY",
        "outputId": "3fd2a1ee-e970-4940-a090-2511c43ca7c0"
      },
      "outputs": [
        {
          "output_type": "execute_result",
          "data": {
            "text/plain": [
              "Negative      22542\n",
              "Positive      20832\n",
              "Neutral       18318\n",
              "Irrelevant    12990\n",
              "Name: sentiment, dtype: int64"
            ]
          },
          "metadata": {},
          "execution_count": 8
        }
      ],
      "source": [
        "df['sentiment'].value_counts()"
      ]
    },
    {
      "cell_type": "code",
      "source": [
        "common_words=''\n",
        "for i in df.text:\n",
        "    i = str(i)\n",
        "    tokens = i.split()\n",
        "    common_words += \" \".join(tokens)+\" \"\n",
        "wordcloud = wordcloud.WordCloud().generate(common_words)\n",
        "plt.imshow(wordcloud, interpolation='bilinear')\n",
        "plt.axis(\"off\")\n",
        "plt.show()"
      ],
      "metadata": {
        "colab": {
          "base_uri": "https://localhost:8080/",
          "height": 198
        },
        "id": "hM7t6Q0DC-Le",
        "outputId": "c9f329f2-61d1-436a-8a94-8989e7e821e9"
      },
      "execution_count": 32,
      "outputs": [
        {
          "output_type": "display_data",
          "data": {
            "text/plain": [
              "<Figure size 432x288 with 1 Axes>"
            ],
            "image/png": "[encoded data removed]"
          },
          "metadata": {
            "needs_background": "light"
          }
        }
      ]
    },
    {
      "cell_type": "markdown",
      "metadata": {
        "id": "wfv4E-67IPFT"
      },
      "source": [
        "#Preprocessing Data"
      ]
    },
    {
      "cell_type": "code",
      "execution_count": 9,
      "metadata": {
        "id": "a-gR8CtFZybw"
      },
      "outputs": [],
      "source": [
        "def clean_text(text):\n",
        "  emoji_pattern = re.compile(\n",
        "        '['\n",
        "        u'\\U0001F600-\\U0001F64F'  # Kode Emoticon\n",
        "        u'\\U0001F300-\\U0001F5FF'  # Kode symbols & pictograph\n",
        "        u'\\U0001F680-\\U0001F6FF'  # Kode transport & map symbols\n",
        "        u'\\U0001F1E0-\\U0001F1FF'  # Kode flags (iOS)\n",
        "        u'\\U00002702-\\U000027B0'\n",
        "        u'\\U000024C2-\\U0001F251'\n",
        "        ']+',\n",
        "        flags=re.UNICODE)\n",
        "  text = p.clean(text)\n",
        "  text = re.sub(r\"(@\\[A-Za-z0-9]+)|([^0-9A-Za-z \\t])|(\\w+:\\/\\/\\S+)|^rt|http.+?\", \"\", text)\n",
        "  text = emoji_pattern.sub(r'', text)\n",
        "  text = text.lower()\n",
        "  return text"
      ]
    },
    {
      "cell_type": "code",
      "execution_count": 10,
      "metadata": {
        "id": "EmeqGjjUkDZW"
      },
      "outputs": [],
      "source": [
        "def removing_stopwords(text):\n",
        "  text = \" \".join([word for word in text.split() if word not in stop_words])\n",
        "  return text"
      ]
    },
    {
      "cell_type": "code",
      "execution_count": 11,
      "metadata": {
        "id": "KCboYVWenw6C"
      },
      "outputs": [],
      "source": [
        "def lemmatizing_text(text):\n",
        "  text = \" \".join([lemmatizer.lemmatize(word) for word in text.split()])\n",
        "  return text"
      ]
    },
    {
      "cell_type": "code",
      "execution_count": 12,
      "metadata": {
        "id": "8wvS6l-UayzX"
      },
      "outputs": [],
      "source": [
        "df['text'] = df['text'].apply(str)\n",
        "df['cleaned_text'] = df['text'].apply(lambda x: clean_text(x)) #clean and lowercase text \n",
        "lemmatizer = WordNetLemmatizer()\n",
        "df['lemma_text'] = df['cleaned_text'].apply(lambda x: lemmatizing_text(x)) #lemmatizing word\n",
        "stop_words = set(stopwords.words(\"english\"))\n",
        "df['final_text'] = df['lemma_text'].apply(lambda x: removing_stopwords(x)) #removing stopword"
      ]
    },
    {
      "cell_type": "code",
      "execution_count": 13,
      "metadata": {
        "colab": {
          "base_uri": "https://localhost:8080/",
          "height": 815
        },
        "id": "DizH79DMnY2w",
        "outputId": "93322600-1ce7-4ae5-fb10-67a40dda1366"
      },
      "outputs": [
        {
          "output_type": "execute_result",
          "data": {
            "text/plain": [
              "    tweet_id       entity sentiment  \\\n",
              "0       2401  Borderlands  Positive   \n",
              "1       2401  Borderlands  Positive   \n",
              "2       2401  Borderlands  Positive   \n",
              "3       2401  Borderlands  Positive   \n",
              "4       2401  Borderlands  Positive   \n",
              "..       ...          ...       ...   \n",
              "95      2416  Borderlands   Neutral   \n",
              "96      2417  Borderlands  Negative   \n",
              "97      2417  Borderlands  Negative   \n",
              "98      2417  Borderlands  Negative   \n",
              "99      2417  Borderlands  Negative   \n",
              "\n",
              "                                                 text  \\\n",
              "0   im getting on borderlands and i will murder yo...   \n",
              "1   I am coming to the borders and I will kill you...   \n",
              "2   im getting on borderlands and i will kill you ...   \n",
              "3   im coming on borderlands and i will murder you...   \n",
              "4   im getting on borderlands 2 and i will murder ...   \n",
              "..                                                ...   \n",
              "95  I hate that this easy horrible modifier event ...   \n",
              "96  Grounded almost looked pretty cool even despit...   \n",
              "97  Grounded looked cool despite the borderline un...   \n",
              "98  Grosskreutz looked pretty cool, even despite t...   \n",
              "99  Grounded almost looked pretty cool here despit...   \n",
              "\n",
              "                                         cleaned_text  \\\n",
              "0   im getting on borderlands and i will murder yo...   \n",
              "1   i am coming to the borders and i will kill you...   \n",
              "2   im getting on borderlands and i will kill you all   \n",
              "3   im coming on borderlands and i will murder you...   \n",
              "4   im getting on borderlands and i will murder yo...   \n",
              "..                                                ...   \n",
              "95  i hate that this easy horrible modifier event ...   \n",
              "96  grounded almost looked pretty cool even despit...   \n",
              "97  grounded looked cool despite the borderline un...   \n",
              "98  grosskreutz looked pretty cool even despite th...   \n",
              "99  grounded almost looked pretty cool here despit...   \n",
              "\n",
              "                                           lemma_text  \\\n",
              "0   im getting on borderland and i will murder you...   \n",
              "1   i am coming to the border and i will kill you all   \n",
              "2    im getting on borderland and i will kill you all   \n",
              "3   im coming on borderland and i will murder you all   \n",
              "4   im getting on borderland and i will murder you...   \n",
              "..                                                ...   \n",
              "95  i hate that this easy horrible modifier event ...   \n",
              "96  grounded almost looked pretty cool even despit...   \n",
              "97  grounded looked cool despite the borderline un...   \n",
              "98  grosskreutz looked pretty cool even despite th...   \n",
              "99  grounded almost looked pretty cool here despit...   \n",
              "\n",
              "                                           final_text  \n",
              "0                        im getting borderland murder  \n",
              "1                                  coming border kill  \n",
              "2                          im getting borderland kill  \n",
              "3                         im coming borderland murder  \n",
              "4                        im getting borderland murder  \n",
              "..                                                ...  \n",
              "95  hate easy horrible modifier event game last fo...  \n",
              "96  grounded almost looked pretty cool even despit...  \n",
              "97  grounded looked cool despite borderline unfunn...  \n",
              "98  grosskreutz looked pretty cool even despite un...  \n",
              "99  grounded almost looked pretty cool despite bor...  \n",
              "\n",
              "[100 rows x 7 columns]"
            ],
            "text/html": [
              "\n",
              "  <div id=\"df-89b41cce-5f82-40c6-8432-ee83d5e3cef0\">\n",
              "    <div class=\"colab-df-container\">\n",
              "      <div>\n",
              "<style scoped>\n",
              "    .dataframe tbody tr th:only-of-type {\n",
              "        vertical-align: middle;\n",
              "    }\n",
              "\n",
              "    .dataframe tbody tr th {\n",
              "        vertical-align: top;\n",
              "    }\n",
              "\n",
              "    .dataframe thead th {\n",
              "        text-align: right;\n",
              "    }\n",
              "</style>\n",
              "<table border=\"1\" class=\"dataframe\">\n",
              "  <thead>\n",
              "    <tr style=\"text-align: right;\">\n",
              "      <th></th>\n",
              "      <th>tweet_id</th>\n",
              "      <th>entity</th>\n",
              "      <th>sentiment</th>\n",
              "      <th>text</th>\n",
              "      <th>cleaned_text</th>\n",
              "      <th>lemma_text</th>\n",
              "      <th>final_text</th>\n",
              "    </tr>\n",
              "  </thead>\n",
              "  <tbody>\n",
              "    <tr>\n",
              "      <th>0</th>\n",
              "      <td>2401</td>\n",
              "      <td>Borderlands</td>\n",
              "      <td>Positive</td>\n",
              "      <td>im getting on borderlands and i will murder yo...</td>\n",
              "      <td>im getting on borderlands and i will murder yo...</td>\n",
              "      <td>im getting on borderland and i will murder you...</td>\n",
              "      <td>im getting borderland murder</td>\n",
              "    </tr>\n",
              "    <tr>\n",
              "      <th>1</th>\n",
              "      <td>2401</td>\n",
              "      <td>Borderlands</td>\n",
              "      <td>Positive</td>\n",
              "      <td>I am coming to the borders and I will kill you...</td>\n",
              "      <td>i am coming to the borders and i will kill you...</td>\n",
              "      <td>i am coming to the border and i will kill you all</td>\n",
              "      <td>coming border kill</td>\n",
              "    </tr>\n",
              "    <tr>\n",
              "      <th>2</th>\n",
              "      <td>2401</td>\n",
              "      <td>Borderlands</td>\n",
              "      <td>Positive</td>\n",
              "      <td>im getting on borderlands and i will kill you ...</td>\n",
              "      <td>im getting on borderlands and i will kill you all</td>\n",
              "      <td>im getting on borderland and i will kill you all</td>\n",
              "      <td>im getting borderland kill</td>\n",
              "    </tr>\n",
              "    <tr>\n",
              "      <th>3</th>\n",
              "      <td>2401</td>\n",
              "      <td>Borderlands</td>\n",
              "      <td>Positive</td>\n",
              "      <td>im coming on borderlands and i will murder you...</td>\n",
              "      <td>im coming on borderlands and i will murder you...</td>\n",
              "      <td>im coming on borderland and i will murder you all</td>\n",
              "      <td>im coming borderland murder</td>\n",
              "    </tr>\n",
              "    <tr>\n",
              "      <th>4</th>\n",
              "      <td>2401</td>\n",
              "      <td>Borderlands</td>\n",
              "      <td>Positive</td>\n",
              "      <td>im getting on borderlands 2 and i will murder ...</td>\n",
              "      <td>im getting on borderlands and i will murder yo...</td>\n",
              "      <td>im getting on borderland and i will murder you...</td>\n",
              "      <td>im getting borderland murder</td>\n",
              "    </tr>\n",
              "    <tr>\n",
              "      <th>...</th>\n",
              "      <td>...</td>\n",
              "      <td>...</td>\n",
              "      <td>...</td>\n",
              "      <td>...</td>\n",
              "      <td>...</td>\n",
              "      <td>...</td>\n",
              "      <td>...</td>\n",
              "    </tr>\n",
              "    <tr>\n",
              "      <th>95</th>\n",
              "      <td>2416</td>\n",
              "      <td>Borderlands</td>\n",
              "      <td>Neutral</td>\n",
              "      <td>I hate that this easy horrible modifier event ...</td>\n",
              "      <td>i hate that this easy horrible modifier event ...</td>\n",
              "      <td>i hate that this easy horrible modifier event ...</td>\n",
              "      <td>hate easy horrible modifier event game last fo...</td>\n",
              "    </tr>\n",
              "    <tr>\n",
              "      <th>96</th>\n",
              "      <td>2417</td>\n",
              "      <td>Borderlands</td>\n",
              "      <td>Negative</td>\n",
              "      <td>Grounded almost looked pretty cool even despit...</td>\n",
              "      <td>grounded almost looked pretty cool even despit...</td>\n",
              "      <td>grounded almost looked pretty cool even despit...</td>\n",
              "      <td>grounded almost looked pretty cool even despit...</td>\n",
              "    </tr>\n",
              "    <tr>\n",
              "      <th>97</th>\n",
              "      <td>2417</td>\n",
              "      <td>Borderlands</td>\n",
              "      <td>Negative</td>\n",
              "      <td>Grounded looked cool despite the borderline un...</td>\n",
              "      <td>grounded looked cool despite the borderline un...</td>\n",
              "      <td>grounded looked cool despite the borderline un...</td>\n",
              "      <td>grounded looked cool despite borderline unfunn...</td>\n",
              "    </tr>\n",
              "    <tr>\n",
              "      <th>98</th>\n",
              "      <td>2417</td>\n",
              "      <td>Borderlands</td>\n",
              "      <td>Negative</td>\n",
              "      <td>Grosskreutz looked pretty cool, even despite t...</td>\n",
              "      <td>grosskreutz looked pretty cool even despite th...</td>\n",
              "      <td>grosskreutz looked pretty cool even despite th...</td>\n",
              "      <td>grosskreutz looked pretty cool even despite un...</td>\n",
              "    </tr>\n",
              "    <tr>\n",
              "      <th>99</th>\n",
              "      <td>2417</td>\n",
              "      <td>Borderlands</td>\n",
              "      <td>Negative</td>\n",
              "      <td>Grounded almost looked pretty cool here despit...</td>\n",
              "      <td>grounded almost looked pretty cool here despit...</td>\n",
              "      <td>grounded almost looked pretty cool here despit...</td>\n",
              "      <td>grounded almost looked pretty cool despite bor...</td>\n",
              "    </tr>\n",
              "  </tbody>\n",
              "</table>\n",
              "<p>100 rows × 7 columns</p>\n",
              "</div>\n",
              "      <button class=\"colab-df-convert\" onclick=\"convertToInteractive('df-89b41cce-5f82-40c6-8432-ee83d5e3cef0')\"\n",
              "              title=\"Convert this dataframe to an interactive table.\"\n",
              "              style=\"display:none;\">\n",
              "        \n",
              "  <svg xmlns=\"http://www.w3.org/2000/svg\" height=\"24px\"viewBox=\"0 0 24 24\"\n",
              "       width=\"24px\">\n",
              "    <path d=\"M0 0h24v24H0V0z\" fill=\"none\"/>\n",
              "    <path d=\"M18.56 5.44l.94 2.06.94-2.06 2.06-.94-2.06-.94-.94-2.06-.94 2.06-2.06.94zm-11 1L8.5 8.5l.94-2.06 2.06-.94-2.06-.94L8.5 2.5l-.94 2.06-2.06.94zm10 10l.94 2.06.94-2.06 2.06-.94-2.06-.94-.94-2.06-.94 2.06-2.06.94z\"/><path d=\"M17.41 7.96l-1.37-1.37c-.4-.4-.92-.59-1.43-.59-.52 0-1.04.2-1.43.59L10.3 9.45l-7.72 7.72c-.78.78-.78 2.05 0 2.83L4 21.41c.39.39.9.59 1.41.59.51 0 1.02-.2 1.41-.59l7.78-7.78 2.81-2.81c.8-.78.8-2.07 0-2.86zM5.41 20L4 18.59l7.72-7.72 1.47 1.35L5.41 20z\"/>\n",
              "  </svg>\n",
              "      </button>\n",
              "      \n",
              "  <style>\n",
              "    .colab-df-container {\n",
              "      display:flex;\n",
              "      flex-wrap:wrap;\n",
              "      gap: 12px;\n",
              "    }\n",
              "\n",
              "    .colab-df-convert {\n",
              "      background-color: #E8F0FE;\n",
              "      border: none;\n",
              "      border-radius: 50%;\n",
              "      cursor: pointer;\n",
              "      display: none;\n",
              "      fill: #1967D2;\n",
              "      height: 32px;\n",
              "      padding: 0 0 0 0;\n",
              "      width: 32px;\n",
              "    }\n",
              "\n",
              "    .colab-df-convert:hover {\n",
              "      background-color: #E2EBFA;\n",
              "      box-shadow: 0px 1px 2px rgba(60, 64, 67, 0.3), 0px 1px 3px 1px rgba(60, 64, 67, 0.15);\n",
              "      fill: #174EA6;\n",
              "    }\n",
              "\n",
              "    [theme=dark] .colab-df-convert {\n",
              "      background-color: #3B4455;\n",
              "      fill: #D2E3FC;\n",
              "    }\n",
              "\n",
              "    [theme=dark] .colab-df-convert:hover {\n",
              "      background-color: #434B5C;\n",
              "      box-shadow: 0px 1px 3px 1px rgba(0, 0, 0, 0.15);\n",
              "      filter: drop-shadow(0px 1px 2px rgba(0, 0, 0, 0.3));\n",
              "      fill: #FFFFFF;\n",
              "    }\n",
              "  </style>\n",
              "\n",
              "      <script>\n",
              "        const buttonEl =\n",
              "          document.querySelector('#df-89b41cce-5f82-40c6-8432-ee83d5e3cef0 button.colab-df-convert');\n",
              "        buttonEl.style.display =\n",
              "          google.colab.kernel.accessAllowed ? 'block' : 'none';\n",
              "\n",
              "        async function convertToInteractive(key) {\n",
              "          const element = document.querySelector('#df-89b41cce-5f82-40c6-8432-ee83d5e3cef0');\n",
              "          const dataTable =\n",
              "            await google.colab.kernel.invokeFunction('convertToInteractive',\n",
              "                                                     [key], {});\n",
              "          if (!dataTable) return;\n",
              "\n",
              "          const docLinkHtml = 'Like what you see? Visit the ' +\n",
              "            '<a target=\"_blank\" href=https://colab.research.google.com/notebooks/data_table.ipynb>data table notebook</a>'\n",
              "            + ' to learn more about interactive tables.';\n",
              "          element.innerHTML = '';\n",
              "          dataTable['output_type'] = 'display_data';\n",
              "          await google.colab.output.renderOutput(dataTable, element);\n",
              "          const docLink = document.createElement('div');\n",
              "          docLink.innerHTML = docLinkHtml;\n",
              "          element.appendChild(docLink);\n",
              "        }\n",
              "      </script>\n",
              "    </div>\n",
              "  </div>\n",
              "  "
            ]
          },
          "metadata": {},
          "execution_count": 13
        }
      ],
      "source": [
        "df.head(100)"
      ]
    },
    {
      "cell_type": "markdown",
      "metadata": {
        "id": "GefY3lCjkRx_"
      },
      "source": [
        "#Feature selection and engineering"
      ]
    },
    {
      "cell_type": "code",
      "execution_count": 14,
      "metadata": {
        "colab": {
          "base_uri": "https://localhost:8080/",
          "height": 424
        },
        "id": "epVtbAaPYy6S",
        "outputId": "ad987943-42ec-4231-aad4-3e0d2f5b62ef"
      },
      "outputs": [
        {
          "output_type": "execute_result",
          "data": {
            "text/plain": [
              "                                              final_text  Irrelevant  \\\n",
              "0                           im getting borderland murder           0   \n",
              "1                                     coming border kill           0   \n",
              "2                             im getting borderland kill           0   \n",
              "3                            im coming borderland murder           0   \n",
              "4                           im getting borderland murder           0   \n",
              "...                                                  ...         ...   \n",
              "74677  realized window partition mac like year behind...           0   \n",
              "74678  realized mac window partition year behind nvid...           0   \n",
              "74679  realized window partition mac year behind nvid...           0   \n",
              "74680  realized window partition mac like year behind...           0   \n",
              "74681  like window partition mac like year behind dri...           0   \n",
              "\n",
              "       Negative  Neutral  Positive  \n",
              "0             0        0         1  \n",
              "1             0        0         1  \n",
              "2             0        0         1  \n",
              "3             0        0         1  \n",
              "4             0        0         1  \n",
              "...         ...      ...       ...  \n",
              "74677         0        0         1  \n",
              "74678         0        0         1  \n",
              "74679         0        0         1  \n",
              "74680         0        0         1  \n",
              "74681         0        0         1  \n",
              "\n",
              "[74682 rows x 5 columns]"
            ],
            "text/html": [
              "\n",
              "  <div id=\"df-c2c8c651-07e4-4ada-98f5-107f6c870e5a\">\n",
              "    <div class=\"colab-df-container\">\n",
              "      <div>\n",
              "<style scoped>\n",
              "    .dataframe tbody tr th:only-of-type {\n",
              "        vertical-align: middle;\n",
              "    }\n",
              "\n",
              "    .dataframe tbody tr th {\n",
              "        vertical-align: top;\n",
              "    }\n",
              "\n",
              "    .dataframe thead th {\n",
              "        text-align: right;\n",
              "    }\n",
              "</style>\n",
              "<table border=\"1\" class=\"dataframe\">\n",
              "  <thead>\n",
              "    <tr style=\"text-align: right;\">\n",
              "      <th></th>\n",
              "      <th>final_text</th>\n",
              "      <th>Irrelevant</th>\n",
              "      <th>Negative</th>\n",
              "      <th>Neutral</th>\n",
              "      <th>Positive</th>\n",
              "    </tr>\n",
              "  </thead>\n",
              "  <tbody>\n",
              "    <tr>\n",
              "      <th>0</th>\n",
              "      <td>im getting borderland murder</td>\n",
              "      <td>0</td>\n",
              "      <td>0</td>\n",
              "      <td>0</td>\n",
              "      <td>1</td>\n",
              "    </tr>\n",
              "    <tr>\n",
              "      <th>1</th>\n",
              "      <td>coming border kill</td>\n",
              "      <td>0</td>\n",
              "      <td>0</td>\n",
              "      <td>0</td>\n",
              "      <td>1</td>\n",
              "    </tr>\n",
              "    <tr>\n",
              "      <th>2</th>\n",
              "      <td>im getting borderland kill</td>\n",
              "      <td>0</td>\n",
              "      <td>0</td>\n",
              "      <td>0</td>\n",
              "      <td>1</td>\n",
              "    </tr>\n",
              "    <tr>\n",
              "      <th>3</th>\n",
              "      <td>im coming borderland murder</td>\n",
              "      <td>0</td>\n",
              "      <td>0</td>\n",
              "      <td>0</td>\n",
              "      <td>1</td>\n",
              "    </tr>\n",
              "    <tr>\n",
              "      <th>4</th>\n",
              "      <td>im getting borderland murder</td>\n",
              "      <td>0</td>\n",
              "      <td>0</td>\n",
              "      <td>0</td>\n",
              "      <td>1</td>\n",
              "    </tr>\n",
              "    <tr>\n",
              "      <th>...</th>\n",
              "      <td>...</td>\n",
              "      <td>...</td>\n",
              "      <td>...</td>\n",
              "      <td>...</td>\n",
              "      <td>...</td>\n",
              "    </tr>\n",
              "    <tr>\n",
              "      <th>74677</th>\n",
              "      <td>realized window partition mac like year behind...</td>\n",
              "      <td>0</td>\n",
              "      <td>0</td>\n",
              "      <td>0</td>\n",
              "      <td>1</td>\n",
              "    </tr>\n",
              "    <tr>\n",
              "      <th>74678</th>\n",
              "      <td>realized mac window partition year behind nvid...</td>\n",
              "      <td>0</td>\n",
              "      <td>0</td>\n",
              "      <td>0</td>\n",
              "      <td>1</td>\n",
              "    </tr>\n",
              "    <tr>\n",
              "      <th>74679</th>\n",
              "      <td>realized window partition mac year behind nvid...</td>\n",
              "      <td>0</td>\n",
              "      <td>0</td>\n",
              "      <td>0</td>\n",
              "      <td>1</td>\n",
              "    </tr>\n",
              "    <tr>\n",
              "      <th>74680</th>\n",
              "      <td>realized window partition mac like year behind...</td>\n",
              "      <td>0</td>\n",
              "      <td>0</td>\n",
              "      <td>0</td>\n",
              "      <td>1</td>\n",
              "    </tr>\n",
              "    <tr>\n",
              "      <th>74681</th>\n",
              "      <td>like window partition mac like year behind dri...</td>\n",
              "      <td>0</td>\n",
              "      <td>0</td>\n",
              "      <td>0</td>\n",
              "      <td>1</td>\n",
              "    </tr>\n",
              "  </tbody>\n",
              "</table>\n",
              "<p>74682 rows × 5 columns</p>\n",
              "</div>\n",
              "      <button class=\"colab-df-convert\" onclick=\"convertToInteractive('df-c2c8c651-07e4-4ada-98f5-107f6c870e5a')\"\n",
              "              title=\"Convert this dataframe to an interactive table.\"\n",
              "              style=\"display:none;\">\n",
              "        \n",
              "  <svg xmlns=\"http://www.w3.org/2000/svg\" height=\"24px\"viewBox=\"0 0 24 24\"\n",
              "       width=\"24px\">\n",
              "    <path d=\"M0 0h24v24H0V0z\" fill=\"none\"/>\n",
              "    <path d=\"M18.56 5.44l.94 2.06.94-2.06 2.06-.94-2.06-.94-.94-2.06-.94 2.06-2.06.94zm-11 1L8.5 8.5l.94-2.06 2.06-.94-2.06-.94L8.5 2.5l-.94 2.06-2.06.94zm10 10l.94 2.06.94-2.06 2.06-.94-2.06-.94-.94-2.06-.94 2.06-2.06.94z\"/><path d=\"M17.41 7.96l-1.37-1.37c-.4-.4-.92-.59-1.43-.59-.52 0-1.04.2-1.43.59L10.3 9.45l-7.72 7.72c-.78.78-.78 2.05 0 2.83L4 21.41c.39.39.9.59 1.41.59.51 0 1.02-.2 1.41-.59l7.78-7.78 2.81-2.81c.8-.78.8-2.07 0-2.86zM5.41 20L4 18.59l7.72-7.72 1.47 1.35L5.41 20z\"/>\n",
              "  </svg>\n",
              "      </button>\n",
              "      \n",
              "  <style>\n",
              "    .colab-df-container {\n",
              "      display:flex;\n",
              "      flex-wrap:wrap;\n",
              "      gap: 12px;\n",
              "    }\n",
              "\n",
              "    .colab-df-convert {\n",
              "      background-color: #E8F0FE;\n",
              "      border: none;\n",
              "      border-radius: 50%;\n",
              "      cursor: pointer;\n",
              "      display: none;\n",
              "      fill: #1967D2;\n",
              "      height: 32px;\n",
              "      padding: 0 0 0 0;\n",
              "      width: 32px;\n",
              "    }\n",
              "\n",
              "    .colab-df-convert:hover {\n",
              "      background-color: #E2EBFA;\n",
              "      box-shadow: 0px 1px 2px rgba(60, 64, 67, 0.3), 0px 1px 3px 1px rgba(60, 64, 67, 0.15);\n",
              "      fill: #174EA6;\n",
              "    }\n",
              "\n",
              "    [theme=dark] .colab-df-convert {\n",
              "      background-color: #3B4455;\n",
              "      fill: #D2E3FC;\n",
              "    }\n",
              "\n",
              "    [theme=dark] .colab-df-convert:hover {\n",
              "      background-color: #434B5C;\n",
              "      box-shadow: 0px 1px 3px 1px rgba(0, 0, 0, 0.15);\n",
              "      filter: drop-shadow(0px 1px 2px rgba(0, 0, 0, 0.3));\n",
              "      fill: #FFFFFF;\n",
              "    }\n",
              "  </style>\n",
              "\n",
              "      <script>\n",
              "        const buttonEl =\n",
              "          document.querySelector('#df-c2c8c651-07e4-4ada-98f5-107f6c870e5a button.colab-df-convert');\n",
              "        buttonEl.style.display =\n",
              "          google.colab.kernel.accessAllowed ? 'block' : 'none';\n",
              "\n",
              "        async function convertToInteractive(key) {\n",
              "          const element = document.querySelector('#df-c2c8c651-07e4-4ada-98f5-107f6c870e5a');\n",
              "          const dataTable =\n",
              "            await google.colab.kernel.invokeFunction('convertToInteractive',\n",
              "                                                     [key], {});\n",
              "          if (!dataTable) return;\n",
              "\n",
              "          const docLinkHtml = 'Like what you see? Visit the ' +\n",
              "            '<a target=\"_blank\" href=https://colab.research.google.com/notebooks/data_table.ipynb>data table notebook</a>'\n",
              "            + ' to learn more about interactive tables.';\n",
              "          element.innerHTML = '';\n",
              "          dataTable['output_type'] = 'display_data';\n",
              "          await google.colab.output.renderOutput(dataTable, element);\n",
              "          const docLink = document.createElement('div');\n",
              "          docLink.innerHTML = docLinkHtml;\n",
              "          element.appendChild(docLink);\n",
              "        }\n",
              "      </script>\n",
              "    </div>\n",
              "  </div>\n",
              "  "
            ]
          },
          "metadata": {},
          "execution_count": 14
        }
      ],
      "source": [
        "category = pd.get_dummies(df.sentiment)\n",
        "df_baru = pd.concat([df['final_text'], category], axis=1)\n",
        "df_baru"
      ]
    },
    {
      "cell_type": "code",
      "execution_count": 63,
      "metadata": {
        "id": "lFWYMUGMZWAv"
      },
      "outputs": [],
      "source": [
        "text = df_baru['final_text'].values\n",
        "label = df_baru[['Irrelevant', 'Negative', 'Neutral', 'Positive']].values"
      ]
    },
    {
      "cell_type": "code",
      "execution_count": 75,
      "metadata": {
        "id": "oTWudVeusIdx"
      },
      "outputs": [],
      "source": [
        "text_train, text_val, label_train, label_val = train_test_split(text, label, test_size=0.2, random_state=42)"
      ]
    },
    {
      "cell_type": "code",
      "execution_count": 76,
      "metadata": {
        "colab": {
          "base_uri": "https://localhost:8080/"
        },
        "id": "ckZuRNynt8l_",
        "outputId": "c2fa68d9-faf1-48ad-91b3-54a5eda922cc"
      },
      "outputs": [
        {
          "output_type": "stream",
          "name": "stdout",
          "text": [
            "Vocabulary size = 31996\n"
          ]
        }
      ],
      "source": [
        "tokenizer = Tokenizer()\n",
        "tokenizer.fit_on_texts(text_train) \n",
        "tokenizer.fit_on_texts(text_val)\n",
        " \n",
        "sequences_train = tokenizer.texts_to_sequences(text_train)\n",
        "sequences_val = tokenizer.texts_to_sequences(text_val)\n",
        " \n",
        "text_train = pad_sequences(sequences_train, maxlen=200, truncating='pre') \n",
        "text_val = pad_sequences(sequences_val, maxlen=200, truncating='pre')\n",
        "\n",
        "vocabSize = len(tokenizer.index_word) + 1\n",
        "print(f\"Vocabulary size = {vocabSize}\")"
      ]
    },
    {
      "cell_type": "markdown",
      "metadata": {
        "id": "XAmfs3Yrkg74"
      },
      "source": [
        "#Modeling and training"
      ]
    },
    {
      "cell_type": "code",
      "execution_count": 77,
      "metadata": {
        "colab": {
          "base_uri": "https://localhost:8080/"
        },
        "id": "R4B6VwLjvHeV",
        "outputId": "fb24aa22-63df-40f1-e161-c4d0567b0f2a"
      },
      "outputs": [
        {
          "output_type": "stream",
          "name": "stdout",
          "text": [
            "Found 400000 word vectors.\n",
            "Converted 17328 words (14667 misses)\n"
          ]
        }
      ],
      "source": [
        "embeddings_index = {}\n",
        "embedding_dim = 200\n",
        "hits = 0\n",
        "misses = 0\n",
        "num_tokens = vocabSize\n",
        "\n",
        "with open('/content/drive/MyDrive/resource-tugas/Assignment/glove.6B.200d.txt') as f:\n",
        "    for line in f:\n",
        "        word, coefs = line.split(maxsplit=1)\n",
        "        coefs = np.fromstring(coefs, \"f\", sep=\" \")\n",
        "        embeddings_index[word] = coefs\n",
        "print(\"Found %s word vectors.\" % len(embeddings_index))\n",
        "\n",
        "embedding_matrix = np.zeros((num_tokens, embedding_dim))\n",
        "for word, i in tokenizer.word_index.items():\n",
        "    embedding_vector = embeddings_index.get(word)\n",
        "    if embedding_vector is not None:\n",
        "        embedding_matrix[i] = embedding_vector\n",
        "        hits += 1\n",
        "    else:\n",
        "        misses += 1\n",
        "        \n",
        "print(\"Converted %d words (%d misses)\" % (hits, misses))"
      ]
    },
    {
      "cell_type": "code",
      "execution_count": 86,
      "metadata": {
        "id": "bsw1ew55vnZO"
      },
      "outputs": [],
      "source": [
        "class myCallback(Callback):\n",
        "  def on_epoch_end(self, epoch, logs={}):\n",
        "    if(logs.get('accuracy')>0.90 and logs.get('val_accuracy')>0.85):\n",
        "      print(\"\\nAkurasi diatas 90% dengan validasi diatas 86%, hentikan training!\")\n",
        "      self.model.stop_training = True\n",
        "callback = myCallback()"
      ]
    },
    {
      "cell_type": "code",
      "execution_count": 87,
      "metadata": {
        "colab": {
          "base_uri": "https://localhost:8080/"
        },
        "id": "O_ph36ygv8t8",
        "outputId": "bbd74a49-dde0-4684-8bac-a01b621324dd"
      },
      "outputs": [
        {
          "output_type": "stream",
          "name": "stdout",
          "text": [
            "Model: \"sequential_11\"\n",
            "_________________________________________________________________\n",
            " Layer (type)                Output Shape              Param #   \n",
            "=================================================================\n",
            " embedding_11 (Embedding)    (None, 200, 200)          6399200   \n",
            "                                                                 \n",
            " lstm_12 (LSTM)              (None, 512)               1460224   \n",
            "                                                                 \n",
            " dropout_20 (Dropout)        (None, 512)               0         \n",
            "                                                                 \n",
            " dense_26 (Dense)            (None, 64)                32832     \n",
            "                                                                 \n",
            " dropout_21 (Dropout)        (None, 64)                0         \n",
            "                                                                 \n",
            " dense_27 (Dense)            (None, 16)                1040      \n",
            "                                                                 \n",
            " dropout_22 (Dropout)        (None, 16)                0         \n",
            "                                                                 \n",
            " dense_28 (Dense)            (None, 4)                 68        \n",
            "                                                                 \n",
            "=================================================================\n",
            "Total params: 7,893,364\n",
            "Trainable params: 1,494,164\n",
            "Non-trainable params: 6,399,200\n",
            "_________________________________________________________________\n"
          ]
        }
      ],
      "source": [
        "model = Sequential([\n",
        "  Embedding(\n",
        "        num_tokens, \n",
        "        embedding_dim,\n",
        "        input_length=200,\n",
        "        weights = [embedding_matrix],\n",
        "        trainable=False \n",
        "        ),\n",
        "  LSTM(512),\n",
        "  Dropout(0.5),\n",
        "  Dense(64),\n",
        "  Dropout(0.5),\n",
        "  Dense(16),\n",
        "  Dropout(0.5),\n",
        "  Dense(4, activation='softmax')\n",
        "])\n",
        "\n",
        "model.compile(loss='categorical_crossentropy', \n",
        "              optimizer= Adam(learning_rate=0.0005), \n",
        "              metrics=['accuracy'])\n",
        "model.summary()"
      ]
    },
    {
      "cell_type": "code",
      "execution_count": 88,
      "metadata": {
        "colab": {
          "base_uri": "https://localhost:8080/"
        },
        "id": "Qdn3AWZsxXuo",
        "outputId": "b20bac89-092f-46ff-c6fa-c76b997b4e98"
      },
      "outputs": [
        {
          "output_type": "stream",
          "name": "stdout",
          "text": [
            "Epoch 1/100\n",
            "  6/467 [..............................] - ETA: 41s - loss: 1.4584 - accuracy: 0.2969"
          ]
        },
        {
          "output_type": "stream",
          "name": "stderr",
          "text": [
            "WARNING:tensorflow:Callback method `on_train_batch_end` is slow compared to the batch time (batch time: 0.0407s vs `on_train_batch_end` time: 0.0518s). Check your callbacks.\n"
          ]
        },
        {
          "output_type": "stream",
          "name": "stdout",
          "text": [
            "467/467 [==============================] - 43s 88ms/step - loss: 1.2553 - accuracy: 0.4451 - val_loss: 1.1376 - val_accuracy: 0.5183\n",
            "Epoch 2/100\n",
            "467/467 [==============================] - 40s 86ms/step - loss: 1.2520 - accuracy: 0.4865 - val_loss: 1.2634 - val_accuracy: 0.4471\n",
            "Epoch 3/100\n",
            "467/467 [==============================] - 40s 86ms/step - loss: 1.2330 - accuracy: 0.4598 - val_loss: 1.1139 - val_accuracy: 0.5269\n",
            "Epoch 4/100\n",
            "467/467 [==============================] - 41s 87ms/step - loss: 1.1361 - accuracy: 0.5235 - val_loss: 1.0665 - val_accuracy: 0.5498\n",
            "Epoch 5/100\n",
            "467/467 [==============================] - 41s 87ms/step - loss: 1.0768 - accuracy: 0.5565 - val_loss: 1.0119 - val_accuracy: 0.5776\n",
            "Epoch 6/100\n",
            "467/467 [==============================] - 40s 87ms/step - loss: 1.0261 - accuracy: 0.5816 - val_loss: 0.9631 - val_accuracy: 0.6047\n",
            "Epoch 7/100\n",
            "467/467 [==============================] - 40s 86ms/step - loss: 0.9639 - accuracy: 0.6150 - val_loss: 0.8963 - val_accuracy: 0.6329\n",
            "Epoch 8/100\n",
            "467/467 [==============================] - 40s 86ms/step - loss: 0.8936 - accuracy: 0.6447 - val_loss: 0.8488 - val_accuracy: 0.6556\n",
            "Epoch 9/100\n",
            "467/467 [==============================] - 40s 86ms/step - loss: 0.8539 - accuracy: 0.6624 - val_loss: 0.8574 - val_accuracy: 0.6523\n",
            "Epoch 10/100\n",
            "467/467 [==============================] - 41s 87ms/step - loss: 0.7885 - accuracy: 0.6927 - val_loss: 0.7368 - val_accuracy: 0.7091\n",
            "Epoch 11/100\n",
            "467/467 [==============================] - 41s 87ms/step - loss: 0.6990 - accuracy: 0.7317 - val_loss: 0.7049 - val_accuracy: 0.7250\n",
            "Epoch 12/100\n",
            "467/467 [==============================] - 41s 87ms/step - loss: 0.6349 - accuracy: 0.7610 - val_loss: 0.6785 - val_accuracy: 0.7391\n",
            "Epoch 13/100\n",
            "467/467 [==============================] - 40s 86ms/step - loss: 0.5704 - accuracy: 0.7857 - val_loss: 0.6438 - val_accuracy: 0.7570\n",
            "Epoch 14/100\n",
            "467/467 [==============================] - 40s 86ms/step - loss: 0.5150 - accuracy: 0.8076 - val_loss: 0.6433 - val_accuracy: 0.7655\n",
            "Epoch 15/100\n",
            "467/467 [==============================] - 40s 86ms/step - loss: 0.4687 - accuracy: 0.8273 - val_loss: 0.5892 - val_accuracy: 0.7925\n",
            "Epoch 16/100\n",
            "467/467 [==============================] - 40s 86ms/step - loss: 0.4325 - accuracy: 0.8402 - val_loss: 0.6390 - val_accuracy: 0.7836\n",
            "Epoch 17/100\n",
            "467/467 [==============================] - 41s 87ms/step - loss: 0.3928 - accuracy: 0.8546 - val_loss: 0.5759 - val_accuracy: 0.8107\n",
            "Epoch 18/100\n",
            "467/467 [==============================] - 41s 87ms/step - loss: 0.3558 - accuracy: 0.8686 - val_loss: 0.5555 - val_accuracy: 0.8191\n",
            "Epoch 19/100\n",
            "467/467 [==============================] - 40s 86ms/step - loss: 0.3285 - accuracy: 0.8788 - val_loss: 0.5628 - val_accuracy: 0.8174\n",
            "Epoch 20/100\n",
            "467/467 [==============================] - 40s 86ms/step - loss: 0.3149 - accuracy: 0.8840 - val_loss: 0.6114 - val_accuracy: 0.8202\n",
            "Epoch 21/100\n",
            "467/467 [==============================] - 40s 86ms/step - loss: 0.2928 - accuracy: 0.8914 - val_loss: 0.5506 - val_accuracy: 0.8250\n",
            "Epoch 22/100\n",
            "467/467 [==============================] - 40s 86ms/step - loss: 0.2825 - accuracy: 0.8945 - val_loss: 0.5273 - val_accuracy: 0.8354\n",
            "Epoch 23/100\n",
            "467/467 [==============================] - 41s 87ms/step - loss: 0.2569 - accuracy: 0.9046 - val_loss: 0.5537 - val_accuracy: 0.8318\n",
            "Epoch 24/100\n",
            "467/467 [==============================] - 40s 87ms/step - loss: 0.2519 - accuracy: 0.9051 - val_loss: 0.5534 - val_accuracy: 0.8391\n",
            "Epoch 25/100\n",
            "467/467 [==============================] - 40s 86ms/step - loss: 0.2395 - accuracy: 0.9113 - val_loss: 0.5268 - val_accuracy: 0.8472\n",
            "Epoch 26/100\n",
            "467/467 [==============================] - 40s 86ms/step - loss: 0.2301 - accuracy: 0.9134 - val_loss: 0.5445 - val_accuracy: 0.8445\n",
            "Epoch 27/100\n",
            "467/467 [==============================] - 40s 86ms/step - loss: 0.2279 - accuracy: 0.9131 - val_loss: 0.5612 - val_accuracy: 0.8407\n",
            "Epoch 28/100\n",
            "467/467 [==============================] - 40s 86ms/step - loss: 0.2153 - accuracy: 0.9189 - val_loss: 0.5474 - val_accuracy: 0.8472\n",
            "Epoch 29/100\n",
            "467/467 [==============================] - 41s 87ms/step - loss: 0.2007 - accuracy: 0.9226 - val_loss: 0.5787 - val_accuracy: 0.8427\n",
            "Epoch 30/100\n",
            "467/467 [==============================] - 40s 87ms/step - loss: 0.2018 - accuracy: 0.9226 - val_loss: 0.5324 - val_accuracy: 0.8468\n",
            "Epoch 31/100\n",
            "467/467 [==============================] - 40s 87ms/step - loss: 0.1983 - accuracy: 0.9253 - val_loss: 0.5995 - val_accuracy: 0.8389\n",
            "Epoch 32/100\n",
            "467/467 [==============================] - ETA: 0s - loss: 0.1915 - accuracy: 0.9261\n",
            "Akurasi diatas 90% dengan validasi diatas 86%, hentikan training!\n",
            "467/467 [==============================] - 40s 86ms/step - loss: 0.1915 - accuracy: 0.9261 - val_loss: 0.5642 - val_accuracy: 0.8527\n"
          ]
        }
      ],
      "source": [
        "history = model.fit(text_train, label_train, epochs=100, batch_size=128, validation_data=(text_val, label_val), verbose=1, callbacks=[callback])"
      ]
    },
    {
      "cell_type": "code",
      "execution_count": 90,
      "metadata": {
        "colab": {
          "base_uri": "https://localhost:8080/",
          "height": 545
        },
        "id": "VO9VfeI4aawW",
        "outputId": "096cc4d1-81d1-4169-a097-1719563559d8"
      },
      "outputs": [
        {
          "output_type": "display_data",
          "data": {
            "text/plain": [
              "<Figure size 432x288 with 1 Axes>"
            ],
            "image/png": "[encoded data removed]"
          },
          "metadata": {
            "needs_background": "light"
          }
        },
        {
          "output_type": "display_data",
          "data": {
            "text/plain": [
              "<Figure size 432x288 with 1 Axes>"
            ],
            "image/png": "[encoded data removed]"
          },
          "metadata": {
            "needs_background": "light"
          }
        }
      ],
      "source": [
        "%matplotlib inline\n",
        "acc = [x*100 for x in history.history['accuracy']]\n",
        "val_acc = [x*100 for x in history.history['val_accuracy']]\n",
        "loss = history.history['loss']\n",
        "val_loss = history.history['val_loss']\n",
        "\n",
        "epochs = range(len(acc))\n",
        "\n",
        "plt.plot(epochs, acc, 'r', label='Training accuracy')\n",
        "plt.plot(epochs, val_acc, 'b', label='Validation accuracy')\n",
        "plt.ylim(top=100)\n",
        "plt.title('Training and validation accuracy')\n",
        "plt.legend()\n",
        "plt.figure()\n",
        "\n",
        "plt.plot(epochs, loss, 'r', label='Training Loss')\n",
        "plt.plot(epochs, val_loss, 'b', label='Validation Loss')\n",
        "plt.title('Training and validation loss')\n",
        "plt.legend()\n",
        "\n",
        "plt.show()"
      ]
    }
  ],
  "metadata": {
    "accelerator": "GPU",
    "colab": {
      "collapsed_sections": [],
      "toc_visible": true,
      "provenance": []
    },
    "gpuClass": "standard",
    "kernelspec": {
      "display_name": "Python 3",
      "name": "python3"
    },
    "language_info": {
      "name": "python"
    }
  },
  "nbformat": 4,
  "nbformat_minor": 0
}