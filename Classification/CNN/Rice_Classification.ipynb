{
  "cells": [
    {
      "cell_type": "markdown",
      "metadata": {
        "id": "1NqxiIqeYSgr"
      },
      "source": [
        "#Library and Dependencies"
      ]
    },
    {
      "cell_type": "code",
      "execution_count": 9,
      "metadata": {
        "id": "7w1xDPQ9WVkn"
      },
      "outputs": [],
      "source": [
        "import zipfile,os\n",
        "import pathlib\n",
        "import numpy as np\n",
        "import matplotlib.pyplot as plt\n",
        "import tensorflow as tf\n",
        "from google.colab import drive\n",
        "\n",
        "from tensorflow.keras.optimizers import Adam\n",
        "from tensorflow.keras.models import Sequential\n",
        "from tensorflow.keras.callbacks import EarlyStopping, ReduceLROnPlateau\n",
        "from tensorflow.keras.layers import Dense, Conv2D, MaxPooling2D, Dropout, Flatten, Dropout\n",
        "from tensorflow.keras.metrics import Precision, Recall\n",
        "from tensorflow.keras.preprocessing.image import ImageDataGenerator\n",
        "from tensorflow.keras.preprocessing import image\n",
        "from tensorflow.saved_model import save"
      ]
    },
    {
      "cell_type": "code",
      "execution_count": 10,
      "metadata": {
        "colab": {
          "base_uri": "https://localhost:8080/"
        },
        "id": "gZyyRgrfYci5",
        "outputId": "d15c5f58-0b66-46fb-d04e-401e71d92439"
      },
      "outputs": [
        {
          "name": "stdout",
          "output_type": "stream",
          "text": [
            "Looking in indexes: https://pypi.org/simple, https://us-python.pkg.dev/colab-wheels/public/simple/\n",
            "Requirement already satisfied: kaggle in /usr/local/lib/python3.7/dist-packages (1.5.12)\n",
            "Requirement already satisfied: certifi in /usr/local/lib/python3.7/dist-packages (from kaggle) (2022.6.15)\n",
            "Requirement already satisfied: python-slugify in /usr/local/lib/python3.7/dist-packages (from kaggle) (6.1.2)\n",
            "Requirement already satisfied: tqdm in /usr/local/lib/python3.7/dist-packages (from kaggle) (4.64.1)\n",
            "Requirement already satisfied: six>=1.10 in /usr/local/lib/python3.7/dist-packages (from kaggle) (1.15.0)\n",
            "Requirement already satisfied: requests in /usr/local/lib/python3.7/dist-packages (from kaggle) (2.23.0)\n",
            "Requirement already satisfied: python-dateutil in /usr/local/lib/python3.7/dist-packages (from kaggle) (2.8.2)\n",
            "Requirement already satisfied: urllib3 in /usr/local/lib/python3.7/dist-packages (from kaggle) (1.24.3)\n",
            "Requirement already satisfied: text-unidecode>=1.3 in /usr/local/lib/python3.7/dist-packages (from python-slugify->kaggle) (1.3)\n",
            "Requirement already satisfied: chardet<4,>=3.0.2 in /usr/local/lib/python3.7/dist-packages (from requests->kaggle) (3.0.4)\n",
            "Requirement already satisfied: idna<3,>=2.5 in /usr/local/lib/python3.7/dist-packages (from requests->kaggle) (2.10)\n"
          ]
        }
      ],
      "source": [
        "!pip install kaggle"
      ]
    },
    {
      "cell_type": "markdown",
      "metadata": {
        "id": "UiNQs5WOYVIy"
      },
      "source": [
        "#Data Preparation"
      ]
    },
    {
      "cell_type": "code",
      "execution_count": 11,
      "metadata": {
        "colab": {
          "base_uri": "https://localhost:8080/"
        },
        "id": "JoZ0bc5QZBb4",
        "outputId": "263738de-8c4e-4a53-c579-3c5f4986d468"
      },
      "outputs": [
        {
          "name": "stdout",
          "output_type": "stream",
          "text": [
            "Mounted at /content/drive\n"
          ]
        }
      ],
      "source": [
        "drive.mount('/content/drive')"
      ]
    },
    {
      "cell_type": "code",
      "execution_count": 17,
      "metadata": {
        "id": "btsLpo-sZFpr"
      },
      "outputs": [],
      "source": [
        "os.environ['KAGGLE_CONFIG_DIR'] = \"/content/drive/MyDrive/Kaggle\""
      ]
    },
    {
      "cell_type": "code",
      "execution_count": 18,
      "metadata": {
        "colab": {
          "base_uri": "https://localhost:8080/"
        },
        "id": "jmfERCKTZLN0",
        "outputId": "586143b7-9eba-4959-8372-ab45f6e83cb7"
      },
      "outputs": [
        {
          "name": "stdout",
          "output_type": "stream",
          "text": [
            "/content/drive/MyDrive/Kaggle\n"
          ]
        }
      ],
      "source": [
        "%cd /content/drive/MyDrive/Kaggle"
      ]
    },
    {
      "cell_type": "code",
      "execution_count": 19,
      "metadata": {
        "colab": {
          "base_uri": "https://localhost:8080/"
        },
        "id": "GZnrEnNnZVfZ",
        "outputId": "f4b80fbf-a3cd-4d5b-be02-a39dff2bcdf0"
      },
      "outputs": [
        {
          "name": "stdout",
          "output_type": "stream",
          "text": [
            "Downloading rice-image-dataset.zip to /content/drive/MyDrive/Kaggle\n",
            " 99% 217M/219M [00:01<00:00, 202MB/s]\n",
            "100% 219M/219M [00:01<00:00, 189MB/s]\n"
          ]
        }
      ],
      "source": [
        "#https://www.kaggle.com/datasets/muratkokludataset/rice-image-dataset\n",
        "!kaggle datasets download -d muratkokludataset/rice-image-dataset"
      ]
    },
    {
      "cell_type": "code",
      "execution_count": null,
      "metadata": {
        "colab": {
          "base_uri": "https://localhost:8080/"
        },
        "id": "EXZW1_tEZdO4",
        "outputId": "797742d2-2c9a-4296-9798-dbdba02427c0"
      },
      "outputs": [],
      "source": [
        "!unzip \\rice-image-dataset.zip && rm *.zip"
      ]
    },
    {
      "cell_type": "code",
      "execution_count": 21,
      "metadata": {
        "id": "8yxn68U1umRM"
      },
      "outputs": [],
      "source": [
        "rice_dir = './Rice_Image_Dataset'"
      ]
    },
    {
      "cell_type": "code",
      "execution_count": 22,
      "metadata": {
        "id": "HHPVYHNgJGdc"
      },
      "outputs": [],
      "source": [
        "!rm ./Rice_Image_Dataset/*.txt"
      ]
    },
    {
      "cell_type": "markdown",
      "metadata": {
        "id": "oJkhqA7ivWTS"
      },
      "source": [
        "#Explore Data"
      ]
    },
    {
      "cell_type": "code",
      "execution_count": 25,
      "metadata": {
        "colab": {
          "base_uri": "https://localhost:8080/"
        },
        "id": "CLomMmInoNRV",
        "outputId": "dc5bb717-2879-45c3-b17c-7f764d75a528"
      },
      "outputs": [
        {
          "name": "stdout",
          "output_type": "stream",
          "text": [
            "Jumlah kategori: 5\n",
            "=============================\n",
            "1. Arborio\n",
            "2. Basmati\n",
            "3. Ipsala\n",
            "4. Jasmine\n",
            "5. Karacadag\n"
          ]
        }
      ],
      "source": [
        "classes = os.listdir(rice_dir)\n",
        "num_classes = len(classes)\n",
        "print(\"Jumlah kategori:\", num_classes)\n",
        "print(\"=============================\")\n",
        "for i, cls in enumerate(classes):\n",
        "  print(f\"{i+1}. {cls}\")"
      ]
    },
    {
      "cell_type": "code",
      "execution_count": 26,
      "metadata": {
        "colab": {
          "base_uri": "https://localhost:8080/"
        },
        "id": "hrrCxDjxKwBx",
        "outputId": "422926e8-ef60-429b-f351-ae844d8c1b33"
      },
      "outputs": [
        {
          "name": "stdout",
          "output_type": "stream",
          "text": [
            "Data Arborio: 15000\n",
            "Data Basmati: 15000\n",
            "Data Ipsala: 15000\n",
            "Data Jasmine: 15000\n",
            "Data Karacadag: 15000\n",
            "======================\n",
            "Total data: 75000\n"
          ]
        }
      ],
      "source": [
        "total_data = 0\n",
        "for cls in classes:\n",
        "  temp = os.path.join(rice_dir,cls)\n",
        "  num = len(os.listdir(temp))\n",
        "  print(\"Data {0}: {1}\".format(cls,num))\n",
        "  total_data += num\n",
        "print(\"======================\")\n",
        "print(\"Total data:\",total_data)"
      ]
    },
    {
      "cell_type": "code",
      "execution_count": 30,
      "metadata": {
        "colab": {
          "base_uri": "https://localhost:8080/",
          "height": 239
        },
        "id": "W97EgR6Vw0Ja",
        "outputId": "440c4797-c0bf-4aae-8311-c79e420a4124"
      },
      "outputs": [
        {
          "data": {
            "image/png": "[encoded data removed]",
            "text/plain": [
              "<Figure size 1440x288 with 5 Axes>"
            ]
          },
          "metadata": {
            "needs_background": "light"
          },
          "output_type": "display_data"
        }
      ],
      "source": [
        "%matplotlib inline\n",
        "\n",
        "nrows = 1\n",
        "ncols = 5\n",
        "\n",
        "fig = plt.gcf()\n",
        "fig.set_size_inches(ncols * 4, nrows * 4)\n",
        "\n",
        "for i, cls in enumerate(classes):\n",
        "  sp = plt.subplot(nrows, ncols, i + 1)\n",
        "  sp.axis('Off')\n",
        "\n",
        "  path = os.path.join(rice_dir,cls)\n",
        "  file_name = os.listdir(path)[0]\n",
        "  img = image.load_img(os.path.join(path,file_name), target_size=(224,224))\n",
        "  plt.title(cls)\n",
        "  plt.imshow(img)\n",
        "\n",
        "plt.show()"
      ]
    },
    {
      "cell_type": "markdown",
      "metadata": {
        "id": "vf0D4_ojz1yU"
      },
      "source": [
        "#Data Preprocessing"
      ]
    },
    {
      "cell_type": "code",
      "execution_count": 31,
      "metadata": {
        "id": "VaBgzwN_0lpR"
      },
      "outputs": [],
      "source": [
        "datagen = ImageDataGenerator(\n",
        "      rescale=1./255,\n",
        "      validation_split=0.2)"
      ]
    },
    {
      "cell_type": "code",
      "execution_count": 32,
      "metadata": {
        "colab": {
          "base_uri": "https://localhost:8080/"
        },
        "id": "hDKxc-yD03_i",
        "outputId": "bdec2972-ea79-440f-82d4-67cb619ababf"
      },
      "outputs": [
        {
          "name": "stdout",
          "output_type": "stream",
          "text": [
            "Found 60000 images belonging to 5 classes.\n",
            "Found 15000 images belonging to 5 classes.\n"
          ]
        }
      ],
      "source": [
        "train_generator = datagen.flow_from_directory(\n",
        "    rice_dir,\n",
        "    target_size=(300,300),\n",
        "    batch_size = 32,\n",
        "    class_mode = \"categorical\",\n",
        "    shuffle=True,\n",
        "    subset='training'\n",
        ")\n",
        "\n",
        "val_generator = datagen.flow_from_directory(\n",
        "    rice_dir,\n",
        "    target_size=(300,300),\n",
        "    batch_size = 32,\n",
        "    class_mode = \"categorical\",\n",
        "    shuffle=True,\n",
        "    subset='validation'\n",
        ")"
      ]
    },
    {
      "cell_type": "markdown",
      "metadata": {
        "id": "NDqD0nav2Frc"
      },
      "source": [
        "#Modeling"
      ]
    },
    {
      "cell_type": "code",
      "execution_count": 40,
      "metadata": {
        "colab": {
          "base_uri": "https://localhost:8080/"
        },
        "id": "bGwsDdbi2FHR",
        "outputId": "fc9e9379-1ff5-4d14-e9a6-e33922cd4686"
      },
      "outputs": [
        {
          "name": "stdout",
          "output_type": "stream",
          "text": [
            "Model: \"sequential_2\"\n",
            "_________________________________________________________________\n",
            " Layer (type)                Output Shape              Param #   \n",
            "=================================================================\n",
            " conv2d_6 (Conv2D)           (None, 298, 298, 4)       112       \n",
            "                                                                 \n",
            " max_pooling2d_6 (MaxPooling  (None, 149, 149, 4)      0         \n",
            " 2D)                                                             \n",
            "                                                                 \n",
            " conv2d_7 (Conv2D)           (None, 147, 147, 8)       296       \n",
            "                                                                 \n",
            " max_pooling2d_7 (MaxPooling  (None, 73, 73, 8)        0         \n",
            " 2D)                                                             \n",
            "                                                                 \n",
            " conv2d_8 (Conv2D)           (None, 71, 71, 16)        1168      \n",
            "                                                                 \n",
            " max_pooling2d_8 (MaxPooling  (None, 35, 35, 16)       0         \n",
            " 2D)                                                             \n",
            "                                                                 \n",
            " dropout_6 (Dropout)         (None, 35, 35, 16)        0         \n",
            "                                                                 \n",
            " flatten_2 (Flatten)         (None, 19600)             0         \n",
            "                                                                 \n",
            " dense_6 (Dense)             (None, 512)               10035712  \n",
            "                                                                 \n",
            " dropout_7 (Dropout)         (None, 512)               0         \n",
            "                                                                 \n",
            " dense_7 (Dense)             (None, 256)               131328    \n",
            "                                                                 \n",
            " dropout_8 (Dropout)         (None, 256)               0         \n",
            "                                                                 \n",
            " dense_8 (Dense)             (None, 5)                 1285      \n",
            "                                                                 \n",
            "=================================================================\n",
            "Total params: 10,169,901\n",
            "Trainable params: 10,169,901\n",
            "Non-trainable params: 0\n",
            "_________________________________________________________________\n"
          ]
        }
      ],
      "source": [
        "model = Sequential([\n",
        "    Conv2D(4, (3,3), activation='relu', input_shape=(300, 300, 3)),\n",
        "    MaxPooling2D(2, 2),\n",
        "    Conv2D(8, (3,3), activation='relu'),\n",
        "    MaxPooling2D(2,2),\n",
        "    Conv2D(16, (3,3), activation='relu'),\n",
        "    MaxPooling2D(2,2),\n",
        "    Dropout(0.2),\n",
        "    Flatten(),\n",
        "    Dense(512, activation='relu'),\n",
        "    Dropout(0.25),\n",
        "    Dense(256, activation='relu'),\n",
        "    Dropout(0.5),\n",
        "    Dense(num_classes, activation='softmax')\n",
        "])\n",
        "model.summary()"
      ]
    },
    {
      "cell_type": "code",
      "execution_count": 41,
      "metadata": {
        "id": "C6nxPyfZ5XpC"
      },
      "outputs": [],
      "source": [
        "model.compile(\n",
        "    optimizer=Adam(learning_rate=0.001), \n",
        "    loss=\"categorical_crossentropy\", \n",
        "    metrics = [\"accuracy\", Precision(), Recall()])"
      ]
    },
    {
      "cell_type": "code",
      "execution_count": 35,
      "metadata": {
        "id": "SI6NtWy76KgI"
      },
      "outputs": [],
      "source": [
        "callbacks=[\n",
        "    EarlyStopping(\n",
        "        monitor='val_loss',\n",
        "        patience=3, \n",
        "        restore_best_weights=True\n",
        "    ), \n",
        "    ReduceLROnPlateau(\n",
        "        monitor='val_loss',\n",
        "        patience=1\n",
        "    )\n",
        "]"
      ]
    },
    {
      "cell_type": "code",
      "execution_count": 42,
      "metadata": {
        "colab": {
          "base_uri": "https://localhost:8080/"
        },
        "id": "urz-Zm1V7idi",
        "outputId": "28e54bee-1132-46c3-964e-9426d10dffbf"
      },
      "outputs": [
        {
          "name": "stdout",
          "output_type": "stream",
          "text": [
            "Epoch 1/20\n",
            "1875/1875 [==============================] - 279s 148ms/step - loss: 0.1403 - accuracy: 0.9527 - precision_2: 0.9563 - recall_2: 0.9498 - val_loss: 0.0796 - val_accuracy: 0.9726 - val_precision_2: 0.9729 - val_recall_2: 0.9725 - lr: 0.0010\n",
            "Epoch 2/20\n",
            "1875/1875 [==============================] - 267s 143ms/step - loss: 0.0918 - accuracy: 0.9697 - precision_2: 0.9700 - recall_2: 0.9694 - val_loss: 0.0739 - val_accuracy: 0.9733 - val_precision_2: 0.9734 - val_recall_2: 0.9733 - lr: 0.0010\n",
            "Epoch 3/20\n",
            "1875/1875 [==============================] - 264s 141ms/step - loss: 0.0746 - accuracy: 0.9758 - precision_2: 0.9760 - recall_2: 0.9757 - val_loss: 0.1168 - val_accuracy: 0.9619 - val_precision_2: 0.9620 - val_recall_2: 0.9619 - lr: 0.0010\n",
            "Epoch 4/20\n",
            "1875/1875 [==============================] - 264s 141ms/step - loss: 0.0350 - accuracy: 0.9884 - precision_2: 0.9885 - recall_2: 0.9884 - val_loss: 0.0213 - val_accuracy: 0.9935 - val_precision_2: 0.9937 - val_recall_2: 0.9935 - lr: 1.0000e-04\n",
            "Epoch 5/20\n",
            "1875/1875 [==============================] - 267s 142ms/step - loss: 0.0219 - accuracy: 0.9925 - precision_2: 0.9925 - recall_2: 0.9925 - val_loss: 0.0160 - val_accuracy: 0.9958 - val_precision_2: 0.9958 - val_recall_2: 0.9958 - lr: 1.0000e-04\n",
            "Epoch 6/20\n",
            "1875/1875 [==============================] - 274s 146ms/step - loss: 0.0178 - accuracy: 0.9942 - precision_2: 0.9942 - recall_2: 0.9941 - val_loss: 0.0178 - val_accuracy: 0.9948 - val_precision_2: 0.9948 - val_recall_2: 0.9948 - lr: 1.0000e-04\n",
            "Epoch 7/20\n",
            "1875/1875 [==============================] - 265s 141ms/step - loss: 0.0134 - accuracy: 0.9956 - precision_2: 0.9956 - recall_2: 0.9955 - val_loss: 0.0148 - val_accuracy: 0.9957 - val_precision_2: 0.9957 - val_recall_2: 0.9956 - lr: 1.0000e-05\n",
            "Epoch 8/20\n",
            "1875/1875 [==============================] - 267s 142ms/step - loss: 0.0125 - accuracy: 0.9960 - precision_2: 0.9961 - recall_2: 0.9960 - val_loss: 0.0146 - val_accuracy: 0.9957 - val_precision_2: 0.9957 - val_recall_2: 0.9957 - lr: 1.0000e-05\n",
            "Epoch 9/20\n",
            "1875/1875 [==============================] - 265s 141ms/step - loss: 0.0123 - accuracy: 0.9959 - precision_2: 0.9959 - recall_2: 0.9959 - val_loss: 0.0146 - val_accuracy: 0.9955 - val_precision_2: 0.9955 - val_recall_2: 0.9955 - lr: 1.0000e-05\n",
            "Epoch 10/20\n",
            "1875/1875 [==============================] - 264s 141ms/step - loss: 0.0116 - accuracy: 0.9962 - precision_2: 0.9962 - recall_2: 0.9962 - val_loss: 0.0147 - val_accuracy: 0.9955 - val_precision_2: 0.9955 - val_recall_2: 0.9955 - lr: 1.0000e-06\n",
            "Epoch 11/20\n",
            "1875/1875 [==============================] - 263s 140ms/step - loss: 0.0118 - accuracy: 0.9961 - precision_2: 0.9961 - recall_2: 0.9961 - val_loss: 0.0147 - val_accuracy: 0.9955 - val_precision_2: 0.9955 - val_recall_2: 0.9955 - lr: 1.0000e-07\n"
          ]
        }
      ],
      "source": [
        "history = model.fit(\n",
        "    train_generator,\n",
        "    validation_data = val_generator,\n",
        "    epochs=20,\n",
        "    verbose = 1,\n",
        "    callbacks = callbacks)"
      ]
    },
    {
      "cell_type": "code",
      "execution_count": 43,
      "metadata": {
        "colab": {
          "base_uri": "https://localhost:8080/",
          "height": 545
        },
        "id": "zGDRvRUu7yBM",
        "outputId": "a74cbc2d-0b7e-4f5d-df67-c075cb4bd181"
      },
      "outputs": [
        {
          "data": {
            "image/png": "[encoded data removed]",
            "text/plain": [
              "<Figure size 432x288 with 1 Axes>"
            ]
          },
          "metadata": {
            "needs_background": "light"
          },
          "output_type": "display_data"
        },
        {
          "data": {
            "image/png": "[encoded data removed]",
            "text/plain": [
              "<Figure size 432x288 with 1 Axes>"
            ]
          },
          "metadata": {
            "needs_background": "light"
          },
          "output_type": "display_data"
        }
      ],
      "source": [
        "%matplotlib inline\n",
        "acc = [x*100 for x in history.history['accuracy']]\n",
        "val_acc = [x*100 for x in history.history['val_accuracy']]\n",
        "loss = history.history['loss']\n",
        "val_loss = history.history['val_loss']\n",
        "\n",
        "epochs = range(len(acc))\n",
        "\n",
        "plt.plot(epochs, acc, 'r', label='Training accuracy')\n",
        "plt.plot(epochs, val_acc, 'b', label='Validation accuracy')\n",
        "plt.ylim(top=100)\n",
        "plt.title('Training and validation accuracy')\n",
        "plt.legend()\n",
        "plt.figure()\n",
        "\n",
        "plt.plot(epochs, loss, 'r', label='Training Loss')\n",
        "plt.plot(epochs, val_loss, 'b', label='Validation Loss')\n",
        "plt.title('Training and validation loss')\n",
        "plt.legend()\n",
        "\n",
        "plt.show()"
      ]
    },
    {
      "cell_type": "markdown",
      "metadata": {
        "id": "fpZVg7yy7OUt"
      },
      "source": [
        "#Mengubah Model"
      ]
    },
    {
      "cell_type": "code",
      "execution_count": 44,
      "metadata": {
        "id": "i9xvfGne7N7O"
      },
      "outputs": [],
      "source": [
        "export_dir = '/content/saved_model/'\n",
        "save(model, export_dir)"
      ]
    },
    {
      "cell_type": "code",
      "execution_count": 45,
      "metadata": {
        "id": "cn-7t08m7Rxy"
      },
      "outputs": [],
      "source": [
        "converter = tf.lite.TFLiteConverter.from_saved_model(export_dir)\n",
        "tflite_model = converter.convert()"
      ]
    },
    {
      "cell_type": "code",
      "execution_count": 47,
      "metadata": {
        "colab": {
          "base_uri": "https://localhost:8080/"
        },
        "id": "ZN2JrWss7TKn",
        "outputId": "a8471654-fe8f-424f-8607-603323df17e7"
      },
      "outputs": [
        {
          "data": {
            "text/plain": [
              "40683660"
            ]
          },
          "execution_count": 47,
          "metadata": {},
          "output_type": "execute_result"
        }
      ],
      "source": [
        "tflite_model_file = pathlib.Path('/content/rices.tflite')\n",
        "tflite_model_file.write_bytes(tflite_model)"
      ]
    }
  ],
  "metadata": {
    "accelerator": "GPU",
    "colab": {
      "collapsed_sections": [],
      "provenance": []
    },
    "kernelspec": {
      "display_name": "Python 3.10.4 64-bit",
      "language": "python",
      "name": "python3"
    },
    "language_info": {
      "name": "python",
      "version": "3.10.4"
    },
    "vscode": {
      "interpreter": {
        "hash": "38ebd07503b1166762ae5db117926b0a741790639ed60b5ef4eac33fd4f6e519"
      }
    }
  },
  "nbformat": 4,
  "nbformat_minor": 0
}
