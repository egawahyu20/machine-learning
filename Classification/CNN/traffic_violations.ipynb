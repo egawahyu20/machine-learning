{
  "cells": [
    {
      "cell_type": "markdown",
      "metadata": {
        "id": "8MiMTc5_NNPj"
      },
      "source": [
        "#Challenge"
      ]
    },
    {
      "cell_type": "code",
      "execution_count": 1,
      "metadata": {
        "id": "QP1q2srGNNPo"
      },
      "outputs": [],
      "source": [
        "# If additional packages are needed but are not installed by default, uncomment the last two lines of this cell\n",
        "# and replace <package list> with a list of additional packages.\n",
        "# This will ensure the notebook has all the dependencies and works everywhere\n",
        "\n",
        "#import sys\n",
        "#!{sys.executable} -m pip install <package list>"
      ]
    },
    {
      "cell_type": "code",
      "execution_count": 2,
      "metadata": {
        "id": "7pi0AWbCYS2z",
        "colab": {
          "base_uri": "https://localhost:8080/"
        },
        "outputId": "c0f1d0bb-2359-4a0f-f0c2-2f5876a6cfb0"
      },
      "outputs": [
        {
          "output_type": "stream",
          "name": "stdout",
          "text": [
            "Looking in indexes: https://pypi.org/simple, https://us-python.pkg.dev/colab-wheels/public/simple/\n",
            "Collecting wget\n",
            "  Downloading wget-3.2.zip (10 kB)\n",
            "Building wheels for collected packages: wget\n",
            "  Building wheel for wget (setup.py) ... \u001b[?25l\u001b[?25hdone\n",
            "  Created wheel for wget: filename=wget-3.2-py3-none-any.whl size=9675 sha256=1763066cc55f119b09bca206682efe710a3aef735ace9be80323819617490790\n",
            "  Stored in directory: /root/.cache/pip/wheels/a1/b6/7c/0e63e34eb06634181c63adacca38b79ff8f35c37e3c13e3c02\n",
            "Successfully built wget\n",
            "Installing collected packages: wget\n",
            "Successfully installed wget-3.2\n",
            "Looking in indexes: https://pypi.org/simple, https://us-python.pkg.dev/colab-wheels/public/simple/\n",
            "\u001b[31mERROR: Could not find a version that satisfies the requirement shutil (from versions: none)\u001b[0m\n",
            "\u001b[31mERROR: No matching distribution found for shutil\u001b[0m\n"
          ]
        }
      ],
      "source": [
        "import sys\n",
        "!{sys.executable} -m pip install wget\n",
        "!{sys.executable} -m pip install shutil"
      ]
    },
    {
      "cell_type": "code",
      "execution_count": 3,
      "metadata": {
        "id": "ZnKy7tPyNNPs"
      },
      "outputs": [],
      "source": [
        "# Libraries\n",
        "import pandas as pd\n",
        "import os\n",
        "from shutil import unpack_archive\n",
        "pd.set_option(\"display.max_columns\", 101)"
      ]
    },
    {
      "cell_type": "markdown",
      "metadata": {
        "id": "3DZrs3tbNNPv"
      },
      "source": [
        "## Dataset"
      ]
    },
    {
      "cell_type": "code",
      "execution_count": 4,
      "metadata": {
        "id": "YD6KBDnWYS22",
        "colab": {
          "base_uri": "https://localhost:8080/"
        },
        "outputId": "30391923-1d8f-4ff1-9e62-cc9589683aec"
      },
      "outputs": [
        {
          "output_type": "stream",
          "name": "stdout",
          "text": [
            "--2022-07-14 18:53:15--  https://hr-projects-assets-prod.s3.amazonaws.com/1iaanii247i/8c7bc0c59ee6bcdb3646a1997606a9d0/test.zip\n",
            "Resolving hr-projects-assets-prod.s3.amazonaws.com (hr-projects-assets-prod.s3.amazonaws.com)... 52.216.42.153\n",
            "Connecting to hr-projects-assets-prod.s3.amazonaws.com (hr-projects-assets-prod.s3.amazonaws.com)|52.216.42.153|:443... connected.\n",
            "HTTP request sent, awaiting response... 200 OK\n",
            "Length: 58948996 (56M) [application/zip]\n",
            "Saving to: ‘test.zip’\n",
            "\n",
            "test.zip            100%[===================>]  56.22M  12.7MB/s    in 5.7s    \n",
            "\n",
            "2022-07-14 18:53:22 (9.93 MB/s) - ‘test.zip’ saved [58948996/58948996]\n",
            "\n",
            "--2022-07-14 18:53:22--  https://hr-projects-assets-prod.s3.amazonaws.com/1iaanii247i/ffe8804da24b94ee410a8730ba297dfc/train_0.zip\n",
            "Resolving hr-projects-assets-prod.s3.amazonaws.com (hr-projects-assets-prod.s3.amazonaws.com)... 52.217.80.12\n",
            "Connecting to hr-projects-assets-prod.s3.amazonaws.com (hr-projects-assets-prod.s3.amazonaws.com)|52.217.80.12|:443... connected.\n",
            "HTTP request sent, awaiting response... 200 OK\n",
            "Length: 85750296 (82M) [binary/octet-stream]\n",
            "Saving to: ‘train_0.zip’\n",
            "\n",
            "train_0.zip         100%[===================>]  81.78M  13.1MB/s    in 7.7s    \n",
            "\n",
            "2022-07-14 18:53:31 (10.7 MB/s) - ‘train_0.zip’ saved [85750296/85750296]\n",
            "\n",
            "--2022-07-14 18:53:31--  https://hr-projects-assets-prod.s3.amazonaws.com/1iaanii247i/5460fcc87e2d7f7e19c17f719e0df00a/train_1.zip\n",
            "Resolving hr-projects-assets-prod.s3.amazonaws.com (hr-projects-assets-prod.s3.amazonaws.com)... 52.217.67.220\n",
            "Connecting to hr-projects-assets-prod.s3.amazonaws.com (hr-projects-assets-prod.s3.amazonaws.com)|52.217.67.220|:443... connected.\n",
            "HTTP request sent, awaiting response... 200 OK\n",
            "Length: 83582710 (80M) [binary/octet-stream]\n",
            "Saving to: ‘train_1.zip’\n",
            "\n",
            "train_1.zip         100%[===================>]  79.71M  13.3MB/s    in 7.5s    \n",
            "\n",
            "2022-07-14 18:53:39 (10.7 MB/s) - ‘train_1.zip’ saved [83582710/83582710]\n",
            "\n",
            "Extracting Train Dataset : Label 1\n",
            "Extracting Train Dataset : Label 0\n",
            "Extracting Test Dataset\n",
            "Dataset Extracted\n",
            "Extra Files Removed\n"
          ]
        }
      ],
      "source": [
        "# Run this cell block to download and extract image data\n",
        "!wget 'https://hr-projects-assets-prod.s3.amazonaws.com/1iaanii247i/8c7bc0c59ee6bcdb3646a1997606a9d0/test.zip'\n",
        "!wget 'https://hr-projects-assets-prod.s3.amazonaws.com/1iaanii247i/ffe8804da24b94ee410a8730ba297dfc/train_0.zip'\n",
        "!wget 'https://hr-projects-assets-prod.s3.amazonaws.com/1iaanii247i/5460fcc87e2d7f7e19c17f719e0df00a/train_1.zip'\n",
        "\n",
        "print('Extracting Train Dataset : Label 1')\n",
        "unpack_archive('train_1.zip', '')\n",
        "\n",
        "print('Extracting Train Dataset : Label 0')\n",
        "unpack_archive('train_0.zip', '')\n",
        "\n",
        "print('Extracting Test Dataset')\n",
        "unpack_archive('test.zip', '')\n",
        "\n",
        "print('Dataset Extracted')\n",
        "\n",
        "\n",
        "os.remove('train_1.zip')\n",
        "os.remove('train_0.zip')\n",
        "os.remove('test.zip')\n",
        "print('Extra Files Removed')"
      ]
    },
    {
      "cell_type": "markdown",
      "metadata": {
        "id": "7DOJdz_cYS23"
      },
      "source": [
        "## Data Description"
      ]
    },
    {
      "cell_type": "markdown",
      "metadata": {
        "id": "ErDxdcsoNNPx"
      },
      "source": [
        "Column | Description\n",
        ":---|:---\n",
        "`file` | Image name\n",
        "`label` | Target Label (1/0)"
      ]
    },
    {
      "cell_type": "code",
      "source": [
        "label = pd.read_csv(\"/content/train_labels.csv\")\n",
        "label.head()"
      ],
      "metadata": {
        "colab": {
          "base_uri": "https://localhost:8080/",
          "height": 206
        },
        "id": "M_b06G0BBT0G",
        "outputId": "02da1558-e592-4d05-b9dc-b0e8742a87bc"
      },
      "execution_count": 5,
      "outputs": [
        {
          "output_type": "execute_result",
          "data": {
            "text/plain": [
              "            file  label\n",
              "0  img_44733.jpg    1.0\n",
              "1  img_72999.jpg    1.0\n",
              "2  img_25094.jpg    1.0\n",
              "3  img_69092.jpg    1.0\n",
              "4  img_92629.jpg    1.0"
            ],
            "text/html": [
              "\n",
              "  <div id=\"df-b3ef9028-1fde-48f2-a471-813dcedab9af\">\n",
              "    <div class=\"colab-df-container\">\n",
              "      <div>\n",
              "<style scoped>\n",
              "    .dataframe tbody tr th:only-of-type {\n",
              "        vertical-align: middle;\n",
              "    }\n",
              "\n",
              "    .dataframe tbody tr th {\n",
              "        vertical-align: top;\n",
              "    }\n",
              "\n",
              "    .dataframe thead th {\n",
              "        text-align: right;\n",
              "    }\n",
              "</style>\n",
              "<table border=\"1\" class=\"dataframe\">\n",
              "  <thead>\n",
              "    <tr style=\"text-align: right;\">\n",
              "      <th></th>\n",
              "      <th>file</th>\n",
              "      <th>label</th>\n",
              "    </tr>\n",
              "  </thead>\n",
              "  <tbody>\n",
              "    <tr>\n",
              "      <th>0</th>\n",
              "      <td>img_44733.jpg</td>\n",
              "      <td>1.0</td>\n",
              "    </tr>\n",
              "    <tr>\n",
              "      <th>1</th>\n",
              "      <td>img_72999.jpg</td>\n",
              "      <td>1.0</td>\n",
              "    </tr>\n",
              "    <tr>\n",
              "      <th>2</th>\n",
              "      <td>img_25094.jpg</td>\n",
              "      <td>1.0</td>\n",
              "    </tr>\n",
              "    <tr>\n",
              "      <th>3</th>\n",
              "      <td>img_69092.jpg</td>\n",
              "      <td>1.0</td>\n",
              "    </tr>\n",
              "    <tr>\n",
              "      <th>4</th>\n",
              "      <td>img_92629.jpg</td>\n",
              "      <td>1.0</td>\n",
              "    </tr>\n",
              "  </tbody>\n",
              "</table>\n",
              "</div>\n",
              "      <button class=\"colab-df-convert\" onclick=\"convertToInteractive('df-b3ef9028-1fde-48f2-a471-813dcedab9af')\"\n",
              "              title=\"Convert this dataframe to an interactive table.\"\n",
              "              style=\"display:none;\">\n",
              "        \n",
              "  <svg xmlns=\"http://www.w3.org/2000/svg\" height=\"24px\"viewBox=\"0 0 24 24\"\n",
              "       width=\"24px\">\n",
              "    <path d=\"M0 0h24v24H0V0z\" fill=\"none\"/>\n",
              "    <path d=\"M18.56 5.44l.94 2.06.94-2.06 2.06-.94-2.06-.94-.94-2.06-.94 2.06-2.06.94zm-11 1L8.5 8.5l.94-2.06 2.06-.94-2.06-.94L8.5 2.5l-.94 2.06-2.06.94zm10 10l.94 2.06.94-2.06 2.06-.94-2.06-.94-.94-2.06-.94 2.06-2.06.94z\"/><path d=\"M17.41 7.96l-1.37-1.37c-.4-.4-.92-.59-1.43-.59-.52 0-1.04.2-1.43.59L10.3 9.45l-7.72 7.72c-.78.78-.78 2.05 0 2.83L4 21.41c.39.39.9.59 1.41.59.51 0 1.02-.2 1.41-.59l7.78-7.78 2.81-2.81c.8-.78.8-2.07 0-2.86zM5.41 20L4 18.59l7.72-7.72 1.47 1.35L5.41 20z\"/>\n",
              "  </svg>\n",
              "      </button>\n",
              "      \n",
              "  <style>\n",
              "    .colab-df-container {\n",
              "      display:flex;\n",
              "      flex-wrap:wrap;\n",
              "      gap: 12px;\n",
              "    }\n",
              "\n",
              "    .colab-df-convert {\n",
              "      background-color: #E8F0FE;\n",
              "      border: none;\n",
              "      border-radius: 50%;\n",
              "      cursor: pointer;\n",
              "      display: none;\n",
              "      fill: #1967D2;\n",
              "      height: 32px;\n",
              "      padding: 0 0 0 0;\n",
              "      width: 32px;\n",
              "    }\n",
              "\n",
              "    .colab-df-convert:hover {\n",
              "      background-color: #E2EBFA;\n",
              "      box-shadow: 0px 1px 2px rgba(60, 64, 67, 0.3), 0px 1px 3px 1px rgba(60, 64, 67, 0.15);\n",
              "      fill: #174EA6;\n",
              "    }\n",
              "\n",
              "    [theme=dark] .colab-df-convert {\n",
              "      background-color: #3B4455;\n",
              "      fill: #D2E3FC;\n",
              "    }\n",
              "\n",
              "    [theme=dark] .colab-df-convert:hover {\n",
              "      background-color: #434B5C;\n",
              "      box-shadow: 0px 1px 3px 1px rgba(0, 0, 0, 0.15);\n",
              "      filter: drop-shadow(0px 1px 2px rgba(0, 0, 0, 0.3));\n",
              "      fill: #FFFFFF;\n",
              "    }\n",
              "  </style>\n",
              "\n",
              "      <script>\n",
              "        const buttonEl =\n",
              "          document.querySelector('#df-b3ef9028-1fde-48f2-a471-813dcedab9af button.colab-df-convert');\n",
              "        buttonEl.style.display =\n",
              "          google.colab.kernel.accessAllowed ? 'block' : 'none';\n",
              "\n",
              "        async function convertToInteractive(key) {\n",
              "          const element = document.querySelector('#df-b3ef9028-1fde-48f2-a471-813dcedab9af');\n",
              "          const dataTable =\n",
              "            await google.colab.kernel.invokeFunction('convertToInteractive',\n",
              "                                                     [key], {});\n",
              "          if (!dataTable) return;\n",
              "\n",
              "          const docLinkHtml = 'Like what you see? Visit the ' +\n",
              "            '<a target=\"_blank\" href=https://colab.research.google.com/notebooks/data_table.ipynb>data table notebook</a>'\n",
              "            + ' to learn more about interactive tables.';\n",
              "          element.innerHTML = '';\n",
              "          dataTable['output_type'] = 'display_data';\n",
              "          await google.colab.output.renderOutput(dataTable, element);\n",
              "          const docLink = document.createElement('div');\n",
              "          docLink.innerHTML = docLinkHtml;\n",
              "          element.appendChild(docLink);\n",
              "        }\n",
              "      </script>\n",
              "    </div>\n",
              "  </div>\n",
              "  "
            ]
          },
          "metadata": {},
          "execution_count": 5
        }
      ]
    },
    {
      "cell_type": "code",
      "execution_count": 6,
      "metadata": {
        "id": "ekzXg7HBNNQB"
      },
      "outputs": [],
      "source": [
        "import tensorflow as tf\n",
        "from tensorflow.keras.preprocessing.image import ImageDataGenerator"
      ]
    },
    {
      "cell_type": "code",
      "execution_count": 7,
      "metadata": {
        "id": "zvMdAHwrYS27"
      },
      "outputs": [],
      "source": [
        "train_datagen = ImageDataGenerator(\n",
        "      rescale=1./255,\n",
        "      rotation_range=45,\n",
        "      width_shift_range=0.2,\n",
        "      height_shift_range=0.2,\n",
        "      shear_range=0.2,\n",
        "      zoom_range=0.2,\n",
        "      horizontal_flip=True,\n",
        "      validation_split=0.2\n",
        "      )\n",
        "test_datagen = ImageDataGenerator(rescale=1./255)"
      ]
    },
    {
      "cell_type": "code",
      "execution_count": 8,
      "metadata": {
        "id": "uLAaDp6OYS27",
        "colab": {
          "base_uri": "https://localhost:8080/"
        },
        "outputId": "639e4a91-0655-471a-a3b1-b74cf2ea195f"
      },
      "outputs": [
        {
          "output_type": "stream",
          "name": "stdout",
          "text": [
            "Found 3213 images belonging to 2 classes.\n",
            "Found 802 images belonging to 2 classes.\n"
          ]
        }
      ],
      "source": [
        "train_generator = train_datagen.flow_from_directory(\n",
        "    '/content/train',\n",
        "    target_size=(300,300),\n",
        "    batch_size = 128,\n",
        "    class_mode = \"binary\",\n",
        "    subset=\"training\"\n",
        ")\n",
        "validation_generator = train_datagen.flow_from_directory(\n",
        "    '/content/train',\n",
        "    target_size=(300,300),\n",
        "    batch_size = 128,\n",
        "    class_mode = \"binary\",\n",
        "    subset=\"validation\"\n",
        ")"
      ]
    },
    {
      "cell_type": "markdown",
      "metadata": {
        "id": "776AnflSNNQD"
      },
      "source": [
        "## Machine Learning\n",
        "\n",
        "Build a neural network that can classify the driver’s behaviour.\n",
        "- **The model's performance will be evaluated on the basis of accuracy.**"
      ]
    },
    {
      "cell_type": "code",
      "execution_count": 21,
      "metadata": {
        "id": "cwO5c1ABNNQE"
      },
      "outputs": [],
      "source": [
        "class myCallback(tf.keras.callbacks.Callback):\n",
        "  def on_epoch_end(self, epoch, logs={}):\n",
        "    if(logs.get('accuracy')>0.90):\n",
        "      print(\"\\nReached 90% accuracy so cancelling training!\")\n",
        "      self.model.stop_training = True\n",
        "callback = myCallback()"
      ]
    },
    {
      "cell_type": "code",
      "execution_count": 32,
      "metadata": {
        "id": "hAmSb7AfNNQI"
      },
      "outputs": [],
      "source": [
        "model = tf.keras.models.Sequential([\n",
        "                                    tf.keras.layers.Conv2D(8, (3,3), activation=\"relu\", input_shape=(300,300,3)),\n",
        "                                    tf.keras.layers.MaxPooling2D(2,2),\n",
        "                                    tf.keras.layers.Conv2D(16, (3,3), activation=\"relu\"),\n",
        "                                    tf.keras.layers.MaxPooling2D(2,2),\n",
        "                                    tf.keras.layers.Conv2D(16, (3,3), activation=\"relu\"),\n",
        "                                    tf.keras.layers.MaxPooling2D(2,2),\n",
        "                                    tf.keras.layers.Dropout(0.2),\n",
        "                                    tf.keras.layers.Flatten(),\n",
        "                                    tf.keras.layers.Dense(128, activation=\"relu\"),\n",
        "                                    tf.keras.layers.Dense(64, activation=\"relu\"),\n",
        "                                    tf.keras.layers.Dense(1, activation=\"sigmoid\")\n",
        "                                    ])"
      ]
    },
    {
      "cell_type": "code",
      "execution_count": 33,
      "metadata": {
        "id": "E6VYAA-iNNQM",
        "colab": {
          "base_uri": "https://localhost:8080/"
        },
        "outputId": "76c7e0a2-42cc-4db5-fc3d-b879f11d1d71"
      },
      "outputs": [
        {
          "output_type": "stream",
          "name": "stdout",
          "text": [
            "Model: \"sequential_6\"\n",
            "_________________________________________________________________\n",
            " Layer (type)                Output Shape              Param #   \n",
            "=================================================================\n",
            " conv2d_23 (Conv2D)          (None, 298, 298, 8)       224       \n",
            "                                                                 \n",
            " max_pooling2d_23 (MaxPoolin  (None, 149, 149, 8)      0         \n",
            " g2D)                                                            \n",
            "                                                                 \n",
            " conv2d_24 (Conv2D)          (None, 147, 147, 16)      1168      \n",
            "                                                                 \n",
            " max_pooling2d_24 (MaxPoolin  (None, 73, 73, 16)       0         \n",
            " g2D)                                                            \n",
            "                                                                 \n",
            " conv2d_25 (Conv2D)          (None, 71, 71, 16)        2320      \n",
            "                                                                 \n",
            " max_pooling2d_25 (MaxPoolin  (None, 35, 35, 16)       0         \n",
            " g2D)                                                            \n",
            "                                                                 \n",
            " dropout_6 (Dropout)         (None, 35, 35, 16)        0         \n",
            "                                                                 \n",
            " flatten_6 (Flatten)         (None, 19600)             0         \n",
            "                                                                 \n",
            " dense_18 (Dense)            (None, 128)               2508928   \n",
            "                                                                 \n",
            " dense_19 (Dense)            (None, 64)                8256      \n",
            "                                                                 \n",
            " dense_20 (Dense)            (None, 1)                 65        \n",
            "                                                                 \n",
            "=================================================================\n",
            "Total params: 2,520,961\n",
            "Trainable params: 2,520,961\n",
            "Non-trainable params: 0\n",
            "_________________________________________________________________\n"
          ]
        }
      ],
      "source": [
        "model.summary()"
      ]
    },
    {
      "cell_type": "code",
      "execution_count": 34,
      "metadata": {
        "id": "mNMb2ZGCNNQT"
      },
      "outputs": [],
      "source": [
        "from tensorflow.keras.optimizers import Adam\n",
        "\n",
        "model.compile(optimizer=Adam(learning_rate=0.0001), loss=\"binary_crossentropy\", metrics = [\"accuracy\"])"
      ]
    },
    {
      "cell_type": "code",
      "execution_count": 35,
      "metadata": {
        "id": "6UCGui6nNNQV",
        "colab": {
          "base_uri": "https://localhost:8080/"
        },
        "outputId": "8d5f5f9e-4c9e-42d8-b59c-7731778e7498"
      },
      "outputs": [
        {
          "output_type": "stream",
          "name": "stdout",
          "text": [
            "Epoch 1/25\n",
            "26/26 [==============================] - 94s 4s/step - loss: 0.6908 - accuracy: 0.5313 - val_loss: 0.6842 - val_accuracy: 0.5549\n",
            "Epoch 2/25\n",
            "26/26 [==============================] - 90s 3s/step - loss: 0.6875 - accuracy: 0.5521 - val_loss: 0.6751 - val_accuracy: 0.6022\n",
            "Epoch 3/25\n",
            "26/26 [==============================] - 90s 3s/step - loss: 0.6805 - accuracy: 0.5736 - val_loss: 0.6779 - val_accuracy: 0.5673\n",
            "Epoch 4/25\n",
            "26/26 [==============================] - 90s 3s/step - loss: 0.6753 - accuracy: 0.5854 - val_loss: 0.6631 - val_accuracy: 0.6097\n",
            "Epoch 5/25\n",
            "26/26 [==============================] - 88s 3s/step - loss: 0.6701 - accuracy: 0.5851 - val_loss: 0.6570 - val_accuracy: 0.6247\n",
            "Epoch 6/25\n",
            "26/26 [==============================] - 89s 3s/step - loss: 0.6655 - accuracy: 0.6060 - val_loss: 0.6620 - val_accuracy: 0.6035\n",
            "Epoch 7/25\n",
            "26/26 [==============================] - 89s 3s/step - loss: 0.6734 - accuracy: 0.5857 - val_loss: 0.6658 - val_accuracy: 0.6022\n",
            "Epoch 8/25\n",
            "26/26 [==============================] - 90s 3s/step - loss: 0.6712 - accuracy: 0.5917 - val_loss: 0.6586 - val_accuracy: 0.6060\n",
            "Epoch 9/25\n",
            "26/26 [==============================] - 89s 3s/step - loss: 0.6595 - accuracy: 0.6203 - val_loss: 0.6491 - val_accuracy: 0.6222\n",
            "Epoch 10/25\n",
            "26/26 [==============================] - 90s 3s/step - loss: 0.6580 - accuracy: 0.6082 - val_loss: 0.6495 - val_accuracy: 0.6359\n",
            "Epoch 11/25\n",
            "26/26 [==============================] - 88s 3s/step - loss: 0.6590 - accuracy: 0.6066 - val_loss: 0.6732 - val_accuracy: 0.5636\n",
            "Epoch 12/25\n",
            "26/26 [==============================] - 89s 3s/step - loss: 0.6611 - accuracy: 0.6029 - val_loss: 0.6441 - val_accuracy: 0.6359\n",
            "Epoch 13/25\n",
            "26/26 [==============================] - 89s 4s/step - loss: 0.6545 - accuracy: 0.6144 - val_loss: 0.6424 - val_accuracy: 0.6496\n",
            "Epoch 14/25\n",
            "26/26 [==============================] - 88s 3s/step - loss: 0.6486 - accuracy: 0.6237 - val_loss: 0.6414 - val_accuracy: 0.6309\n",
            "Epoch 15/25\n",
            "26/26 [==============================] - 90s 3s/step - loss: 0.6465 - accuracy: 0.6271 - val_loss: 0.6329 - val_accuracy: 0.6434\n",
            "Epoch 16/25\n",
            "26/26 [==============================] - 89s 3s/step - loss: 0.6491 - accuracy: 0.6237 - val_loss: 0.6476 - val_accuracy: 0.6322\n",
            "Epoch 17/25\n",
            "26/26 [==============================] - 89s 4s/step - loss: 0.6387 - accuracy: 0.6411 - val_loss: 0.6392 - val_accuracy: 0.6110\n",
            "Epoch 18/25\n",
            "26/26 [==============================] - 89s 3s/step - loss: 0.6375 - accuracy: 0.6418 - val_loss: 0.6377 - val_accuracy: 0.6222\n",
            "Epoch 19/25\n",
            "26/26 [==============================] - 89s 3s/step - loss: 0.6318 - accuracy: 0.6452 - val_loss: 0.6177 - val_accuracy: 0.6708\n",
            "Epoch 20/25\n",
            "26/26 [==============================] - 89s 3s/step - loss: 0.6310 - accuracy: 0.6467 - val_loss: 0.6347 - val_accuracy: 0.6434\n",
            "Epoch 21/25\n",
            "26/26 [==============================] - 89s 3s/step - loss: 0.6325 - accuracy: 0.6424 - val_loss: 0.6258 - val_accuracy: 0.6359\n",
            "Epoch 22/25\n",
            "26/26 [==============================] - 89s 3s/step - loss: 0.6297 - accuracy: 0.6415 - val_loss: 0.6220 - val_accuracy: 0.6496\n",
            "Epoch 23/25\n",
            "26/26 [==============================] - 88s 3s/step - loss: 0.6235 - accuracy: 0.6533 - val_loss: 0.6246 - val_accuracy: 0.6633\n",
            "Epoch 24/25\n",
            "26/26 [==============================] - 89s 3s/step - loss: 0.6239 - accuracy: 0.6564 - val_loss: 0.6104 - val_accuracy: 0.6746\n",
            "Epoch 25/25\n",
            "26/26 [==============================] - 88s 3s/step - loss: 0.6199 - accuracy: 0.6461 - val_loss: 0.6128 - val_accuracy: 0.6633\n"
          ]
        }
      ],
      "source": [
        "history = model.fit(train_generator, epochs=25, validation_data=validation_generator,verbose = 1, callbacks = [callback])"
      ]
    },
    {
      "cell_type": "markdown",
      "metadata": {
        "id": "Cqv9hOnfNNQZ"
      },
      "source": [
        "> #### Task:\n",
        "- **Submit the predictions on the test dataset using your optimized model** <br/>\n",
        "    For each image in the test folder, predict the value of the label (0/1). You should submit a CSV file with a header row and one row per test entry. \n",
        "\n",
        "The file (`submissions.csv`) should have exactly 2 columns:\n",
        "   - **file**\n",
        "   - **label**\n",
        "   "
      ]
    },
    {
      "cell_type": "code",
      "execution_count": 36,
      "metadata": {
        "id": "C2FpSVKqNNQa",
        "colab": {
          "base_uri": "https://localhost:8080/"
        },
        "outputId": "e62906ca-6c32-400a-afa4-085f0b751ca1"
      },
      "outputs": [
        {
          "output_type": "stream",
          "name": "stdout",
          "text": [
            ".DS_Store not found or not a image file\n"
          ]
        }
      ],
      "source": [
        "from keras.preprocessing import image\n",
        "import numpy as np\n",
        "\n",
        "test_dir = os.path.join('/content/test')\n",
        "test_names = os.listdir(test_dir)\n",
        "\n",
        "test_list = []\n",
        "\n",
        "# predicting images\n",
        "\n",
        "for name in test_names:\n",
        "  try:\n",
        "    path = '/content/test/' + name\n",
        "    img = image.load_img(path, target_size=(300, 300))\n",
        "    x = image.img_to_array(img)\n",
        "    x = x / 255\n",
        "    x = np.expand_dims(x, axis=0)\n",
        "    images = np.vstack([x])\n",
        "    result = model.predict(images, batch_size=10)\n",
        "  except:\n",
        "    print(f\"{name} not found or not a image file\")\n",
        "  else:\n",
        "    if result[0]>0.5:\n",
        "      test_list.append([name,1])\n",
        "    else:\n",
        "      test_list.append([name,0])"
      ]
    },
    {
      "cell_type": "code",
      "execution_count": 37,
      "metadata": {
        "id": "Y-ZgcN1CNNQd"
      },
      "outputs": [],
      "source": [
        "submission_df = pd.DataFrame(test_list)"
      ]
    },
    {
      "cell_type": "code",
      "execution_count": 38,
      "metadata": {
        "id": "7K2uCUWhNNQj"
      },
      "outputs": [],
      "source": [
        "#Submission\n",
        "submission_df.to_csv('submissions.csv',index=False)"
      ]
    }
  ],
  "metadata": {
    "colab": {
      "name": "CNN Traffic violations.ipynb",
      "provenance": [],
      "collapsed_sections": []
    },
    "kernelspec": {
      "display_name": "Python 3",
      "language": "python",
      "name": "python3"
    },
    "language_info": {
      "codemirror_mode": {
        "name": "ipython",
        "version": 3
      },
      "file_extension": ".py",
      "mimetype": "text/x-python",
      "name": "python",
      "nbconvert_exporter": "python",
      "pygments_lexer": "ipython3",
      "version": "3.7.8"
    },
    "accelerator": "GPU",
    "gpuClass": "standard"
  },
  "nbformat": 4,
  "nbformat_minor": 0
}