{
  "nbformat": 4,
  "nbformat_minor": 0,
  "metadata": {
    "colab": {
      "name": "Indodana.ipynb",
      "provenance": [],
      "collapsed_sections": []
    },
    "kernelspec": {
      "name": "python3",
      "display_name": "Python 3"
    },
    "language_info": {
      "name": "python"
    },
    "gpuClass": "standard"
  },
  "cells": [
    {
      "cell_type": "markdown",
      "source": [
        "#Library And Data preparation"
      ],
      "metadata": {
        "id": "Y8Z0YMXddcL_"
      }
    },
    {
      "cell_type": "code",
      "source": [
        "import math\n",
        "import time\n",
        "import zipfile\n",
        "import pandas as pd\n",
        "import numpy as np\n",
        "import seaborn as sns\n",
        "import matplotlib.pyplot as plt\n",
        "\n",
        "from google.colab import drive\n",
        "from sklearn.svm import SVC\n",
        "from sklearn import linear_model\n",
        "from sklearn.naive_bayes import GaussianNB\n",
        "from sklearn.preprocessing import RobustScaler\n",
        "from sklearn.utils.class_weight import compute_class_weight\n",
        "from sklearn.neighbors import KNeighborsClassifier\n",
        "from sklearn.ensemble import RandomForestClassifier\n",
        "from sklearn.metrics import classification_report, confusion_matrix"
      ],
      "metadata": {
        "id": "20BtqnRwdcqt"
      },
      "execution_count": null,
      "outputs": []
    },
    {
      "cell_type": "code",
      "source": [
        "drive.mount('/content/drive')"
      ],
      "metadata": {
        "colab": {
          "base_uri": "https://localhost:8080/"
        },
        "id": "7B3pjZJWemKQ",
        "outputId": "c35398db-ca6f-488d-da20-ed14123afb46"
      },
      "execution_count": null,
      "outputs": [
        {
          "output_type": "stream",
          "name": "stdout",
          "text": [
            "Mounted at /content/drive\n"
          ]
        }
      ]
    },
    {
      "cell_type": "code",
      "source": [
        "#extract data\n",
        "local_zip = '/content/drive/MyDrive/resource_machine_learning/DS1.zip'\n",
        "zip_ref = zipfile.ZipFile(local_zip, 'r')\n",
        "zip_ref.extractall('/tmp/DST')\n",
        "zip_ref.close()"
      ],
      "metadata": {
        "id": "LmVSU-JOdbn7"
      },
      "execution_count": null,
      "outputs": []
    },
    {
      "cell_type": "code",
      "execution_count": null,
      "metadata": {
        "id": "QAXPcM9mbkR_"
      },
      "outputs": [],
      "source": [
        "df_train = pd.read_csv('/tmp/DST/app_train.csv')\n",
        "df_test = pd.read_csv('/tmp/DST/app_test.csv')"
      ]
    },
    {
      "cell_type": "markdown",
      "source": [
        "#Data preprocessing"
      ],
      "metadata": {
        "id": "jhlSFdsudhMI"
      }
    },
    {
      "cell_type": "markdown",
      "source": [
        "##EDA"
      ],
      "metadata": {
        "id": "E0A0QLDodfSI"
      }
    },
    {
      "cell_type": "markdown",
      "source": [
        "###Review struktur dataframe"
      ],
      "metadata": {
        "id": "qfdzwuBzB32h"
      }
    },
    {
      "cell_type": "code",
      "source": [
        "print(\"Shape df_train:\", df_train.shape)\n",
        "print(\"Shape df_test:\", df_test.shape)"
      ],
      "metadata": {
        "colab": {
          "base_uri": "https://localhost:8080/"
        },
        "id": "tb8CPQ0vTiIO",
        "outputId": "ddfc25b2-0384-4390-b047-4ad0cafd3305"
      },
      "execution_count": null,
      "outputs": [
        {
          "output_type": "stream",
          "name": "stdout",
          "text": [
            "Shape df_train: (61503, 24)\n",
            "Shape df_test: (14761, 24)\n"
          ]
        }
      ]
    },
    {
      "cell_type": "code",
      "source": [
        "df_train"
      ],
      "metadata": {
        "colab": {
          "base_uri": "https://localhost:8080/",
          "height": 539
        },
        "id": "_2vpN1L_gBiN",
        "outputId": "24b43b34-2e40-472e-db94-58f16cb0d36b"
      },
      "execution_count": null,
      "outputs": [
        {
          "output_type": "execute_result",
          "data": {
            "text/plain": [
              "       Unnamed: 0   LN_ID  TARGET    CONTRACT_TYPE GENDER  NUM_CHILDREN  \\\n",
              "0          201468  333538       0  Revolving loans      F             1   \n",
              "1          264803  406644       0       Cash loans      F             1   \n",
              "2          137208  259130       0       Cash loans      F             0   \n",
              "3          269220  411997       0       Cash loans      M             0   \n",
              "4          122096  241559       0  Revolving loans      M             0   \n",
              "...           ...     ...     ...              ...    ...           ...   \n",
              "61498      130325  251159       0       Cash loans      M             2   \n",
              "61499      294665  441376       1       Cash loans      F             0   \n",
              "61500       73002  184648       0  Revolving loans      F             0   \n",
              "61501      184610  313981       0       Cash loans      F             0   \n",
              "61502      166652  293198       0       Cash loans      F             0   \n",
              "\n",
              "         INCOME  APPROVED_CREDIT  ANNUITY     PRICE  ... DAYS_AGE DAYS_WORK  \\\n",
              "0       67500.0         202500.0  10125.0  202500.0  ...   -11539      -921   \n",
              "1      202500.0         976711.5  49869.0  873000.0  ...   -15743     -4482   \n",
              "2      180000.0         407520.0  25060.5  360000.0  ...   -20775    365243   \n",
              "3      225000.0         808650.0  26086.5  675000.0  ...   -20659    -10455   \n",
              "4      135000.0         180000.0   9000.0  180000.0  ...    -9013     -1190   \n",
              "...         ...              ...      ...       ...  ...      ...       ...   \n",
              "61498  360000.0         450000.0  44509.5  450000.0  ...   -14268     -5813   \n",
              "61499  441000.0         904500.0  38452.5  904500.0  ...   -21582    365243   \n",
              "61500  202500.0         900000.0  45000.0  900000.0  ...   -17729     -1564   \n",
              "61501   94500.0         360000.0  17509.5  360000.0  ...   -11258     -4159   \n",
              "61502   90000.0         203760.0  20281.5  180000.0  ...   -24604    365243   \n",
              "\n",
              "      DAYS_REGISTRATION DAYS_ID_CHANGE  WEEKDAYS_APPLY  HOUR_APPLY  \\\n",
              "0                -119.0          -2757         TUESDAY          18   \n",
              "1               -1797.0          -2455         TUESDAY          14   \n",
              "2               -8737.0          -4312        THURSDAY          14   \n",
              "3               -4998.0          -4010       WEDNESDAY          10   \n",
              "4               -3524.0          -1644          SUNDAY          11   \n",
              "...                 ...            ...             ...         ...   \n",
              "61498           -2313.0          -2709          FRIDAY           6   \n",
              "61499           -4106.0          -4191         TUESDAY          12   \n",
              "61500          -11844.0          -1263          FRIDAY          16   \n",
              "61501           -5060.0          -3698          FRIDAY          15   \n",
              "61502          -12794.0          -4105         TUESDAY          11   \n",
              "\n",
              "            ORGANIZATION_TYPE  EXT_SCORE_1 EXT_SCORE_2  EXT_SCORE_3  \n",
              "0      Business Entity Type 3     0.572805    0.608276          NaN  \n",
              "1                       Other     0.655600    0.684298          NaN  \n",
              "2                         NA1          NaN    0.580687     0.749022  \n",
              "3                     Culture          NaN    0.623740     0.710674  \n",
              "4                Construction     0.175511    0.492994     0.085595  \n",
              "...                       ...          ...         ...          ...  \n",
              "61498             Electricity     0.295858    0.104877     0.616122  \n",
              "61499                     NA1     0.693816    0.411595     0.239226  \n",
              "61500       Industry: type 12     0.802154    0.714627          NaN  \n",
              "61501  Business Entity Type 3          NaN    0.694125     0.105473  \n",
              "61502                     NA1          NaN    0.250811     0.644679  \n",
              "\n",
              "[61503 rows x 24 columns]"
            ],
            "text/html": [
              "\n",
              "  <div id=\"df-ea2b4ae1-27f3-4e3f-98fb-5426893f64dc\">\n",
              "    <div class=\"colab-df-container\">\n",
              "      <div>\n",
              "<style scoped>\n",
              "    .dataframe tbody tr th:only-of-type {\n",
              "        vertical-align: middle;\n",
              "    }\n",
              "\n",
              "    .dataframe tbody tr th {\n",
              "        vertical-align: top;\n",
              "    }\n",
              "\n",
              "    .dataframe thead th {\n",
              "        text-align: right;\n",
              "    }\n",
              "</style>\n",
              "<table border=\"1\" class=\"dataframe\">\n",
              "  <thead>\n",
              "    <tr style=\"text-align: right;\">\n",
              "      <th></th>\n",
              "      <th>Unnamed: 0</th>\n",
              "      <th>LN_ID</th>\n",
              "      <th>TARGET</th>\n",
              "      <th>CONTRACT_TYPE</th>\n",
              "      <th>GENDER</th>\n",
              "      <th>NUM_CHILDREN</th>\n",
              "      <th>INCOME</th>\n",
              "      <th>APPROVED_CREDIT</th>\n",
              "      <th>ANNUITY</th>\n",
              "      <th>PRICE</th>\n",
              "      <th>...</th>\n",
              "      <th>DAYS_AGE</th>\n",
              "      <th>DAYS_WORK</th>\n",
              "      <th>DAYS_REGISTRATION</th>\n",
              "      <th>DAYS_ID_CHANGE</th>\n",
              "      <th>WEEKDAYS_APPLY</th>\n",
              "      <th>HOUR_APPLY</th>\n",
              "      <th>ORGANIZATION_TYPE</th>\n",
              "      <th>EXT_SCORE_1</th>\n",
              "      <th>EXT_SCORE_2</th>\n",
              "      <th>EXT_SCORE_3</th>\n",
              "    </tr>\n",
              "  </thead>\n",
              "  <tbody>\n",
              "    <tr>\n",
              "      <th>0</th>\n",
              "      <td>201468</td>\n",
              "      <td>333538</td>\n",
              "      <td>0</td>\n",
              "      <td>Revolving loans</td>\n",
              "      <td>F</td>\n",
              "      <td>1</td>\n",
              "      <td>67500.0</td>\n",
              "      <td>202500.0</td>\n",
              "      <td>10125.0</td>\n",
              "      <td>202500.0</td>\n",
              "      <td>...</td>\n",
              "      <td>-11539</td>\n",
              "      <td>-921</td>\n",
              "      <td>-119.0</td>\n",
              "      <td>-2757</td>\n",
              "      <td>TUESDAY</td>\n",
              "      <td>18</td>\n",
              "      <td>Business Entity Type 3</td>\n",
              "      <td>0.572805</td>\n",
              "      <td>0.608276</td>\n",
              "      <td>NaN</td>\n",
              "    </tr>\n",
              "    <tr>\n",
              "      <th>1</th>\n",
              "      <td>264803</td>\n",
              "      <td>406644</td>\n",
              "      <td>0</td>\n",
              "      <td>Cash loans</td>\n",
              "      <td>F</td>\n",
              "      <td>1</td>\n",
              "      <td>202500.0</td>\n",
              "      <td>976711.5</td>\n",
              "      <td>49869.0</td>\n",
              "      <td>873000.0</td>\n",
              "      <td>...</td>\n",
              "      <td>-15743</td>\n",
              "      <td>-4482</td>\n",
              "      <td>-1797.0</td>\n",
              "      <td>-2455</td>\n",
              "      <td>TUESDAY</td>\n",
              "      <td>14</td>\n",
              "      <td>Other</td>\n",
              "      <td>0.655600</td>\n",
              "      <td>0.684298</td>\n",
              "      <td>NaN</td>\n",
              "    </tr>\n",
              "    <tr>\n",
              "      <th>2</th>\n",
              "      <td>137208</td>\n",
              "      <td>259130</td>\n",
              "      <td>0</td>\n",
              "      <td>Cash loans</td>\n",
              "      <td>F</td>\n",
              "      <td>0</td>\n",
              "      <td>180000.0</td>\n",
              "      <td>407520.0</td>\n",
              "      <td>25060.5</td>\n",
              "      <td>360000.0</td>\n",
              "      <td>...</td>\n",
              "      <td>-20775</td>\n",
              "      <td>365243</td>\n",
              "      <td>-8737.0</td>\n",
              "      <td>-4312</td>\n",
              "      <td>THURSDAY</td>\n",
              "      <td>14</td>\n",
              "      <td>NA1</td>\n",
              "      <td>NaN</td>\n",
              "      <td>0.580687</td>\n",
              "      <td>0.749022</td>\n",
              "    </tr>\n",
              "    <tr>\n",
              "      <th>3</th>\n",
              "      <td>269220</td>\n",
              "      <td>411997</td>\n",
              "      <td>0</td>\n",
              "      <td>Cash loans</td>\n",
              "      <td>M</td>\n",
              "      <td>0</td>\n",
              "      <td>225000.0</td>\n",
              "      <td>808650.0</td>\n",
              "      <td>26086.5</td>\n",
              "      <td>675000.0</td>\n",
              "      <td>...</td>\n",
              "      <td>-20659</td>\n",
              "      <td>-10455</td>\n",
              "      <td>-4998.0</td>\n",
              "      <td>-4010</td>\n",
              "      <td>WEDNESDAY</td>\n",
              "      <td>10</td>\n",
              "      <td>Culture</td>\n",
              "      <td>NaN</td>\n",
              "      <td>0.623740</td>\n",
              "      <td>0.710674</td>\n",
              "    </tr>\n",
              "    <tr>\n",
              "      <th>4</th>\n",
              "      <td>122096</td>\n",
              "      <td>241559</td>\n",
              "      <td>0</td>\n",
              "      <td>Revolving loans</td>\n",
              "      <td>M</td>\n",
              "      <td>0</td>\n",
              "      <td>135000.0</td>\n",
              "      <td>180000.0</td>\n",
              "      <td>9000.0</td>\n",
              "      <td>180000.0</td>\n",
              "      <td>...</td>\n",
              "      <td>-9013</td>\n",
              "      <td>-1190</td>\n",
              "      <td>-3524.0</td>\n",
              "      <td>-1644</td>\n",
              "      <td>SUNDAY</td>\n",
              "      <td>11</td>\n",
              "      <td>Construction</td>\n",
              "      <td>0.175511</td>\n",
              "      <td>0.492994</td>\n",
              "      <td>0.085595</td>\n",
              "    </tr>\n",
              "    <tr>\n",
              "      <th>...</th>\n",
              "      <td>...</td>\n",
              "      <td>...</td>\n",
              "      <td>...</td>\n",
              "      <td>...</td>\n",
              "      <td>...</td>\n",
              "      <td>...</td>\n",
              "      <td>...</td>\n",
              "      <td>...</td>\n",
              "      <td>...</td>\n",
              "      <td>...</td>\n",
              "      <td>...</td>\n",
              "      <td>...</td>\n",
              "      <td>...</td>\n",
              "      <td>...</td>\n",
              "      <td>...</td>\n",
              "      <td>...</td>\n",
              "      <td>...</td>\n",
              "      <td>...</td>\n",
              "      <td>...</td>\n",
              "      <td>...</td>\n",
              "      <td>...</td>\n",
              "    </tr>\n",
              "    <tr>\n",
              "      <th>61498</th>\n",
              "      <td>130325</td>\n",
              "      <td>251159</td>\n",
              "      <td>0</td>\n",
              "      <td>Cash loans</td>\n",
              "      <td>M</td>\n",
              "      <td>2</td>\n",
              "      <td>360000.0</td>\n",
              "      <td>450000.0</td>\n",
              "      <td>44509.5</td>\n",
              "      <td>450000.0</td>\n",
              "      <td>...</td>\n",
              "      <td>-14268</td>\n",
              "      <td>-5813</td>\n",
              "      <td>-2313.0</td>\n",
              "      <td>-2709</td>\n",
              "      <td>FRIDAY</td>\n",
              "      <td>6</td>\n",
              "      <td>Electricity</td>\n",
              "      <td>0.295858</td>\n",
              "      <td>0.104877</td>\n",
              "      <td>0.616122</td>\n",
              "    </tr>\n",
              "    <tr>\n",
              "      <th>61499</th>\n",
              "      <td>294665</td>\n",
              "      <td>441376</td>\n",
              "      <td>1</td>\n",
              "      <td>Cash loans</td>\n",
              "      <td>F</td>\n",
              "      <td>0</td>\n",
              "      <td>441000.0</td>\n",
              "      <td>904500.0</td>\n",
              "      <td>38452.5</td>\n",
              "      <td>904500.0</td>\n",
              "      <td>...</td>\n",
              "      <td>-21582</td>\n",
              "      <td>365243</td>\n",
              "      <td>-4106.0</td>\n",
              "      <td>-4191</td>\n",
              "      <td>TUESDAY</td>\n",
              "      <td>12</td>\n",
              "      <td>NA1</td>\n",
              "      <td>0.693816</td>\n",
              "      <td>0.411595</td>\n",
              "      <td>0.239226</td>\n",
              "    </tr>\n",
              "    <tr>\n",
              "      <th>61500</th>\n",
              "      <td>73002</td>\n",
              "      <td>184648</td>\n",
              "      <td>0</td>\n",
              "      <td>Revolving loans</td>\n",
              "      <td>F</td>\n",
              "      <td>0</td>\n",
              "      <td>202500.0</td>\n",
              "      <td>900000.0</td>\n",
              "      <td>45000.0</td>\n",
              "      <td>900000.0</td>\n",
              "      <td>...</td>\n",
              "      <td>-17729</td>\n",
              "      <td>-1564</td>\n",
              "      <td>-11844.0</td>\n",
              "      <td>-1263</td>\n",
              "      <td>FRIDAY</td>\n",
              "      <td>16</td>\n",
              "      <td>Industry: type 12</td>\n",
              "      <td>0.802154</td>\n",
              "      <td>0.714627</td>\n",
              "      <td>NaN</td>\n",
              "    </tr>\n",
              "    <tr>\n",
              "      <th>61501</th>\n",
              "      <td>184610</td>\n",
              "      <td>313981</td>\n",
              "      <td>0</td>\n",
              "      <td>Cash loans</td>\n",
              "      <td>F</td>\n",
              "      <td>0</td>\n",
              "      <td>94500.0</td>\n",
              "      <td>360000.0</td>\n",
              "      <td>17509.5</td>\n",
              "      <td>360000.0</td>\n",
              "      <td>...</td>\n",
              "      <td>-11258</td>\n",
              "      <td>-4159</td>\n",
              "      <td>-5060.0</td>\n",
              "      <td>-3698</td>\n",
              "      <td>FRIDAY</td>\n",
              "      <td>15</td>\n",
              "      <td>Business Entity Type 3</td>\n",
              "      <td>NaN</td>\n",
              "      <td>0.694125</td>\n",
              "      <td>0.105473</td>\n",
              "    </tr>\n",
              "    <tr>\n",
              "      <th>61502</th>\n",
              "      <td>166652</td>\n",
              "      <td>293198</td>\n",
              "      <td>0</td>\n",
              "      <td>Cash loans</td>\n",
              "      <td>F</td>\n",
              "      <td>0</td>\n",
              "      <td>90000.0</td>\n",
              "      <td>203760.0</td>\n",
              "      <td>20281.5</td>\n",
              "      <td>180000.0</td>\n",
              "      <td>...</td>\n",
              "      <td>-24604</td>\n",
              "      <td>365243</td>\n",
              "      <td>-12794.0</td>\n",
              "      <td>-4105</td>\n",
              "      <td>TUESDAY</td>\n",
              "      <td>11</td>\n",
              "      <td>NA1</td>\n",
              "      <td>NaN</td>\n",
              "      <td>0.250811</td>\n",
              "      <td>0.644679</td>\n",
              "    </tr>\n",
              "  </tbody>\n",
              "</table>\n",
              "<p>61503 rows × 24 columns</p>\n",
              "</div>\n",
              "      <button class=\"colab-df-convert\" onclick=\"convertToInteractive('df-ea2b4ae1-27f3-4e3f-98fb-5426893f64dc')\"\n",
              "              title=\"Convert this dataframe to an interactive table.\"\n",
              "              style=\"display:none;\">\n",
              "        \n",
              "  <svg xmlns=\"http://www.w3.org/2000/svg\" height=\"24px\"viewBox=\"0 0 24 24\"\n",
              "       width=\"24px\">\n",
              "    <path d=\"M0 0h24v24H0V0z\" fill=\"none\"/>\n",
              "    <path d=\"M18.56 5.44l.94 2.06.94-2.06 2.06-.94-2.06-.94-.94-2.06-.94 2.06-2.06.94zm-11 1L8.5 8.5l.94-2.06 2.06-.94-2.06-.94L8.5 2.5l-.94 2.06-2.06.94zm10 10l.94 2.06.94-2.06 2.06-.94-2.06-.94-.94-2.06-.94 2.06-2.06.94z\"/><path d=\"M17.41 7.96l-1.37-1.37c-.4-.4-.92-.59-1.43-.59-.52 0-1.04.2-1.43.59L10.3 9.45l-7.72 7.72c-.78.78-.78 2.05 0 2.83L4 21.41c.39.39.9.59 1.41.59.51 0 1.02-.2 1.41-.59l7.78-7.78 2.81-2.81c.8-.78.8-2.07 0-2.86zM5.41 20L4 18.59l7.72-7.72 1.47 1.35L5.41 20z\"/>\n",
              "  </svg>\n",
              "      </button>\n",
              "      \n",
              "  <style>\n",
              "    .colab-df-container {\n",
              "      display:flex;\n",
              "      flex-wrap:wrap;\n",
              "      gap: 12px;\n",
              "    }\n",
              "\n",
              "    .colab-df-convert {\n",
              "      background-color: #E8F0FE;\n",
              "      border: none;\n",
              "      border-radius: 50%;\n",
              "      cursor: pointer;\n",
              "      display: none;\n",
              "      fill: #1967D2;\n",
              "      height: 32px;\n",
              "      padding: 0 0 0 0;\n",
              "      width: 32px;\n",
              "    }\n",
              "\n",
              "    .colab-df-convert:hover {\n",
              "      background-color: #E2EBFA;\n",
              "      box-shadow: 0px 1px 2px rgba(60, 64, 67, 0.3), 0px 1px 3px 1px rgba(60, 64, 67, 0.15);\n",
              "      fill: #174EA6;\n",
              "    }\n",
              "\n",
              "    [theme=dark] .colab-df-convert {\n",
              "      background-color: #3B4455;\n",
              "      fill: #D2E3FC;\n",
              "    }\n",
              "\n",
              "    [theme=dark] .colab-df-convert:hover {\n",
              "      background-color: #434B5C;\n",
              "      box-shadow: 0px 1px 3px 1px rgba(0, 0, 0, 0.15);\n",
              "      filter: drop-shadow(0px 1px 2px rgba(0, 0, 0, 0.3));\n",
              "      fill: #FFFFFF;\n",
              "    }\n",
              "  </style>\n",
              "\n",
              "      <script>\n",
              "        const buttonEl =\n",
              "          document.querySelector('#df-ea2b4ae1-27f3-4e3f-98fb-5426893f64dc button.colab-df-convert');\n",
              "        buttonEl.style.display =\n",
              "          google.colab.kernel.accessAllowed ? 'block' : 'none';\n",
              "\n",
              "        async function convertToInteractive(key) {\n",
              "          const element = document.querySelector('#df-ea2b4ae1-27f3-4e3f-98fb-5426893f64dc');\n",
              "          const dataTable =\n",
              "            await google.colab.kernel.invokeFunction('convertToInteractive',\n",
              "                                                     [key], {});\n",
              "          if (!dataTable) return;\n",
              "\n",
              "          const docLinkHtml = 'Like what you see? Visit the ' +\n",
              "            '<a target=\"_blank\" href=https://colab.research.google.com/notebooks/data_table.ipynb>data table notebook</a>'\n",
              "            + ' to learn more about interactive tables.';\n",
              "          element.innerHTML = '';\n",
              "          dataTable['output_type'] = 'display_data';\n",
              "          await google.colab.output.renderOutput(dataTable, element);\n",
              "          const docLink = document.createElement('div');\n",
              "          docLink.innerHTML = docLinkHtml;\n",
              "          element.appendChild(docLink);\n",
              "        }\n",
              "      </script>\n",
              "    </div>\n",
              "  </div>\n",
              "  "
            ]
          },
          "metadata": {},
          "execution_count": 6
        }
      ]
    },
    {
      "cell_type": "code",
      "source": [
        "df_test"
      ],
      "metadata": {
        "colab": {
          "base_uri": "https://localhost:8080/",
          "height": 539
        },
        "id": "LD4-3zk2RP0S",
        "outputId": "12de244b-2425-4b9a-eece-83863745cece"
      },
      "execution_count": null,
      "outputs": [
        {
          "output_type": "execute_result",
          "data": {
            "text/plain": [
              "       Unnamed: 0   LN_ID  TARGET CONTRACT_TYPE GENDER  NUM_CHILDREN  \\\n",
              "0          102590  219092       0    Cash loans      M             3   \n",
              "1           35895  141577       0    Cash loans      F             0   \n",
              "2           69154  180205       0    Cash loans      F             1   \n",
              "3          222185  357381       0    Cash loans      M             2   \n",
              "4          147680  271229       0    Cash loans      M             0   \n",
              "...           ...     ...     ...           ...    ...           ...   \n",
              "14756       38250  144293       0    Cash loans      F             1   \n",
              "14757      148422  272093       1    Cash loans      F             1   \n",
              "14758      130286  251117       0    Cash loans      F             0   \n",
              "14759      202131  334313       0    Cash loans      F             0   \n",
              "14760      101569  217927       0    Cash loans      F             3   \n",
              "\n",
              "         INCOME  APPROVED_CREDIT  ANNUITY     PRICE  ... DAYS_AGE DAYS_WORK  \\\n",
              "0      135000.0         871029.0  44604.0  765000.0  ...   -17598     -2650   \n",
              "1      144000.0         485640.0  34537.5  450000.0  ...   -14097     -7408   \n",
              "2       90000.0         247500.0   8887.5  247500.0  ...   -18384     -2826   \n",
              "3      112500.0         506889.0  24781.5  418500.0  ...   -12170      -926   \n",
              "4      216000.0         450000.0  21888.0  450000.0  ...   -10790      -577   \n",
              "...         ...              ...      ...       ...  ...      ...       ...   \n",
              "14756   67500.0         112500.0   7317.0  112500.0  ...   -12866     -3154   \n",
              "14757  135000.0         313438.5  21073.5  283500.0  ...   -11421     -3962   \n",
              "14758  157500.0        1078200.0  31522.5  900000.0  ...   -13313     -2258   \n",
              "14759  216000.0         272520.0  21658.5  225000.0  ...   -24085    365243   \n",
              "14760  112500.0         260640.0  20299.5  225000.0  ...   -12782      -387   \n",
              "\n",
              "      DAYS_REGISTRATION DAYS_ID_CHANGE  WEEKDAYS_APPLY  HOUR_APPLY  \\\n",
              "0               -1411.0          -1131        SATURDAY           7   \n",
              "1               -7908.0          -4872          MONDAY          14   \n",
              "2               -8226.0          -1930        SATURDAY          12   \n",
              "3                -916.0          -4048        THURSDAY          13   \n",
              "4               -4640.0          -2035          MONDAY          14   \n",
              "...                 ...            ...             ...         ...   \n",
              "14756           -1251.0          -4395         TUESDAY          10   \n",
              "14757           -5247.0          -3795        SATURDAY           7   \n",
              "14758           -3899.0          -4515          MONDAY          12   \n",
              "14759           -9354.0          -4740        THURSDAY          15   \n",
              "14760           -1261.0          -4823        THURSDAY           9   \n",
              "\n",
              "            ORGANIZATION_TYPE  EXT_SCORE_1 EXT_SCORE_2  EXT_SCORE_3  \n",
              "0      Business Entity Type 3          NaN    0.145475     0.651260  \n",
              "1                Kindergarten          NaN    0.682675          NaN  \n",
              "2               Self-employed     0.814700    0.686312     0.758393  \n",
              "3                       Other     0.399219    0.266520     0.058826  \n",
              "4      Business Entity Type 3     0.368452    0.610483     0.392774  \n",
              "...                       ...          ...         ...          ...  \n",
              "14756              Government     0.570305    0.399628     0.586740  \n",
              "14757           Self-employed          NaN    0.610758     0.368969  \n",
              "14758                   Other          NaN    0.639824     0.782608  \n",
              "14759                     NA1          NaN    0.642139     0.584990  \n",
              "14760           Self-employed          NaN    0.381569     0.520898  \n",
              "\n",
              "[14761 rows x 24 columns]"
            ],
            "text/html": [
              "\n",
              "  <div id=\"df-32053599-fd54-4b11-95f0-9c65e6edaf02\">\n",
              "    <div class=\"colab-df-container\">\n",
              "      <div>\n",
              "<style scoped>\n",
              "    .dataframe tbody tr th:only-of-type {\n",
              "        vertical-align: middle;\n",
              "    }\n",
              "\n",
              "    .dataframe tbody tr th {\n",
              "        vertical-align: top;\n",
              "    }\n",
              "\n",
              "    .dataframe thead th {\n",
              "        text-align: right;\n",
              "    }\n",
              "</style>\n",
              "<table border=\"1\" class=\"dataframe\">\n",
              "  <thead>\n",
              "    <tr style=\"text-align: right;\">\n",
              "      <th></th>\n",
              "      <th>Unnamed: 0</th>\n",
              "      <th>LN_ID</th>\n",
              "      <th>TARGET</th>\n",
              "      <th>CONTRACT_TYPE</th>\n",
              "      <th>GENDER</th>\n",
              "      <th>NUM_CHILDREN</th>\n",
              "      <th>INCOME</th>\n",
              "      <th>APPROVED_CREDIT</th>\n",
              "      <th>ANNUITY</th>\n",
              "      <th>PRICE</th>\n",
              "      <th>...</th>\n",
              "      <th>DAYS_AGE</th>\n",
              "      <th>DAYS_WORK</th>\n",
              "      <th>DAYS_REGISTRATION</th>\n",
              "      <th>DAYS_ID_CHANGE</th>\n",
              "      <th>WEEKDAYS_APPLY</th>\n",
              "      <th>HOUR_APPLY</th>\n",
              "      <th>ORGANIZATION_TYPE</th>\n",
              "      <th>EXT_SCORE_1</th>\n",
              "      <th>EXT_SCORE_2</th>\n",
              "      <th>EXT_SCORE_3</th>\n",
              "    </tr>\n",
              "  </thead>\n",
              "  <tbody>\n",
              "    <tr>\n",
              "      <th>0</th>\n",
              "      <td>102590</td>\n",
              "      <td>219092</td>\n",
              "      <td>0</td>\n",
              "      <td>Cash loans</td>\n",
              "      <td>M</td>\n",
              "      <td>3</td>\n",
              "      <td>135000.0</td>\n",
              "      <td>871029.0</td>\n",
              "      <td>44604.0</td>\n",
              "      <td>765000.0</td>\n",
              "      <td>...</td>\n",
              "      <td>-17598</td>\n",
              "      <td>-2650</td>\n",
              "      <td>-1411.0</td>\n",
              "      <td>-1131</td>\n",
              "      <td>SATURDAY</td>\n",
              "      <td>7</td>\n",
              "      <td>Business Entity Type 3</td>\n",
              "      <td>NaN</td>\n",
              "      <td>0.145475</td>\n",
              "      <td>0.651260</td>\n",
              "    </tr>\n",
              "    <tr>\n",
              "      <th>1</th>\n",
              "      <td>35895</td>\n",
              "      <td>141577</td>\n",
              "      <td>0</td>\n",
              "      <td>Cash loans</td>\n",
              "      <td>F</td>\n",
              "      <td>0</td>\n",
              "      <td>144000.0</td>\n",
              "      <td>485640.0</td>\n",
              "      <td>34537.5</td>\n",
              "      <td>450000.0</td>\n",
              "      <td>...</td>\n",
              "      <td>-14097</td>\n",
              "      <td>-7408</td>\n",
              "      <td>-7908.0</td>\n",
              "      <td>-4872</td>\n",
              "      <td>MONDAY</td>\n",
              "      <td>14</td>\n",
              "      <td>Kindergarten</td>\n",
              "      <td>NaN</td>\n",
              "      <td>0.682675</td>\n",
              "      <td>NaN</td>\n",
              "    </tr>\n",
              "    <tr>\n",
              "      <th>2</th>\n",
              "      <td>69154</td>\n",
              "      <td>180205</td>\n",
              "      <td>0</td>\n",
              "      <td>Cash loans</td>\n",
              "      <td>F</td>\n",
              "      <td>1</td>\n",
              "      <td>90000.0</td>\n",
              "      <td>247500.0</td>\n",
              "      <td>8887.5</td>\n",
              "      <td>247500.0</td>\n",
              "      <td>...</td>\n",
              "      <td>-18384</td>\n",
              "      <td>-2826</td>\n",
              "      <td>-8226.0</td>\n",
              "      <td>-1930</td>\n",
              "      <td>SATURDAY</td>\n",
              "      <td>12</td>\n",
              "      <td>Self-employed</td>\n",
              "      <td>0.814700</td>\n",
              "      <td>0.686312</td>\n",
              "      <td>0.758393</td>\n",
              "    </tr>\n",
              "    <tr>\n",
              "      <th>3</th>\n",
              "      <td>222185</td>\n",
              "      <td>357381</td>\n",
              "      <td>0</td>\n",
              "      <td>Cash loans</td>\n",
              "      <td>M</td>\n",
              "      <td>2</td>\n",
              "      <td>112500.0</td>\n",
              "      <td>506889.0</td>\n",
              "      <td>24781.5</td>\n",
              "      <td>418500.0</td>\n",
              "      <td>...</td>\n",
              "      <td>-12170</td>\n",
              "      <td>-926</td>\n",
              "      <td>-916.0</td>\n",
              "      <td>-4048</td>\n",
              "      <td>THURSDAY</td>\n",
              "      <td>13</td>\n",
              "      <td>Other</td>\n",
              "      <td>0.399219</td>\n",
              "      <td>0.266520</td>\n",
              "      <td>0.058826</td>\n",
              "    </tr>\n",
              "    <tr>\n",
              "      <th>4</th>\n",
              "      <td>147680</td>\n",
              "      <td>271229</td>\n",
              "      <td>0</td>\n",
              "      <td>Cash loans</td>\n",
              "      <td>M</td>\n",
              "      <td>0</td>\n",
              "      <td>216000.0</td>\n",
              "      <td>450000.0</td>\n",
              "      <td>21888.0</td>\n",
              "      <td>450000.0</td>\n",
              "      <td>...</td>\n",
              "      <td>-10790</td>\n",
              "      <td>-577</td>\n",
              "      <td>-4640.0</td>\n",
              "      <td>-2035</td>\n",
              "      <td>MONDAY</td>\n",
              "      <td>14</td>\n",
              "      <td>Business Entity Type 3</td>\n",
              "      <td>0.368452</td>\n",
              "      <td>0.610483</td>\n",
              "      <td>0.392774</td>\n",
              "    </tr>\n",
              "    <tr>\n",
              "      <th>...</th>\n",
              "      <td>...</td>\n",
              "      <td>...</td>\n",
              "      <td>...</td>\n",
              "      <td>...</td>\n",
              "      <td>...</td>\n",
              "      <td>...</td>\n",
              "      <td>...</td>\n",
              "      <td>...</td>\n",
              "      <td>...</td>\n",
              "      <td>...</td>\n",
              "      <td>...</td>\n",
              "      <td>...</td>\n",
              "      <td>...</td>\n",
              "      <td>...</td>\n",
              "      <td>...</td>\n",
              "      <td>...</td>\n",
              "      <td>...</td>\n",
              "      <td>...</td>\n",
              "      <td>...</td>\n",
              "      <td>...</td>\n",
              "      <td>...</td>\n",
              "    </tr>\n",
              "    <tr>\n",
              "      <th>14756</th>\n",
              "      <td>38250</td>\n",
              "      <td>144293</td>\n",
              "      <td>0</td>\n",
              "      <td>Cash loans</td>\n",
              "      <td>F</td>\n",
              "      <td>1</td>\n",
              "      <td>67500.0</td>\n",
              "      <td>112500.0</td>\n",
              "      <td>7317.0</td>\n",
              "      <td>112500.0</td>\n",
              "      <td>...</td>\n",
              "      <td>-12866</td>\n",
              "      <td>-3154</td>\n",
              "      <td>-1251.0</td>\n",
              "      <td>-4395</td>\n",
              "      <td>TUESDAY</td>\n",
              "      <td>10</td>\n",
              "      <td>Government</td>\n",
              "      <td>0.570305</td>\n",
              "      <td>0.399628</td>\n",
              "      <td>0.586740</td>\n",
              "    </tr>\n",
              "    <tr>\n",
              "      <th>14757</th>\n",
              "      <td>148422</td>\n",
              "      <td>272093</td>\n",
              "      <td>1</td>\n",
              "      <td>Cash loans</td>\n",
              "      <td>F</td>\n",
              "      <td>1</td>\n",
              "      <td>135000.0</td>\n",
              "      <td>313438.5</td>\n",
              "      <td>21073.5</td>\n",
              "      <td>283500.0</td>\n",
              "      <td>...</td>\n",
              "      <td>-11421</td>\n",
              "      <td>-3962</td>\n",
              "      <td>-5247.0</td>\n",
              "      <td>-3795</td>\n",
              "      <td>SATURDAY</td>\n",
              "      <td>7</td>\n",
              "      <td>Self-employed</td>\n",
              "      <td>NaN</td>\n",
              "      <td>0.610758</td>\n",
              "      <td>0.368969</td>\n",
              "    </tr>\n",
              "    <tr>\n",
              "      <th>14758</th>\n",
              "      <td>130286</td>\n",
              "      <td>251117</td>\n",
              "      <td>0</td>\n",
              "      <td>Cash loans</td>\n",
              "      <td>F</td>\n",
              "      <td>0</td>\n",
              "      <td>157500.0</td>\n",
              "      <td>1078200.0</td>\n",
              "      <td>31522.5</td>\n",
              "      <td>900000.0</td>\n",
              "      <td>...</td>\n",
              "      <td>-13313</td>\n",
              "      <td>-2258</td>\n",
              "      <td>-3899.0</td>\n",
              "      <td>-4515</td>\n",
              "      <td>MONDAY</td>\n",
              "      <td>12</td>\n",
              "      <td>Other</td>\n",
              "      <td>NaN</td>\n",
              "      <td>0.639824</td>\n",
              "      <td>0.782608</td>\n",
              "    </tr>\n",
              "    <tr>\n",
              "      <th>14759</th>\n",
              "      <td>202131</td>\n",
              "      <td>334313</td>\n",
              "      <td>0</td>\n",
              "      <td>Cash loans</td>\n",
              "      <td>F</td>\n",
              "      <td>0</td>\n",
              "      <td>216000.0</td>\n",
              "      <td>272520.0</td>\n",
              "      <td>21658.5</td>\n",
              "      <td>225000.0</td>\n",
              "      <td>...</td>\n",
              "      <td>-24085</td>\n",
              "      <td>365243</td>\n",
              "      <td>-9354.0</td>\n",
              "      <td>-4740</td>\n",
              "      <td>THURSDAY</td>\n",
              "      <td>15</td>\n",
              "      <td>NA1</td>\n",
              "      <td>NaN</td>\n",
              "      <td>0.642139</td>\n",
              "      <td>0.584990</td>\n",
              "    </tr>\n",
              "    <tr>\n",
              "      <th>14760</th>\n",
              "      <td>101569</td>\n",
              "      <td>217927</td>\n",
              "      <td>0</td>\n",
              "      <td>Cash loans</td>\n",
              "      <td>F</td>\n",
              "      <td>3</td>\n",
              "      <td>112500.0</td>\n",
              "      <td>260640.0</td>\n",
              "      <td>20299.5</td>\n",
              "      <td>225000.0</td>\n",
              "      <td>...</td>\n",
              "      <td>-12782</td>\n",
              "      <td>-387</td>\n",
              "      <td>-1261.0</td>\n",
              "      <td>-4823</td>\n",
              "      <td>THURSDAY</td>\n",
              "      <td>9</td>\n",
              "      <td>Self-employed</td>\n",
              "      <td>NaN</td>\n",
              "      <td>0.381569</td>\n",
              "      <td>0.520898</td>\n",
              "    </tr>\n",
              "  </tbody>\n",
              "</table>\n",
              "<p>14761 rows × 24 columns</p>\n",
              "</div>\n",
              "      <button class=\"colab-df-convert\" onclick=\"convertToInteractive('df-32053599-fd54-4b11-95f0-9c65e6edaf02')\"\n",
              "              title=\"Convert this dataframe to an interactive table.\"\n",
              "              style=\"display:none;\">\n",
              "        \n",
              "  <svg xmlns=\"http://www.w3.org/2000/svg\" height=\"24px\"viewBox=\"0 0 24 24\"\n",
              "       width=\"24px\">\n",
              "    <path d=\"M0 0h24v24H0V0z\" fill=\"none\"/>\n",
              "    <path d=\"M18.56 5.44l.94 2.06.94-2.06 2.06-.94-2.06-.94-.94-2.06-.94 2.06-2.06.94zm-11 1L8.5 8.5l.94-2.06 2.06-.94-2.06-.94L8.5 2.5l-.94 2.06-2.06.94zm10 10l.94 2.06.94-2.06 2.06-.94-2.06-.94-.94-2.06-.94 2.06-2.06.94z\"/><path d=\"M17.41 7.96l-1.37-1.37c-.4-.4-.92-.59-1.43-.59-.52 0-1.04.2-1.43.59L10.3 9.45l-7.72 7.72c-.78.78-.78 2.05 0 2.83L4 21.41c.39.39.9.59 1.41.59.51 0 1.02-.2 1.41-.59l7.78-7.78 2.81-2.81c.8-.78.8-2.07 0-2.86zM5.41 20L4 18.59l7.72-7.72 1.47 1.35L5.41 20z\"/>\n",
              "  </svg>\n",
              "      </button>\n",
              "      \n",
              "  <style>\n",
              "    .colab-df-container {\n",
              "      display:flex;\n",
              "      flex-wrap:wrap;\n",
              "      gap: 12px;\n",
              "    }\n",
              "\n",
              "    .colab-df-convert {\n",
              "      background-color: #E8F0FE;\n",
              "      border: none;\n",
              "      border-radius: 50%;\n",
              "      cursor: pointer;\n",
              "      display: none;\n",
              "      fill: #1967D2;\n",
              "      height: 32px;\n",
              "      padding: 0 0 0 0;\n",
              "      width: 32px;\n",
              "    }\n",
              "\n",
              "    .colab-df-convert:hover {\n",
              "      background-color: #E2EBFA;\n",
              "      box-shadow: 0px 1px 2px rgba(60, 64, 67, 0.3), 0px 1px 3px 1px rgba(60, 64, 67, 0.15);\n",
              "      fill: #174EA6;\n",
              "    }\n",
              "\n",
              "    [theme=dark] .colab-df-convert {\n",
              "      background-color: #3B4455;\n",
              "      fill: #D2E3FC;\n",
              "    }\n",
              "\n",
              "    [theme=dark] .colab-df-convert:hover {\n",
              "      background-color: #434B5C;\n",
              "      box-shadow: 0px 1px 3px 1px rgba(0, 0, 0, 0.15);\n",
              "      filter: drop-shadow(0px 1px 2px rgba(0, 0, 0, 0.3));\n",
              "      fill: #FFFFFF;\n",
              "    }\n",
              "  </style>\n",
              "\n",
              "      <script>\n",
              "        const buttonEl =\n",
              "          document.querySelector('#df-32053599-fd54-4b11-95f0-9c65e6edaf02 button.colab-df-convert');\n",
              "        buttonEl.style.display =\n",
              "          google.colab.kernel.accessAllowed ? 'block' : 'none';\n",
              "\n",
              "        async function convertToInteractive(key) {\n",
              "          const element = document.querySelector('#df-32053599-fd54-4b11-95f0-9c65e6edaf02');\n",
              "          const dataTable =\n",
              "            await google.colab.kernel.invokeFunction('convertToInteractive',\n",
              "                                                     [key], {});\n",
              "          if (!dataTable) return;\n",
              "\n",
              "          const docLinkHtml = 'Like what you see? Visit the ' +\n",
              "            '<a target=\"_blank\" href=https://colab.research.google.com/notebooks/data_table.ipynb>data table notebook</a>'\n",
              "            + ' to learn more about interactive tables.';\n",
              "          element.innerHTML = '';\n",
              "          dataTable['output_type'] = 'display_data';\n",
              "          await google.colab.output.renderOutput(dataTable, element);\n",
              "          const docLink = document.createElement('div');\n",
              "          docLink.innerHTML = docLinkHtml;\n",
              "          element.appendChild(docLink);\n",
              "        }\n",
              "      </script>\n",
              "    </div>\n",
              "  </div>\n",
              "  "
            ]
          },
          "metadata": {},
          "execution_count": 7
        }
      ]
    },
    {
      "cell_type": "code",
      "source": [
        "with open(\"/tmp/DST/columns_description.csv\",'r') as f:\n",
        "    print(f.read())"
      ],
      "metadata": {
        "colab": {
          "base_uri": "https://localhost:8080/"
        },
        "id": "WuYXZzOHk2Tz",
        "outputId": "4c658015-6ed9-4d87-b99d-e92b3f79897f"
      },
      "execution_count": null,
      "outputs": [
        {
          "output_type": "stream",
          "name": "stdout",
          "text": [
            "﻿Table,Columns,Description\n",
            "loanapptrain.csv / loanapptest.csv,LN_ID,Loan ID\n",
            "loanapptrain.csv / loanapptest.csv,TARGET,\"Target variable (1 - client with late payment more than X days, 0 - all other cases)\"\n",
            "loanapptrain.csv / loanapptest.csv,CONTRACT_TYPE,Identification if loan is cash or revolving\n",
            "loanapptrain.csv / loanapptest.csv,GENDER,Gender of the client\n",
            "loanapptrain.csv / loanapptest.csv,NUM_CHILDREN,Number of children the client has\n",
            "loanapptrain.csv / loanapptest.csv,INCOME,Monthly income of the client\n",
            "loanapptrain.csv / loanapptest.csv,APPROVED_CREDIT,Approved credit amount of the loan\n",
            "loanapptrain.csv / loanapptest.csv,ANNUITY,Loan annuity (amount that must be paid monthly)\n",
            "loanapptrain.csv / loanapptest.csv,PRICE,For consumer loans it is the price of the goods for which the loan is given\n",
            "loanapptrain.csv / loanapptest.csv,INCOME_TYPE,\"Clients income type (businessman, working, maternity leave,…)\"\n",
            "loanapptrain.csv / loanapptest.csv,EDUCATION,The client highest education\n",
            "loanapptrain.csv / loanapptest.csv,FAMILY_STATUS,Family status of the client\n",
            "loanapptrain.csv / loanapptest.csv,HOUSING_TYPE,\"What is the housing situation of the client (renting, living with parents, ...)\"\n",
            "loanapptrain.csv / loanapptest.csv,DAYS_AGE,Client's age in days at the time of application\n",
            "loanapptrain.csv / loanapptest.csv,DAYS_WORK,How many days before the application the person started current job\n",
            "loanapptrain.csv / loanapptest.csv,DAYS_REGISTRATION,How many days before the application did client change his registration\n",
            "loanapptrain.csv / loanapptest.csv,DAYS_ID_CHANGE,How many days before the application did client change the identity document with which he applied for the loan\n",
            "loanapptrain.csv / loanapptest.csv,WEEKDAYS_APPLY,On which day of the week did the client apply for the loan\n",
            "loanapptrain.csv / loanapptest.csv,HOUR_APPLY,Approximately at what hour did the client apply for the loan\n",
            "loanapptrain.csv / loanapptest.csv,ORGANIZATION_TYPE,Type of organization where client works\n",
            "loanapptrain.csv / loanapptest.csv,EXT_SCORE_1,Normalized score from external data source\n",
            "loanapptrain.csv / loanapptest.csv,EXT_SCORE_2,Normalized score from external data source\n",
            "loanapptrain.csv / loanapptest.csv,EXT_SCORE_3,Normalized score from external data source\n",
            "prevloanapp.csv,LN_ID_PREV,\"ID of previous loan (One loan can have 0,1,2 or more previous loan application)\"\n",
            "prevloanapp.csv,LN_ID,Loan ID\n",
            "prevloanapp.csv,CONTRACT_TYPE,\"Contract product type (Cash loan, consumer loan [POS] ,...) of the previous application\"\n",
            "prevloanapp.csv,ANNUITY,Loan annuity (amount that must be paid monthly) of previous application\n",
            "prevloanapp.csv,APPLICATION,For how much credit did client ask on the previous application\n",
            "prevloanapp.csv,APPROVED_CREDIT,\"Final approved credit amount on the previous application. This differs from APPLICATION in a way that the APPLICATION is the amount for which the client initially applied for, but during our approval process he could have received different amount - AMT_CREDIT\"\n",
            "prevloanapp.csv,AMT_DOWN_PAYMENT,Down payment on the previous application\n",
            "prevloanapp.csv,PRICE,For consumer loans it is the price of the goods for which the loan is given\n",
            "prevloanapp.csv,WEEKDAYS_APPLY,On which day of the week did the client apply for the previous loan\n",
            "prevloanapp.csv,HOUR_APPLY,Approximately at what hour did the client apply for the previous loan\n",
            "prevloanapp.csv,CONTRACT_STATUS,\"Contract status (approved, cancelled, ...) of previous application\"\n",
            "prevloanapp.csv,DAYS_DECISION,Relative to current application when was the decision about previous application made\n",
            "prevloanapp.csv,TERM_PAYMENT,Term of previous credit at application of the previous application\n",
            "prevloanapp.csv,YIELD_GROUP,Grouped interest rate into small medium and high of the previous application\n",
            "prevloanapp.csv,FIRST_DRAW,Relative to application date of current application when was the first disbursement of the previous application (in days)\n",
            "prevloanapp.csv,FIRST_DUE,Relative to application date of current application when was the first due supposed to be of the previous application (in days)\n",
            "prevloanapp.csv,TERMINATION,Relative to application date of current application when was the expected termination of the previous application\n",
            "prevloanapp.csv,NFLAG_INSURED_ON_APPROVAL,Did the client requested insurance during the previous application\n",
            "installmentpayment.csv,LN_ID_PREV,\"ID of previous loan (One loan can have 0,1,2 or more previous loan application)\"\n",
            "installmentpayment.csv,LN_ID,Loan ID\n",
            "installmentpayment.csv,INST_NUMBER,On which installment we observe payment\n",
            "installmentpayment.csv,INST_DAYS,When the installment of previous credit was supposed to be paid (relative to application date of current loan)\n",
            "installmentpayment.csv,PAY_DAYS,When was the installments of previous credit paid actually (relative to application date of current loan)\n",
            "installmentpayment.csv,AMT_INST,What was the prescribed installment amount of previous credit on this installment\n",
            "installmentpayment.csv,AMT_PAY,What the client actually paid on previous credit on this installment\n",
            "\n"
          ]
        }
      ]
    },
    {
      "cell_type": "markdown",
      "source": [
        "###Cek missing value"
      ],
      "metadata": {
        "id": "9qFJoOyCJzQ-"
      }
    },
    {
      "cell_type": "code",
      "source": [
        "df_train.isnull().sum()"
      ],
      "metadata": {
        "colab": {
          "base_uri": "https://localhost:8080/"
        },
        "id": "TkSk76RZFJxg",
        "outputId": "ef85e43f-4744-4a6c-bc04-6fd8acc72087"
      },
      "execution_count": null,
      "outputs": [
        {
          "output_type": "execute_result",
          "data": {
            "text/plain": [
              "Unnamed: 0               0\n",
              "LN_ID                    0\n",
              "TARGET                   0\n",
              "CONTRACT_TYPE            0\n",
              "GENDER                   0\n",
              "NUM_CHILDREN             0\n",
              "INCOME                   0\n",
              "APPROVED_CREDIT          0\n",
              "ANNUITY                  1\n",
              "PRICE                   62\n",
              "INCOME_TYPE              0\n",
              "EDUCATION                0\n",
              "FAMILY_STATUS            0\n",
              "HOUSING_TYPE             0\n",
              "DAYS_AGE                 0\n",
              "DAYS_WORK                0\n",
              "DAYS_REGISTRATION        0\n",
              "DAYS_ID_CHANGE           0\n",
              "WEEKDAYS_APPLY           0\n",
              "HOUR_APPLY               0\n",
              "ORGANIZATION_TYPE        0\n",
              "EXT_SCORE_1          34845\n",
              "EXT_SCORE_2            134\n",
              "EXT_SCORE_3          12239\n",
              "dtype: int64"
            ]
          },
          "metadata": {},
          "execution_count": 9
        }
      ]
    },
    {
      "cell_type": "code",
      "source": [
        "df_test.isnull().sum()"
      ],
      "metadata": {
        "colab": {
          "base_uri": "https://localhost:8080/"
        },
        "id": "f0ppZaAUFpEu",
        "outputId": "e75e91f8-a5a9-4f52-8d79-6bd2cfe30d93"
      },
      "execution_count": null,
      "outputs": [
        {
          "output_type": "execute_result",
          "data": {
            "text/plain": [
              "Unnamed: 0              0\n",
              "LN_ID                   0\n",
              "TARGET                  0\n",
              "CONTRACT_TYPE           0\n",
              "GENDER                  0\n",
              "NUM_CHILDREN            0\n",
              "INCOME                  0\n",
              "APPROVED_CREDIT         0\n",
              "ANNUITY                 0\n",
              "PRICE                  20\n",
              "INCOME_TYPE             0\n",
              "EDUCATION               0\n",
              "FAMILY_STATUS           0\n",
              "HOUSING_TYPE            0\n",
              "DAYS_AGE                0\n",
              "DAYS_WORK               0\n",
              "DAYS_REGISTRATION       0\n",
              "DAYS_ID_CHANGE          0\n",
              "WEEKDAYS_APPLY          0\n",
              "HOUR_APPLY              0\n",
              "ORGANIZATION_TYPE       0\n",
              "EXT_SCORE_1          8312\n",
              "EXT_SCORE_2            19\n",
              "EXT_SCORE_3          2919\n",
              "dtype: int64"
            ]
          },
          "metadata": {},
          "execution_count": 10
        }
      ]
    },
    {
      "cell_type": "markdown",
      "source": [
        "##Statistik deskriptif"
      ],
      "metadata": {
        "id": "tjVU1EBxEsJs"
      }
    },
    {
      "cell_type": "code",
      "source": [
        "df_train.info()"
      ],
      "metadata": {
        "colab": {
          "base_uri": "https://localhost:8080/"
        },
        "id": "RooxGSkXg2Mc",
        "outputId": "2a5bbf9b-2161-486c-c2d6-aff46eee3128"
      },
      "execution_count": null,
      "outputs": [
        {
          "output_type": "stream",
          "name": "stdout",
          "text": [
            "<class 'pandas.core.frame.DataFrame'>\n",
            "RangeIndex: 61503 entries, 0 to 61502\n",
            "Data columns (total 24 columns):\n",
            " #   Column             Non-Null Count  Dtype  \n",
            "---  ------             --------------  -----  \n",
            " 0   Unnamed: 0         61503 non-null  int64  \n",
            " 1   LN_ID              61503 non-null  int64  \n",
            " 2   TARGET             61503 non-null  int64  \n",
            " 3   CONTRACT_TYPE      61503 non-null  object \n",
            " 4   GENDER             61503 non-null  object \n",
            " 5   NUM_CHILDREN       61503 non-null  int64  \n",
            " 6   INCOME             61503 non-null  float64\n",
            " 7   APPROVED_CREDIT    61503 non-null  float64\n",
            " 8   ANNUITY            61502 non-null  float64\n",
            " 9   PRICE              61441 non-null  float64\n",
            " 10  INCOME_TYPE        61503 non-null  object \n",
            " 11  EDUCATION          61503 non-null  object \n",
            " 12  FAMILY_STATUS      61503 non-null  object \n",
            " 13  HOUSING_TYPE       61503 non-null  object \n",
            " 14  DAYS_AGE           61503 non-null  int64  \n",
            " 15  DAYS_WORK          61503 non-null  int64  \n",
            " 16  DAYS_REGISTRATION  61503 non-null  float64\n",
            " 17  DAYS_ID_CHANGE     61503 non-null  int64  \n",
            " 18  WEEKDAYS_APPLY     61503 non-null  object \n",
            " 19  HOUR_APPLY         61503 non-null  int64  \n",
            " 20  ORGANIZATION_TYPE  61503 non-null  object \n",
            " 21  EXT_SCORE_1        26658 non-null  float64\n",
            " 22  EXT_SCORE_2        61369 non-null  float64\n",
            " 23  EXT_SCORE_3        49264 non-null  float64\n",
            "dtypes: float64(8), int64(8), object(8)\n",
            "memory usage: 11.3+ MB\n"
          ]
        }
      ]
    },
    {
      "cell_type": "code",
      "source": [
        "df_train.describe(include=\"all\")"
      ],
      "metadata": {
        "colab": {
          "base_uri": "https://localhost:8080/",
          "height": 505
        },
        "id": "70rMAQSTgaXU",
        "outputId": "7af309bf-d5ac-4fb8-a0a8-78fc971e254e"
      },
      "execution_count": null,
      "outputs": [
        {
          "output_type": "execute_result",
          "data": {
            "text/plain": [
              "           Unnamed: 0          LN_ID        TARGET CONTRACT_TYPE GENDER  \\\n",
              "count    61503.000000   61503.000000  61503.000000         61503  61503   \n",
              "unique            NaN            NaN           NaN             2      2   \n",
              "top               NaN            NaN           NaN    Cash loans      F   \n",
              "freq              NaN            NaN           NaN         55699  40549   \n",
              "mean    153729.986927  278151.136416      0.080793           NaN    NaN   \n",
              "std      88881.478853  102918.206671      0.272519           NaN    NaN   \n",
              "min          6.000000  100009.000000      0.000000           NaN    NaN   \n",
              "25%      76545.500000  188767.000000      0.000000           NaN    NaN   \n",
              "50%     153893.000000  278357.000000      0.000000           NaN    NaN   \n",
              "75%     230884.500000  367424.500000      0.000000           NaN    NaN   \n",
              "max     307510.000000  456255.000000      1.000000           NaN    NaN   \n",
              "\n",
              "        NUM_CHILDREN        INCOME  APPROVED_CREDIT        ANNUITY  \\\n",
              "count   61503.000000  6.150300e+04     6.150300e+04   61502.000000   \n",
              "unique           NaN           NaN              NaN            NaN   \n",
              "top              NaN           NaN              NaN            NaN   \n",
              "freq             NaN           NaN              NaN            NaN   \n",
              "mean        0.411850  1.690789e+05     5.976899e+05   27083.323315   \n",
              "std         0.716686  1.339697e+05     4.016493e+05   14470.508291   \n",
              "min         0.000000  2.610000e+04     4.500000e+04    2164.500000   \n",
              "25%         0.000000  1.125000e+05     2.700000e+05   16506.000000   \n",
              "50%         0.000000  1.485000e+05     5.124465e+05   24853.500000   \n",
              "75%         1.000000  2.025000e+05     8.086500e+05   34596.000000   \n",
              "max         9.000000  1.800009e+07     4.050000e+06  258025.500000   \n",
              "\n",
              "               PRICE  ...      DAYS_AGE      DAYS_WORK DAYS_REGISTRATION  \\\n",
              "count   6.144100e+04  ...  61503.000000   61503.000000      61503.000000   \n",
              "unique           NaN  ...           NaN            NaN               NaN   \n",
              "top              NaN  ...           NaN            NaN               NaN   \n",
              "freq             NaN  ...           NaN            NaN               NaN   \n",
              "mean    5.369033e+05  ... -16057.481033   64882.262768      -4976.696324   \n",
              "std     3.685742e+05  ...   4363.536919  142154.440320       3520.926325   \n",
              "min     4.500000e+04  ... -25229.000000  -17912.000000     -22928.000000   \n",
              "25%     2.385000e+05  ... -19716.500000   -2761.000000      -7479.000000   \n",
              "50%     4.500000e+05  ... -15753.000000   -1208.000000      -4498.000000   \n",
              "75%     6.795000e+05  ... -12450.000000    -276.000000      -1996.000000   \n",
              "max     4.050000e+06  ...  -7673.000000  365243.000000          0.000000   \n",
              "\n",
              "       DAYS_ID_CHANGE  WEEKDAYS_APPLY    HOUR_APPLY       ORGANIZATION_TYPE  \\\n",
              "count    61503.000000           61503  61503.000000                   61503   \n",
              "unique            NaN               7           NaN                      58   \n",
              "top               NaN         TUESDAY           NaN  Business Entity Type 3   \n",
              "freq              NaN           10838           NaN                   13561   \n",
              "mean     -2996.374681             NaN     12.055136                     NaN   \n",
              "std       1512.409598             NaN      3.273323                     NaN   \n",
              "min      -6274.000000             NaN      0.000000                     NaN   \n",
              "25%      -4304.000000             NaN     10.000000                     NaN   \n",
              "50%      -3263.000000             NaN     12.000000                     NaN   \n",
              "75%      -1713.000000             NaN     14.000000                     NaN   \n",
              "max          0.000000             NaN     23.000000                     NaN   \n",
              "\n",
              "         EXT_SCORE_1   EXT_SCORE_2   EXT_SCORE_3  \n",
              "count   26658.000000  6.136900e+04  49264.000000  \n",
              "unique           NaN           NaN           NaN  \n",
              "top              NaN           NaN           NaN  \n",
              "freq             NaN           NaN           NaN  \n",
              "mean        0.504081  5.141378e-01      0.510787  \n",
              "std         0.210390  1.912087e-01      0.194541  \n",
              "min         0.018334  8.173617e-08      0.000527  \n",
              "25%         0.336294  3.926921e-01      0.370650  \n",
              "50%         0.508522  5.658808e-01      0.535276  \n",
              "75%         0.677160  6.637879e-01      0.667458  \n",
              "max         0.951624  8.549997e-01      0.896010  \n",
              "\n",
              "[11 rows x 24 columns]"
            ],
            "text/html": [
              "\n",
              "  <div id=\"df-f3c3cae5-7281-4ad5-a5b9-f974fb7bb012\">\n",
              "    <div class=\"colab-df-container\">\n",
              "      <div>\n",
              "<style scoped>\n",
              "    .dataframe tbody tr th:only-of-type {\n",
              "        vertical-align: middle;\n",
              "    }\n",
              "\n",
              "    .dataframe tbody tr th {\n",
              "        vertical-align: top;\n",
              "    }\n",
              "\n",
              "    .dataframe thead th {\n",
              "        text-align: right;\n",
              "    }\n",
              "</style>\n",
              "<table border=\"1\" class=\"dataframe\">\n",
              "  <thead>\n",
              "    <tr style=\"text-align: right;\">\n",
              "      <th></th>\n",
              "      <th>Unnamed: 0</th>\n",
              "      <th>LN_ID</th>\n",
              "      <th>TARGET</th>\n",
              "      <th>CONTRACT_TYPE</th>\n",
              "      <th>GENDER</th>\n",
              "      <th>NUM_CHILDREN</th>\n",
              "      <th>INCOME</th>\n",
              "      <th>APPROVED_CREDIT</th>\n",
              "      <th>ANNUITY</th>\n",
              "      <th>PRICE</th>\n",
              "      <th>...</th>\n",
              "      <th>DAYS_AGE</th>\n",
              "      <th>DAYS_WORK</th>\n",
              "      <th>DAYS_REGISTRATION</th>\n",
              "      <th>DAYS_ID_CHANGE</th>\n",
              "      <th>WEEKDAYS_APPLY</th>\n",
              "      <th>HOUR_APPLY</th>\n",
              "      <th>ORGANIZATION_TYPE</th>\n",
              "      <th>EXT_SCORE_1</th>\n",
              "      <th>EXT_SCORE_2</th>\n",
              "      <th>EXT_SCORE_3</th>\n",
              "    </tr>\n",
              "  </thead>\n",
              "  <tbody>\n",
              "    <tr>\n",
              "      <th>count</th>\n",
              "      <td>61503.000000</td>\n",
              "      <td>61503.000000</td>\n",
              "      <td>61503.000000</td>\n",
              "      <td>61503</td>\n",
              "      <td>61503</td>\n",
              "      <td>61503.000000</td>\n",
              "      <td>6.150300e+04</td>\n",
              "      <td>6.150300e+04</td>\n",
              "      <td>61502.000000</td>\n",
              "      <td>6.144100e+04</td>\n",
              "      <td>...</td>\n",
              "      <td>61503.000000</td>\n",
              "      <td>61503.000000</td>\n",
              "      <td>61503.000000</td>\n",
              "      <td>61503.000000</td>\n",
              "      <td>61503</td>\n",
              "      <td>61503.000000</td>\n",
              "      <td>61503</td>\n",
              "      <td>26658.000000</td>\n",
              "      <td>6.136900e+04</td>\n",
              "      <td>49264.000000</td>\n",
              "    </tr>\n",
              "    <tr>\n",
              "      <th>unique</th>\n",
              "      <td>NaN</td>\n",
              "      <td>NaN</td>\n",
              "      <td>NaN</td>\n",
              "      <td>2</td>\n",
              "      <td>2</td>\n",
              "      <td>NaN</td>\n",
              "      <td>NaN</td>\n",
              "      <td>NaN</td>\n",
              "      <td>NaN</td>\n",
              "      <td>NaN</td>\n",
              "      <td>...</td>\n",
              "      <td>NaN</td>\n",
              "      <td>NaN</td>\n",
              "      <td>NaN</td>\n",
              "      <td>NaN</td>\n",
              "      <td>7</td>\n",
              "      <td>NaN</td>\n",
              "      <td>58</td>\n",
              "      <td>NaN</td>\n",
              "      <td>NaN</td>\n",
              "      <td>NaN</td>\n",
              "    </tr>\n",
              "    <tr>\n",
              "      <th>top</th>\n",
              "      <td>NaN</td>\n",
              "      <td>NaN</td>\n",
              "      <td>NaN</td>\n",
              "      <td>Cash loans</td>\n",
              "      <td>F</td>\n",
              "      <td>NaN</td>\n",
              "      <td>NaN</td>\n",
              "      <td>NaN</td>\n",
              "      <td>NaN</td>\n",
              "      <td>NaN</td>\n",
              "      <td>...</td>\n",
              "      <td>NaN</td>\n",
              "      <td>NaN</td>\n",
              "      <td>NaN</td>\n",
              "      <td>NaN</td>\n",
              "      <td>TUESDAY</td>\n",
              "      <td>NaN</td>\n",
              "      <td>Business Entity Type 3</td>\n",
              "      <td>NaN</td>\n",
              "      <td>NaN</td>\n",
              "      <td>NaN</td>\n",
              "    </tr>\n",
              "    <tr>\n",
              "      <th>freq</th>\n",
              "      <td>NaN</td>\n",
              "      <td>NaN</td>\n",
              "      <td>NaN</td>\n",
              "      <td>55699</td>\n",
              "      <td>40549</td>\n",
              "      <td>NaN</td>\n",
              "      <td>NaN</td>\n",
              "      <td>NaN</td>\n",
              "      <td>NaN</td>\n",
              "      <td>NaN</td>\n",
              "      <td>...</td>\n",
              "      <td>NaN</td>\n",
              "      <td>NaN</td>\n",
              "      <td>NaN</td>\n",
              "      <td>NaN</td>\n",
              "      <td>10838</td>\n",
              "      <td>NaN</td>\n",
              "      <td>13561</td>\n",
              "      <td>NaN</td>\n",
              "      <td>NaN</td>\n",
              "      <td>NaN</td>\n",
              "    </tr>\n",
              "    <tr>\n",
              "      <th>mean</th>\n",
              "      <td>153729.986927</td>\n",
              "      <td>278151.136416</td>\n",
              "      <td>0.080793</td>\n",
              "      <td>NaN</td>\n",
              "      <td>NaN</td>\n",
              "      <td>0.411850</td>\n",
              "      <td>1.690789e+05</td>\n",
              "      <td>5.976899e+05</td>\n",
              "      <td>27083.323315</td>\n",
              "      <td>5.369033e+05</td>\n",
              "      <td>...</td>\n",
              "      <td>-16057.481033</td>\n",
              "      <td>64882.262768</td>\n",
              "      <td>-4976.696324</td>\n",
              "      <td>-2996.374681</td>\n",
              "      <td>NaN</td>\n",
              "      <td>12.055136</td>\n",
              "      <td>NaN</td>\n",
              "      <td>0.504081</td>\n",
              "      <td>5.141378e-01</td>\n",
              "      <td>0.510787</td>\n",
              "    </tr>\n",
              "    <tr>\n",
              "      <th>std</th>\n",
              "      <td>88881.478853</td>\n",
              "      <td>102918.206671</td>\n",
              "      <td>0.272519</td>\n",
              "      <td>NaN</td>\n",
              "      <td>NaN</td>\n",
              "      <td>0.716686</td>\n",
              "      <td>1.339697e+05</td>\n",
              "      <td>4.016493e+05</td>\n",
              "      <td>14470.508291</td>\n",
              "      <td>3.685742e+05</td>\n",
              "      <td>...</td>\n",
              "      <td>4363.536919</td>\n",
              "      <td>142154.440320</td>\n",
              "      <td>3520.926325</td>\n",
              "      <td>1512.409598</td>\n",
              "      <td>NaN</td>\n",
              "      <td>3.273323</td>\n",
              "      <td>NaN</td>\n",
              "      <td>0.210390</td>\n",
              "      <td>1.912087e-01</td>\n",
              "      <td>0.194541</td>\n",
              "    </tr>\n",
              "    <tr>\n",
              "      <th>min</th>\n",
              "      <td>6.000000</td>\n",
              "      <td>100009.000000</td>\n",
              "      <td>0.000000</td>\n",
              "      <td>NaN</td>\n",
              "      <td>NaN</td>\n",
              "      <td>0.000000</td>\n",
              "      <td>2.610000e+04</td>\n",
              "      <td>4.500000e+04</td>\n",
              "      <td>2164.500000</td>\n",
              "      <td>4.500000e+04</td>\n",
              "      <td>...</td>\n",
              "      <td>-25229.000000</td>\n",
              "      <td>-17912.000000</td>\n",
              "      <td>-22928.000000</td>\n",
              "      <td>-6274.000000</td>\n",
              "      <td>NaN</td>\n",
              "      <td>0.000000</td>\n",
              "      <td>NaN</td>\n",
              "      <td>0.018334</td>\n",
              "      <td>8.173617e-08</td>\n",
              "      <td>0.000527</td>\n",
              "    </tr>\n",
              "    <tr>\n",
              "      <th>25%</th>\n",
              "      <td>76545.500000</td>\n",
              "      <td>188767.000000</td>\n",
              "      <td>0.000000</td>\n",
              "      <td>NaN</td>\n",
              "      <td>NaN</td>\n",
              "      <td>0.000000</td>\n",
              "      <td>1.125000e+05</td>\n",
              "      <td>2.700000e+05</td>\n",
              "      <td>16506.000000</td>\n",
              "      <td>2.385000e+05</td>\n",
              "      <td>...</td>\n",
              "      <td>-19716.500000</td>\n",
              "      <td>-2761.000000</td>\n",
              "      <td>-7479.000000</td>\n",
              "      <td>-4304.000000</td>\n",
              "      <td>NaN</td>\n",
              "      <td>10.000000</td>\n",
              "      <td>NaN</td>\n",
              "      <td>0.336294</td>\n",
              "      <td>3.926921e-01</td>\n",
              "      <td>0.370650</td>\n",
              "    </tr>\n",
              "    <tr>\n",
              "      <th>50%</th>\n",
              "      <td>153893.000000</td>\n",
              "      <td>278357.000000</td>\n",
              "      <td>0.000000</td>\n",
              "      <td>NaN</td>\n",
              "      <td>NaN</td>\n",
              "      <td>0.000000</td>\n",
              "      <td>1.485000e+05</td>\n",
              "      <td>5.124465e+05</td>\n",
              "      <td>24853.500000</td>\n",
              "      <td>4.500000e+05</td>\n",
              "      <td>...</td>\n",
              "      <td>-15753.000000</td>\n",
              "      <td>-1208.000000</td>\n",
              "      <td>-4498.000000</td>\n",
              "      <td>-3263.000000</td>\n",
              "      <td>NaN</td>\n",
              "      <td>12.000000</td>\n",
              "      <td>NaN</td>\n",
              "      <td>0.508522</td>\n",
              "      <td>5.658808e-01</td>\n",
              "      <td>0.535276</td>\n",
              "    </tr>\n",
              "    <tr>\n",
              "      <th>75%</th>\n",
              "      <td>230884.500000</td>\n",
              "      <td>367424.500000</td>\n",
              "      <td>0.000000</td>\n",
              "      <td>NaN</td>\n",
              "      <td>NaN</td>\n",
              "      <td>1.000000</td>\n",
              "      <td>2.025000e+05</td>\n",
              "      <td>8.086500e+05</td>\n",
              "      <td>34596.000000</td>\n",
              "      <td>6.795000e+05</td>\n",
              "      <td>...</td>\n",
              "      <td>-12450.000000</td>\n",
              "      <td>-276.000000</td>\n",
              "      <td>-1996.000000</td>\n",
              "      <td>-1713.000000</td>\n",
              "      <td>NaN</td>\n",
              "      <td>14.000000</td>\n",
              "      <td>NaN</td>\n",
              "      <td>0.677160</td>\n",
              "      <td>6.637879e-01</td>\n",
              "      <td>0.667458</td>\n",
              "    </tr>\n",
              "    <tr>\n",
              "      <th>max</th>\n",
              "      <td>307510.000000</td>\n",
              "      <td>456255.000000</td>\n",
              "      <td>1.000000</td>\n",
              "      <td>NaN</td>\n",
              "      <td>NaN</td>\n",
              "      <td>9.000000</td>\n",
              "      <td>1.800009e+07</td>\n",
              "      <td>4.050000e+06</td>\n",
              "      <td>258025.500000</td>\n",
              "      <td>4.050000e+06</td>\n",
              "      <td>...</td>\n",
              "      <td>-7673.000000</td>\n",
              "      <td>365243.000000</td>\n",
              "      <td>0.000000</td>\n",
              "      <td>0.000000</td>\n",
              "      <td>NaN</td>\n",
              "      <td>23.000000</td>\n",
              "      <td>NaN</td>\n",
              "      <td>0.951624</td>\n",
              "      <td>8.549997e-01</td>\n",
              "      <td>0.896010</td>\n",
              "    </tr>\n",
              "  </tbody>\n",
              "</table>\n",
              "<p>11 rows × 24 columns</p>\n",
              "</div>\n",
              "      <button class=\"colab-df-convert\" onclick=\"convertToInteractive('df-f3c3cae5-7281-4ad5-a5b9-f974fb7bb012')\"\n",
              "              title=\"Convert this dataframe to an interactive table.\"\n",
              "              style=\"display:none;\">\n",
              "        \n",
              "  <svg xmlns=\"http://www.w3.org/2000/svg\" height=\"24px\"viewBox=\"0 0 24 24\"\n",
              "       width=\"24px\">\n",
              "    <path d=\"M0 0h24v24H0V0z\" fill=\"none\"/>\n",
              "    <path d=\"M18.56 5.44l.94 2.06.94-2.06 2.06-.94-2.06-.94-.94-2.06-.94 2.06-2.06.94zm-11 1L8.5 8.5l.94-2.06 2.06-.94-2.06-.94L8.5 2.5l-.94 2.06-2.06.94zm10 10l.94 2.06.94-2.06 2.06-.94-2.06-.94-.94-2.06-.94 2.06-2.06.94z\"/><path d=\"M17.41 7.96l-1.37-1.37c-.4-.4-.92-.59-1.43-.59-.52 0-1.04.2-1.43.59L10.3 9.45l-7.72 7.72c-.78.78-.78 2.05 0 2.83L4 21.41c.39.39.9.59 1.41.59.51 0 1.02-.2 1.41-.59l7.78-7.78 2.81-2.81c.8-.78.8-2.07 0-2.86zM5.41 20L4 18.59l7.72-7.72 1.47 1.35L5.41 20z\"/>\n",
              "  </svg>\n",
              "      </button>\n",
              "      \n",
              "  <style>\n",
              "    .colab-df-container {\n",
              "      display:flex;\n",
              "      flex-wrap:wrap;\n",
              "      gap: 12px;\n",
              "    }\n",
              "\n",
              "    .colab-df-convert {\n",
              "      background-color: #E8F0FE;\n",
              "      border: none;\n",
              "      border-radius: 50%;\n",
              "      cursor: pointer;\n",
              "      display: none;\n",
              "      fill: #1967D2;\n",
              "      height: 32px;\n",
              "      padding: 0 0 0 0;\n",
              "      width: 32px;\n",
              "    }\n",
              "\n",
              "    .colab-df-convert:hover {\n",
              "      background-color: #E2EBFA;\n",
              "      box-shadow: 0px 1px 2px rgba(60, 64, 67, 0.3), 0px 1px 3px 1px rgba(60, 64, 67, 0.15);\n",
              "      fill: #174EA6;\n",
              "    }\n",
              "\n",
              "    [theme=dark] .colab-df-convert {\n",
              "      background-color: #3B4455;\n",
              "      fill: #D2E3FC;\n",
              "    }\n",
              "\n",
              "    [theme=dark] .colab-df-convert:hover {\n",
              "      background-color: #434B5C;\n",
              "      box-shadow: 0px 1px 3px 1px rgba(0, 0, 0, 0.15);\n",
              "      filter: drop-shadow(0px 1px 2px rgba(0, 0, 0, 0.3));\n",
              "      fill: #FFFFFF;\n",
              "    }\n",
              "  </style>\n",
              "\n",
              "      <script>\n",
              "        const buttonEl =\n",
              "          document.querySelector('#df-f3c3cae5-7281-4ad5-a5b9-f974fb7bb012 button.colab-df-convert');\n",
              "        buttonEl.style.display =\n",
              "          google.colab.kernel.accessAllowed ? 'block' : 'none';\n",
              "\n",
              "        async function convertToInteractive(key) {\n",
              "          const element = document.querySelector('#df-f3c3cae5-7281-4ad5-a5b9-f974fb7bb012');\n",
              "          const dataTable =\n",
              "            await google.colab.kernel.invokeFunction('convertToInteractive',\n",
              "                                                     [key], {});\n",
              "          if (!dataTable) return;\n",
              "\n",
              "          const docLinkHtml = 'Like what you see? Visit the ' +\n",
              "            '<a target=\"_blank\" href=https://colab.research.google.com/notebooks/data_table.ipynb>data table notebook</a>'\n",
              "            + ' to learn more about interactive tables.';\n",
              "          element.innerHTML = '';\n",
              "          dataTable['output_type'] = 'display_data';\n",
              "          await google.colab.output.renderOutput(dataTable, element);\n",
              "          const docLink = document.createElement('div');\n",
              "          docLink.innerHTML = docLinkHtml;\n",
              "          element.appendChild(docLink);\n",
              "        }\n",
              "      </script>\n",
              "    </div>\n",
              "  </div>\n",
              "  "
            ]
          },
          "metadata": {},
          "execution_count": 12
        }
      ]
    },
    {
      "cell_type": "markdown",
      "source": [
        "##Feature selection"
      ],
      "metadata": {
        "id": "s-KAhOFzPSDp"
      }
    },
    {
      "cell_type": "code",
      "source": [
        "corr = df_train.corr()\n",
        "\n",
        "plt.figure(figsize=(15,12))\n",
        "\n",
        "sns.heatmap(corr, annot=True)\n",
        "\n",
        "plt.show()"
      ],
      "metadata": {
        "colab": {
          "base_uri": "https://localhost:8080/",
          "height": 798
        },
        "id": "H66UPRw0gL7a",
        "outputId": "4bb4a406-8d99-4b57-e9e4-7c5a0afd4806"
      },
      "execution_count": null,
      "outputs": [
        {
          "output_type": "display_data",
          "data": {
            "text/plain": [
              "<Figure size 1080x864 with 2 Axes>"
            ],
            "image/png": "[encoded data removed]"
          },
          "metadata": {
            "needs_background": "light"
          }
        }
      ]
    },
    {
      "cell_type": "markdown",
      "source": [
        "Untuk membayar pinjaman tentunya peminjam harus memiliki pendapatan yang cukup untuk hal tersebut, maka dari itu saya menentukan kemampuan membayar mereka melalui 2 fitur lain yang berhubungan dengan pendapatan yaitu ANUITY dan PRICE yang mempunya nilai korelasi paling besar dengan pendapatan"
      ],
      "metadata": {
        "id": "N07fbaDUTCyY"
      }
    },
    {
      "cell_type": "code",
      "source": [
        "#Visualization\n",
        "def bar_graph(column_feature):\n",
        "    column_feature.value_counts().plot(kind=\"bar\")"
      ],
      "metadata": {
        "id": "5LMnqd_RSYZA"
      },
      "execution_count": null,
      "outputs": []
    },
    {
      "cell_type": "code",
      "source": [
        "bar_graph(df_train['TARGET'])"
      ],
      "metadata": {
        "colab": {
          "base_uri": "https://localhost:8080/",
          "height": 262
        },
        "id": "aZVEKUNtmeLh",
        "outputId": "101c88fc-fd43-429b-c6c2-c64fd848a457"
      },
      "execution_count": null,
      "outputs": [
        {
          "output_type": "display_data",
          "data": {
            "text/plain": [
              "<Figure size 432x288 with 1 Axes>"
            ],
            "image/png": "[encoded data removed]"
          },
          "metadata": {
            "needs_background": "light"
          }
        }
      ]
    },
    {
      "cell_type": "markdown",
      "source": [
        "##Feature Engineering"
      ],
      "metadata": {
        "id": "5gu0HmKLQthh"
      }
    },
    {
      "cell_type": "markdown",
      "source": [
        "###Cek outliers"
      ],
      "metadata": {
        "id": "Ucz194zxf2NI"
      }
    },
    {
      "cell_type": "code",
      "source": [
        "df_train[['INCOME', 'ANNUITY', 'PRICE']].boxplot()\n",
        "plt.show()"
      ],
      "metadata": {
        "colab": {
          "base_uri": "https://localhost:8080/",
          "height": 331
        },
        "id": "WO5gYjlue3c9",
        "outputId": "f869d677-0f45-4fa5-b3dd-ab0a5f75dc86"
      },
      "execution_count": null,
      "outputs": [
        {
          "output_type": "stream",
          "name": "stderr",
          "text": [
            "/usr/local/lib/python3.7/dist-packages/matplotlib/cbook/__init__.py:1376: VisibleDeprecationWarning: Creating an ndarray from ragged nested sequences (which is a list-or-tuple of lists-or-tuples-or ndarrays with different lengths or shapes) is deprecated. If you meant to do this, you must specify 'dtype=object' when creating the ndarray.\n",
            "  X = np.atleast_1d(X.T if isinstance(X, np.ndarray) else np.asarray(X))\n"
          ]
        },
        {
          "output_type": "display_data",
          "data": {
            "text/plain": [
              "<Figure size 432x288 with 1 Axes>"
            ],
            "image/png": "[encoded data removed]"
          },
          "metadata": {
            "needs_background": "light"
          }
        }
      ]
    },
    {
      "cell_type": "code",
      "source": [
        "df_test[['INCOME', 'ANNUITY', 'PRICE']].boxplot()\n",
        "plt.show()"
      ],
      "metadata": {
        "colab": {
          "base_uri": "https://localhost:8080/",
          "height": 331
        },
        "id": "lsffwhDFVMdY",
        "outputId": "39a1987b-9d2b-44e6-d1a8-6e2593e92905"
      },
      "execution_count": null,
      "outputs": [
        {
          "output_type": "stream",
          "name": "stderr",
          "text": [
            "/usr/local/lib/python3.7/dist-packages/matplotlib/cbook/__init__.py:1376: VisibleDeprecationWarning: Creating an ndarray from ragged nested sequences (which is a list-or-tuple of lists-or-tuples-or ndarrays with different lengths or shapes) is deprecated. If you meant to do this, you must specify 'dtype=object' when creating the ndarray.\n",
            "  X = np.atleast_1d(X.T if isinstance(X, np.ndarray) else np.asarray(X))\n"
          ]
        },
        {
          "output_type": "display_data",
          "data": {
            "text/plain": [
              "<Figure size 432x288 with 1 Axes>"
            ],
            "image/png": "[encoded data removed]"
          },
          "metadata": {
            "needs_background": "light"
          }
        }
      ]
    },
    {
      "cell_type": "markdown",
      "source": [
        "###Mengisi missing value"
      ],
      "metadata": {
        "id": "M3iFIVW9Mzl7"
      }
    },
    {
      "cell_type": "markdown",
      "source": [
        "Berdasarkan pengecekan di atas pada data train memiliki missing value pada kolom ANNUITY dan PRICE dan juga kedua kolom tersebut memiliki outliers sehingga data kosong akan diisi dengan median"
      ],
      "metadata": {
        "id": "2fWvwJR7VThf"
      }
    },
    {
      "cell_type": "code",
      "source": [
        "df_train['ANNUITY'] = df_train['ANNUITY'].fillna(df_train['ANNUITY'].median())\n",
        "df_train['PRICE'] = df_train['PRICE'].fillna(df_train['PRICE'].median())"
      ],
      "metadata": {
        "id": "SW0Wfr38M-75"
      },
      "execution_count": null,
      "outputs": []
    },
    {
      "cell_type": "code",
      "source": [
        "df_train.isnull().sum()"
      ],
      "metadata": {
        "colab": {
          "base_uri": "https://localhost:8080/"
        },
        "id": "haLJMtu7V_50",
        "outputId": "8c4ceffe-d193-4b63-b821-c1a68b335eb9"
      },
      "execution_count": null,
      "outputs": [
        {
          "output_type": "execute_result",
          "data": {
            "text/plain": [
              "Unnamed: 0               0\n",
              "LN_ID                    0\n",
              "TARGET                   0\n",
              "CONTRACT_TYPE            0\n",
              "GENDER                   0\n",
              "NUM_CHILDREN             0\n",
              "INCOME                   0\n",
              "APPROVED_CREDIT          0\n",
              "ANNUITY                  0\n",
              "PRICE                    0\n",
              "INCOME_TYPE              0\n",
              "EDUCATION                0\n",
              "FAMILY_STATUS            0\n",
              "HOUSING_TYPE             0\n",
              "DAYS_AGE                 0\n",
              "DAYS_WORK                0\n",
              "DAYS_REGISTRATION        0\n",
              "DAYS_ID_CHANGE           0\n",
              "WEEKDAYS_APPLY           0\n",
              "HOUR_APPLY               0\n",
              "ORGANIZATION_TYPE        0\n",
              "EXT_SCORE_1          34845\n",
              "EXT_SCORE_2            134\n",
              "EXT_SCORE_3          12239\n",
              "dtype: int64"
            ]
          },
          "metadata": {},
          "execution_count": 19
        }
      ]
    },
    {
      "cell_type": "markdown",
      "source": [
        "Berdasarkan pengecekan di atas pada data test memiliki missing value pada kolom PRICE, kolom tersebut memiliki outliers sehingga data kosong akan diisi dengan median"
      ],
      "metadata": {
        "id": "RuCsnp3HVc9A"
      }
    },
    {
      "cell_type": "code",
      "source": [
        "df_test['PRICE'] = df_test['PRICE'].fillna(df_test['PRICE'].median())"
      ],
      "metadata": {
        "id": "asw5uEhdwmeo"
      },
      "execution_count": null,
      "outputs": []
    },
    {
      "cell_type": "code",
      "source": [
        "df_test.isnull().sum()"
      ],
      "metadata": {
        "colab": {
          "base_uri": "https://localhost:8080/"
        },
        "id": "XYfY7vjuW8DH",
        "outputId": "3fdb0db4-b234-47ae-d580-55185abbfdf1"
      },
      "execution_count": null,
      "outputs": [
        {
          "output_type": "execute_result",
          "data": {
            "text/plain": [
              "Unnamed: 0              0\n",
              "LN_ID                   0\n",
              "TARGET                  0\n",
              "CONTRACT_TYPE           0\n",
              "GENDER                  0\n",
              "NUM_CHILDREN            0\n",
              "INCOME                  0\n",
              "APPROVED_CREDIT         0\n",
              "ANNUITY                 0\n",
              "PRICE                   0\n",
              "INCOME_TYPE             0\n",
              "EDUCATION               0\n",
              "FAMILY_STATUS           0\n",
              "HOUSING_TYPE            0\n",
              "DAYS_AGE                0\n",
              "DAYS_WORK               0\n",
              "DAYS_REGISTRATION       0\n",
              "DAYS_ID_CHANGE          0\n",
              "WEEKDAYS_APPLY          0\n",
              "HOUR_APPLY              0\n",
              "ORGANIZATION_TYPE       0\n",
              "EXT_SCORE_1          8312\n",
              "EXT_SCORE_2            19\n",
              "EXT_SCORE_3          2919\n",
              "dtype: int64"
            ]
          },
          "metadata": {},
          "execution_count": 21
        }
      ]
    },
    {
      "cell_type": "markdown",
      "source": [
        "###Class weight balancing"
      ],
      "metadata": {
        "id": "al58NIXkpYgM"
      }
    },
    {
      "cell_type": "markdown",
      "source": [
        "Karena pada feature selection diketeahui bahwa target 0 lebih banyak daripada target 1 maka pada bagian ini akan mengatur berat tiap kelas"
      ],
      "metadata": {
        "id": "trmNSM4upw2v"
      }
    },
    {
      "cell_type": "code",
      "source": [
        "y = np.array(df_train['TARGET'])\n",
        "CLASS_WEIGHT = compute_class_weight(class_weight='balanced', classes=np.unique(y), y=y)\n",
        "CLASS_WEIGHT = dict(zip(np.unique(y), CLASS_WEIGHT))\n",
        "CLASS_WEIGHT"
      ],
      "metadata": {
        "colab": {
          "base_uri": "https://localhost:8080/"
        },
        "id": "8PXkxroRNboV",
        "outputId": "6677ddfd-518a-4060-e578-52c1b0e44192"
      },
      "execution_count": null,
      "outputs": [
        {
          "output_type": "execute_result",
          "data": {
            "text/plain": [
              "{0: 0.5439470053419181, 1: 6.188669752465285}"
            ]
          },
          "metadata": {},
          "execution_count": 53
        }
      ]
    },
    {
      "cell_type": "markdown",
      "source": [
        "###Scaling data"
      ],
      "metadata": {
        "id": "p4bkV8vPRjya"
      }
    },
    {
      "cell_type": "markdown",
      "source": [
        "Karena range data yang terpaut cukup jauh maka perlu dilakukan scaling agar training menjadi lebih optimal"
      ],
      "metadata": {
        "id": "J5m-PP0X5_D1"
      }
    },
    {
      "cell_type": "code",
      "source": [
        "sc = RobustScaler()"
      ],
      "metadata": {
        "id": "vDpDnLqQXUAJ"
      },
      "execution_count": null,
      "outputs": []
    },
    {
      "cell_type": "code",
      "source": [
        "Y_train = df_train[['TARGET']]\n",
        "X_train = df_train[['INCOME', 'ANNUITY', 'PRICE']]\n",
        "\n",
        "Y_test = df_test[['TARGET']]\n",
        "X_test = df_test[['INCOME', 'ANNUITY', 'PRICE']]"
      ],
      "metadata": {
        "id": "07U77UgYPVF5"
      },
      "execution_count": null,
      "outputs": []
    },
    {
      "cell_type": "code",
      "source": [
        "X_train = sc.fit_transform(X_train)\n",
        "X_test = sc.transform(X_test)"
      ],
      "metadata": {
        "id": "d4jDuMB_Xd3d"
      },
      "execution_count": null,
      "outputs": []
    },
    {
      "cell_type": "markdown",
      "source": [
        "#Model"
      ],
      "metadata": {
        "id": "7dXO66avdmci"
      }
    },
    {
      "cell_type": "markdown",
      "source": [
        "##Model Selection"
      ],
      "metadata": {
        "id": "UP1l9KHRYUcn"
      }
    },
    {
      "cell_type": "markdown",
      "source": [
        "Popular algorithms that can be used for binary classification include:\n",
        "\n",
        "* Logistic Regression\n",
        "* k-Nearest Neighbors\n",
        "* Decision Trees\n",
        "* Support Vector Machine\n",
        "* Naive Bayes\n",
        "\n",
        "source: https://machinelearningmastery.com/types-of-classification-in-machine-learning/"
      ],
      "metadata": {
        "id": "SmidV6_e6PLM"
      }
    },
    {
      "cell_type": "markdown",
      "source": [
        "##Training"
      ],
      "metadata": {
        "id": "JE1msa-Mdpin"
      }
    },
    {
      "cell_type": "markdown",
      "source": [
        "###Logistic regression"
      ],
      "metadata": {
        "id": "Lo0jI-vd8jOj"
      }
    },
    {
      "cell_type": "code",
      "source": [
        "model1 = linear_model.LogisticRegression(class_weight=CLASS_WEIGHT)\n",
        "model1.fit(X_train, Y_train.values.ravel())"
      ],
      "metadata": {
        "colab": {
          "base_uri": "https://localhost:8080/"
        },
        "id": "FdzJHoPF8ixU",
        "outputId": "36281b62-60c6-4963-c3d9-290da3257750"
      },
      "execution_count": null,
      "outputs": [
        {
          "output_type": "execute_result",
          "data": {
            "text/plain": [
              "LogisticRegression(class_weight={0: 0.5439470053419181, 1: 6.188669752465285})"
            ]
          },
          "metadata": {},
          "execution_count": 57
        }
      ]
    },
    {
      "cell_type": "markdown",
      "source": [
        "###KNN"
      ],
      "metadata": {
        "id": "cGBqBU9d-Do7"
      }
    },
    {
      "cell_type": "code",
      "source": [
        "model2 = KNeighborsClassifier(n_neighbors = 5, weights =\"distance\")\n",
        "model2.fit(X_train, Y_train.values.ravel())"
      ],
      "metadata": {
        "colab": {
          "base_uri": "https://localhost:8080/"
        },
        "id": "e0kBdcZc-HFx",
        "outputId": "a9bc65f7-0505-4b64-d938-507e2c3211a3"
      },
      "execution_count": null,
      "outputs": [
        {
          "output_type": "execute_result",
          "data": {
            "text/plain": [
              "KNeighborsClassifier(weights='distance')"
            ]
          },
          "metadata": {},
          "execution_count": 58
        }
      ]
    },
    {
      "cell_type": "markdown",
      "source": [
        "###Random Forest"
      ],
      "metadata": {
        "id": "obCEwYJ1YaYi"
      }
    },
    {
      "cell_type": "code",
      "execution_count": null,
      "metadata": {
        "id": "TWdYoI3SA4m1"
      },
      "outputs": [],
      "source": [
        "model3 = RandomForestClassifier(n_estimators=100, class_weight=CLASS_WEIGHT)"
      ]
    },
    {
      "cell_type": "code",
      "execution_count": null,
      "metadata": {
        "id": "X5wdGglsA4kD",
        "colab": {
          "base_uri": "https://localhost:8080/"
        },
        "outputId": "8804e75f-e43b-4611-a138-46753d68611c"
      },
      "outputs": [
        {
          "output_type": "execute_result",
          "data": {
            "text/plain": [
              "RandomForestClassifier(class_weight={0: 0.5439470053419181,\n",
              "                                     1: 6.188669752465285})"
            ]
          },
          "metadata": {},
          "execution_count": 60
        }
      ],
      "source": [
        "model3.fit(X_train, Y_train.values.ravel())"
      ]
    },
    {
      "cell_type": "markdown",
      "source": [
        "###Support Vector Machine"
      ],
      "metadata": {
        "id": "l0wSgulhXjGJ"
      }
    },
    {
      "cell_type": "code",
      "source": [
        "model4 = SVC(class_weight=CLASS_WEIGHT)\n",
        "model4.fit(X_train, Y_train.values.ravel())"
      ],
      "metadata": {
        "colab": {
          "base_uri": "https://localhost:8080/"
        },
        "id": "bcnPQuGTY9Qf",
        "outputId": "9d1fdb68-063a-4731-82c9-39da68234b73"
      },
      "execution_count": null,
      "outputs": [
        {
          "output_type": "execute_result",
          "data": {
            "text/plain": [
              "SVC(class_weight={0: 0.5439470053419181, 1: 6.188669752465285})"
            ]
          },
          "metadata": {},
          "execution_count": 61
        }
      ]
    },
    {
      "cell_type": "markdown",
      "source": [
        "###Naive bayes"
      ],
      "metadata": {
        "id": "8KUs5tgh_NBr"
      }
    },
    {
      "cell_type": "code",
      "source": [
        "model5 = GaussianNB()"
      ],
      "metadata": {
        "id": "Gex009jR_SZO"
      },
      "execution_count": null,
      "outputs": []
    },
    {
      "cell_type": "code",
      "source": [
        "model5.fit(X_train, Y_train.values.ravel())"
      ],
      "metadata": {
        "colab": {
          "base_uri": "https://localhost:8080/"
        },
        "id": "02VW_M8ZABLM",
        "outputId": "bb28b9e8-4f51-419e-ffce-c36b6d688b54"
      },
      "execution_count": null,
      "outputs": [
        {
          "output_type": "execute_result",
          "data": {
            "text/plain": [
              "GaussianNB()"
            ]
          },
          "metadata": {},
          "execution_count": 63
        }
      ]
    },
    {
      "cell_type": "markdown",
      "source": [
        "##Model evaluation"
      ],
      "metadata": {
        "id": "fu3ULXXMYffa"
      }
    },
    {
      "cell_type": "code",
      "source": [
        "test_accuracy = []\n",
        "test_time = []\n",
        "names = ['LR','KNN','RF','SVM', 'NB']"
      ],
      "metadata": {
        "id": "BSVkRRymau6X"
      },
      "execution_count": null,
      "outputs": []
    },
    {
      "cell_type": "markdown",
      "source": [
        "###Accuracy & Test time"
      ],
      "metadata": {
        "id": "yIRLfrpBwXP3"
      }
    },
    {
      "cell_type": "markdown",
      "source": [
        "Test model 1"
      ],
      "metadata": {
        "id": "dAVwy2zfdxmX"
      }
    },
    {
      "cell_type": "code",
      "source": [
        "start_time = time.time()\n",
        "Y_pred1 = model1.predict(X_test)\n",
        "end_time = time.time()"
      ],
      "metadata": {
        "id": "4eoJe2XeBwc1"
      },
      "execution_count": null,
      "outputs": []
    },
    {
      "cell_type": "code",
      "source": [
        "test_time.append(end_time-start_time)\n",
        "test_accuracy.append(model1.score(X_test, Y_test))"
      ],
      "metadata": {
        "id": "E9926I13CVfq"
      },
      "execution_count": null,
      "outputs": []
    },
    {
      "cell_type": "code",
      "source": [
        "print('Test time Logistic Regression:', test_time[0])\n",
        "print(\"Akurasi Logistic Regression:\", test_accuracy[0])"
      ],
      "metadata": {
        "id": "SaZWvvQgXcAn",
        "colab": {
          "base_uri": "https://localhost:8080/"
        },
        "outputId": "cae323e5-a73d-4f1a-d2eb-96d5c4b2f957"
      },
      "execution_count": null,
      "outputs": [
        {
          "output_type": "stream",
          "name": "stdout",
          "text": [
            "Test time Logistic Regression: 0.00816488265991211\n",
            "Akurasi Logistic Regression: 0.4544407560463383\n"
          ]
        }
      ]
    },
    {
      "cell_type": "markdown",
      "source": [
        "Test model 2"
      ],
      "metadata": {
        "id": "KQivNMUUdzMP"
      }
    },
    {
      "cell_type": "code",
      "source": [
        "start_time = time.time()\n",
        "Y_pred2 = model2.predict(X_test)\n",
        "end_time = time.time()"
      ],
      "metadata": {
        "id": "WJUrAUU2BzEl"
      },
      "execution_count": null,
      "outputs": []
    },
    {
      "cell_type": "code",
      "source": [
        "test_time.append(end_time-start_time)\n",
        "test_accuracy.append(model2.score(X_test, Y_test))"
      ],
      "metadata": {
        "id": "UxjRe0qvCna_"
      },
      "execution_count": null,
      "outputs": []
    },
    {
      "cell_type": "code",
      "source": [
        "print('Test time KNN:', test_time[1])\n",
        "print(\"Akurasi KNN:\", test_accuracy[1])"
      ],
      "metadata": {
        "colab": {
          "base_uri": "https://localhost:8080/"
        },
        "id": "9zkAr-NuZGrA",
        "outputId": "1de0eaed-f950-4258-8144-ca0d9ea79a84"
      },
      "execution_count": null,
      "outputs": [
        {
          "output_type": "stream",
          "name": "stdout",
          "text": [
            "Test time KNN: 0.11490058898925781\n",
            "Akurasi KNN: 0.8958742632612967\n"
          ]
        }
      ]
    },
    {
      "cell_type": "markdown",
      "source": [
        "Test model 3"
      ],
      "metadata": {
        "id": "tzeNiAH4eFa_"
      }
    },
    {
      "cell_type": "code",
      "source": [
        "start_time = time.time()\n",
        "Y_pred3 = model3.predict(X_test)\n",
        "end_time = time.time()"
      ],
      "metadata": {
        "id": "4l4Q5xjGDi5L"
      },
      "execution_count": null,
      "outputs": []
    },
    {
      "cell_type": "code",
      "source": [
        "test_time.append(end_time-start_time)\n",
        "test_accuracy.append(model3.score(X_test, Y_test))"
      ],
      "metadata": {
        "id": "ZChdv9PFDmM3"
      },
      "execution_count": null,
      "outputs": []
    },
    {
      "cell_type": "code",
      "execution_count": null,
      "metadata": {
        "colab": {
          "base_uri": "https://localhost:8080/"
        },
        "id": "5REiYU_UBJdn",
        "outputId": "532e98bf-2189-44b7-a79c-e6a8725713bf"
      },
      "outputs": [
        {
          "output_type": "stream",
          "name": "stdout",
          "text": [
            "Test time Random Forest: 0.4757270812988281\n",
            "Akurasi Random Forest: 0.8506198767021205\n"
          ]
        }
      ],
      "source": [
        "print('Test time Random Forest:', test_time[2])\n",
        "print(\"Akurasi Random Forest:\", test_accuracy[2])"
      ]
    },
    {
      "cell_type": "markdown",
      "source": [
        "Test model 4"
      ],
      "metadata": {
        "id": "dy7AB-IaeTiu"
      }
    },
    {
      "cell_type": "code",
      "source": [
        "start_time = time.time()\n",
        "Y_pred4 = model4.predict(X_test)\n",
        "end_time = time.time()"
      ],
      "metadata": {
        "id": "NO11G2LcDy9K"
      },
      "execution_count": null,
      "outputs": []
    },
    {
      "cell_type": "code",
      "source": [
        "test_time.append(end_time-start_time)\n",
        "test_accuracy.append(model4.score(X_test, Y_test))"
      ],
      "metadata": {
        "id": "y67BHkhLD2V5"
      },
      "execution_count": null,
      "outputs": []
    },
    {
      "cell_type": "code",
      "source": [
        "print('Test time:', test_time[3])\n",
        "print(\"Akurasi SVM:\", test_accuracy[3])"
      ],
      "metadata": {
        "colab": {
          "base_uri": "https://localhost:8080/"
        },
        "id": "Zo3y5TKVD98c",
        "outputId": "07201aa2-1fc2-4621-b2e8-26743c19f27d"
      },
      "execution_count": null,
      "outputs": [
        {
          "output_type": "stream",
          "name": "stdout",
          "text": [
            "Test time: 49.50862383842468\n",
            "Akurasi SVM: 0.514328297540817\n"
          ]
        }
      ]
    },
    {
      "cell_type": "markdown",
      "source": [
        "Test model 5"
      ],
      "metadata": {
        "id": "ySVSQdRXAXdq"
      }
    },
    {
      "cell_type": "code",
      "source": [
        "start_time = time.time()\n",
        "Y_pred5 = model5.predict(X_test)\n",
        "end_time = time.time()"
      ],
      "metadata": {
        "id": "InsN457CAZKo"
      },
      "execution_count": null,
      "outputs": []
    },
    {
      "cell_type": "code",
      "source": [
        "test_time.append(end_time-start_time)\n",
        "test_accuracy.append(model5.score(X_test, Y_test))"
      ],
      "metadata": {
        "id": "3lauCKIcAhSV"
      },
      "execution_count": null,
      "outputs": []
    },
    {
      "cell_type": "code",
      "source": [
        "print('Test time:', test_time[4])\n",
        "print(\"Akurasi Naive Bayes:\", test_accuracy[4])"
      ],
      "metadata": {
        "colab": {
          "base_uri": "https://localhost:8080/"
        },
        "id": "E4gx1BrnEKfR",
        "outputId": "9042808e-1a4c-41ae-910f-3eb98ccb4099"
      },
      "execution_count": null,
      "outputs": [
        {
          "output_type": "stream",
          "name": "stdout",
          "text": [
            "Test time: 0.004961729049682617\n",
            "Akurasi Naive Bayes: 0.9185014565408848\n"
          ]
        }
      ]
    },
    {
      "cell_type": "markdown",
      "source": [
        "Visualisasi akurasi test"
      ],
      "metadata": {
        "id": "NuBucHjmeee2"
      }
    },
    {
      "cell_type": "code",
      "source": [
        "plt.figure(figsize=(20,5),num=10)\n",
        "plt.subplot(131)\n",
        "plt.title(\"Test Accuracy Comparison\")\n",
        "colors = [\"darkturquoise\" if i == max(test_accuracy) else \"paleturquoise\" for i in test_accuracy]\n",
        "plt.bar(names,test_accuracy,color=colors)"
      ],
      "metadata": {
        "colab": {
          "base_uri": "https://localhost:8080/",
          "height": 353
        },
        "id": "WgG9mG-ZcL3n",
        "outputId": "981def19-5810-4c73-aaa1-5b7dac58083a"
      },
      "execution_count": null,
      "outputs": [
        {
          "output_type": "execute_result",
          "data": {
            "text/plain": [
              "<BarContainer object of 5 artists>"
            ]
          },
          "metadata": {},
          "execution_count": 80
        },
        {
          "output_type": "display_data",
          "data": {
            "text/plain": [
              "<Figure size 1440x360 with 1 Axes>"
            ],
            "image/png": "[encoded data removed]"
          },
          "metadata": {
            "needs_background": "light"
          }
        }
      ]
    },
    {
      "cell_type": "code",
      "source": [
        "plt.figure(figsize=(20,5),num=10)\n",
        "plt.subplot(131)\n",
        "plt.ylim(0,0.6)\n",
        "plt.title(\"Test Time Comparison\")\n",
        "colors = [\"darkturquoise\" if i == min(test_time) else \"paleturquoise\" for i in test_time]\n",
        "plt.bar(names,test_time,color=colors)"
      ],
      "metadata": {
        "colab": {
          "base_uri": "https://localhost:8080/",
          "height": 353
        },
        "id": "4lnsoHWqHn1J",
        "outputId": "7c43b873-bc29-4d37-9b58-eb8370650488"
      },
      "execution_count": null,
      "outputs": [
        {
          "output_type": "execute_result",
          "data": {
            "text/plain": [
              "<BarContainer object of 5 artists>"
            ]
          },
          "metadata": {},
          "execution_count": 81
        },
        {
          "output_type": "display_data",
          "data": {
            "text/plain": [
              "<Figure size 1440x360 with 1 Axes>"
            ],
            "image/png": "[encoded data removed]"
          },
          "metadata": {
            "needs_background": "light"
          }
        }
      ]
    },
    {
      "cell_type": "markdown",
      "source": [
        "###Confussion metric"
      ],
      "metadata": {
        "id": "Nv4q30yqgGj4"
      }
    },
    {
      "cell_type": "code",
      "source": [
        "def conf_matrix_viz(confussion_matrix):\n",
        "  fig, ax = plt.subplots(figsize=(5, 5))\n",
        "  ax.matshow(confussion_matrix, cmap=plt.cm.Oranges, alpha=0.3)\n",
        "  for i in range(confussion_matrix.shape[0]):\n",
        "      for j in range(confussion_matrix.shape[1]):\n",
        "          ax.text(x=j, y=i,s=confussion_matrix[i, j], va='center', ha='center', size='xx-large')\n",
        "  plt.xlabel('Predictions', fontsize=18)\n",
        "  plt.ylabel('Actuals', fontsize=18)\n",
        "  plt.title('Confusion Matrix', fontsize=18)\n",
        "  plt.show()"
      ],
      "metadata": {
        "id": "8bdL16cXgLiO"
      },
      "execution_count": null,
      "outputs": []
    },
    {
      "cell_type": "code",
      "source": [
        "conf_matrix1 = confusion_matrix(y_true=Y_test, y_pred=Y_pred1, labels=[0, 1])\n",
        "conf_matrix_viz(conf_matrix1)"
      ],
      "metadata": {
        "colab": {
          "base_uri": "https://localhost:8080/",
          "height": 358
        },
        "id": "NvGtJutZgJ0I",
        "outputId": "bd950d2c-72b0-4110-ba60-39ffa703a58c"
      },
      "execution_count": null,
      "outputs": [
        {
          "output_type": "display_data",
          "data": {
            "text/plain": [
              "<Figure size 360x360 with 1 Axes>"
            ],
            "image/png": "[encoded data removed]"
          },
          "metadata": {
            "needs_background": "light"
          }
        }
      ]
    },
    {
      "cell_type": "code",
      "source": [
        "conf_matrix2 = confusion_matrix(y_true=Y_test, y_pred=Y_pred2, labels=[0, 1])\n",
        "conf_matrix_viz(conf_matrix2)"
      ],
      "metadata": {
        "colab": {
          "base_uri": "https://localhost:8080/",
          "height": 358
        },
        "id": "vPFJtMNOwJM1",
        "outputId": "e205b0b9-b7ec-424b-932a-0a83cda562dc"
      },
      "execution_count": null,
      "outputs": [
        {
          "output_type": "display_data",
          "data": {
            "text/plain": [
              "<Figure size 360x360 with 1 Axes>"
            ],
            "image/png": "[encoded data removed]"
          },
          "metadata": {
            "needs_background": "light"
          }
        }
      ]
    },
    {
      "cell_type": "code",
      "source": [
        "conf_matrix3 = confusion_matrix(y_true=Y_test, y_pred=Y_pred3, labels=[0, 1])\n",
        "conf_matrix_viz(conf_matrix3)"
      ],
      "metadata": {
        "colab": {
          "base_uri": "https://localhost:8080/",
          "height": 358
        },
        "id": "MV8iD2qQwkE8",
        "outputId": "2254b8c1-ad81-472f-cc56-12e5080b6cc0"
      },
      "execution_count": null,
      "outputs": [
        {
          "output_type": "display_data",
          "data": {
            "text/plain": [
              "<Figure size 360x360 with 1 Axes>"
            ],
            "image/png": "[encoded data removed]"
          },
          "metadata": {
            "needs_background": "light"
          }
        }
      ]
    },
    {
      "cell_type": "code",
      "source": [
        "conf_matrix4 = confusion_matrix(y_true=Y_test, y_pred=Y_pred4, labels=[0, 1])\n",
        "conf_matrix_viz(conf_matrix4)"
      ],
      "metadata": {
        "colab": {
          "base_uri": "https://localhost:8080/",
          "height": 358
        },
        "id": "sGidRIM5wsx7",
        "outputId": "67d058da-11af-4d17-b130-6804afb207db"
      },
      "execution_count": null,
      "outputs": [
        {
          "output_type": "display_data",
          "data": {
            "text/plain": [
              "<Figure size 360x360 with 1 Axes>"
            ],
            "image/png": "[encoded data removed]"
          },
          "metadata": {
            "needs_background": "light"
          }
        }
      ]
    },
    {
      "cell_type": "code",
      "source": [
        "conf_matrix5 = confusion_matrix(y_true=Y_test, y_pred=Y_pred5, labels=[0, 1])\n",
        "conf_matrix_viz(conf_matrix5)"
      ],
      "metadata": {
        "colab": {
          "base_uri": "https://localhost:8080/",
          "height": 358
        },
        "id": "s3DbdF3-EuKx",
        "outputId": "2b6ccd6b-36b7-4dd6-f415-6a5cdabc6f7c"
      },
      "execution_count": null,
      "outputs": [
        {
          "output_type": "display_data",
          "data": {
            "text/plain": [
              "<Figure size 360x360 with 1 Axes>"
            ],
            "image/png": "[encoded data removed]"
          },
          "metadata": {
            "needs_background": "light"
          }
        }
      ]
    },
    {
      "cell_type": "markdown",
      "source": [
        "###Classification Report"
      ],
      "metadata": {
        "id": "DwwnkclKE0vi"
      }
    },
    {
      "cell_type": "code",
      "source": [
        "def class_report(y_pred):\n",
        "  report = classification_report(Y_test,\n",
        "                                   y_pred,\n",
        "                                   labels=[0,1],\n",
        "                                   target_names=list(\"01\"),\n",
        "                                   output_dict=True)\n",
        "  return sns.heatmap(pd.DataFrame(report).iloc[:-1, :].T, annot=True)"
      ],
      "metadata": {
        "id": "iLzotXN8I7Om"
      },
      "execution_count": null,
      "outputs": []
    },
    {
      "cell_type": "code",
      "source": [
        "class_report(Y_pred1)"
      ],
      "metadata": {
        "colab": {
          "base_uri": "https://localhost:8080/",
          "height": 282
        },
        "id": "Z1DDCGPKzhr9",
        "outputId": "a2f8374e-f5f3-431b-f2b6-74c0c0624be7"
      },
      "execution_count": null,
      "outputs": [
        {
          "output_type": "execute_result",
          "data": {
            "text/plain": [
              "<matplotlib.axes._subplots.AxesSubplot at 0x7fdc21c28d90>"
            ]
          },
          "metadata": {},
          "execution_count": 89
        },
        {
          "output_type": "display_data",
          "data": {
            "text/plain": [
              "<Figure size 432x288 with 2 Axes>"
            ],
            "image/png": "[encoded data removed]"
          },
          "metadata": {
            "needs_background": "light"
          }
        }
      ]
    },
    {
      "cell_type": "code",
      "source": [
        "class_report(Y_pred2)"
      ],
      "metadata": {
        "colab": {
          "base_uri": "https://localhost:8080/",
          "height": 282
        },
        "id": "pDj07XQ9Jarh",
        "outputId": "2724c84c-f840-4a22-fcdb-efdb19a65301"
      },
      "execution_count": null,
      "outputs": [
        {
          "output_type": "execute_result",
          "data": {
            "text/plain": [
              "<matplotlib.axes._subplots.AxesSubplot at 0x7fdc1d432fd0>"
            ]
          },
          "metadata": {},
          "execution_count": 90
        },
        {
          "output_type": "display_data",
          "data": {
            "text/plain": [
              "<Figure size 432x288 with 2 Axes>"
            ],
            "image/png": "[encoded data removed]"
          },
          "metadata": {
            "needs_background": "light"
          }
        }
      ]
    },
    {
      "cell_type": "code",
      "source": [
        "class_report(Y_pred3)"
      ],
      "metadata": {
        "colab": {
          "base_uri": "https://localhost:8080/",
          "height": 282
        },
        "id": "DQHvoUMVI0Rs",
        "outputId": "64265ee8-4140-4edc-d335-82f1d72c08bf"
      },
      "execution_count": null,
      "outputs": [
        {
          "output_type": "execute_result",
          "data": {
            "text/plain": [
              "<matplotlib.axes._subplots.AxesSubplot at 0x7fdc1d261890>"
            ]
          },
          "metadata": {},
          "execution_count": 91
        },
        {
          "output_type": "display_data",
          "data": {
            "text/plain": [
              "<Figure size 432x288 with 2 Axes>"
            ],
            "image/png": "[encoded data removed]"
          },
          "metadata": {
            "needs_background": "light"
          }
        }
      ]
    },
    {
      "cell_type": "code",
      "source": [
        "class_report(Y_pred4)"
      ],
      "metadata": {
        "colab": {
          "base_uri": "https://localhost:8080/",
          "height": 282
        },
        "id": "ngAVcxo5K8L5",
        "outputId": "b0e6b5e2-7ab4-4be6-9160-dcdb78a79f2b"
      },
      "execution_count": null,
      "outputs": [
        {
          "output_type": "execute_result",
          "data": {
            "text/plain": [
              "<matplotlib.axes._subplots.AxesSubplot at 0x7fdc1d253490>"
            ]
          },
          "metadata": {},
          "execution_count": 92
        },
        {
          "output_type": "display_data",
          "data": {
            "text/plain": [
              "<Figure size 432x288 with 2 Axes>"
            ],
            "image/png": "[encoded data removed]"
          },
          "metadata": {
            "needs_background": "light"
          }
        }
      ]
    },
    {
      "cell_type": "code",
      "source": [
        "class_report(Y_pred5)"
      ],
      "metadata": {
        "colab": {
          "base_uri": "https://localhost:8080/",
          "height": 410
        },
        "id": "xdpTNRZOK8oA",
        "outputId": "79c14a46-dcf5-439c-e13f-d672711ff480"
      },
      "execution_count": null,
      "outputs": [
        {
          "output_type": "stream",
          "name": "stderr",
          "text": [
            "/usr/local/lib/python3.7/dist-packages/sklearn/metrics/_classification.py:1318: UndefinedMetricWarning: Precision and F-score are ill-defined and being set to 0.0 in labels with no predicted samples. Use `zero_division` parameter to control this behavior.\n",
            "  _warn_prf(average, modifier, msg_start, len(result))\n",
            "/usr/local/lib/python3.7/dist-packages/sklearn/metrics/_classification.py:1318: UndefinedMetricWarning: Precision and F-score are ill-defined and being set to 0.0 in labels with no predicted samples. Use `zero_division` parameter to control this behavior.\n",
            "  _warn_prf(average, modifier, msg_start, len(result))\n",
            "/usr/local/lib/python3.7/dist-packages/sklearn/metrics/_classification.py:1318: UndefinedMetricWarning: Precision and F-score are ill-defined and being set to 0.0 in labels with no predicted samples. Use `zero_division` parameter to control this behavior.\n",
            "  _warn_prf(average, modifier, msg_start, len(result))\n"
          ]
        },
        {
          "output_type": "execute_result",
          "data": {
            "text/plain": [
              "<matplotlib.axes._subplots.AxesSubplot at 0x7fdc1d2e3710>"
            ]
          },
          "metadata": {},
          "execution_count": 93
        },
        {
          "output_type": "display_data",
          "data": {
            "text/plain": [
              "<Figure size 432x288 with 2 Axes>"
            ],
            "image/png": "[encoded data removed]"
          },
          "metadata": {
            "needs_background": "light"
          }
        }
      ]
    },
    {
      "cell_type": "markdown",
      "source": [
        "#Evaluate"
      ],
      "metadata": {
        "id": "PsXIClg8drte"
      }
    },
    {
      "cell_type": "markdown",
      "source": [
        "Berdasarkan hasil evaluasi Naive Bayes(model 5) mempunya akurasi yang tinggi dan waktu test yang sangat cepat namun berdasarkan pengujian confussion metric dan F1 score hanya menebak label 0. hal ini akan sangat berpengaruh ketika model di deploy karena model tidak bisa menilai mana yang akan kemungkinan terlambat dalam pembayaran pinjaman.\n",
        "\n",
        "Alternatif selanjutnya adalah **KNN(model 2)** dengan accuracy tertinggi kedua, namun pada macro avg f1 score nya masih lebih rendah dari **RF(model 3)**\n",
        "\n",
        "Dari hasil ini saya memutuskan untuk memilih **RF(model 3)** dengan pertimbangan nilai macro avg f1 score yang lebih baik"
      ],
      "metadata": {
        "id": "zZpwvusAMDT5"
      }
    }
  ]
}